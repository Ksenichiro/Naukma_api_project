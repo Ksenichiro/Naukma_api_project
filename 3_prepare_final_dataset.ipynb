{
 "cells": [
  {
   "cell_type": "code",
   "execution_count": 1,
   "id": "4ba95462",
   "metadata": {},
   "outputs": [],
   "source": [
    "import datetime\n",
    "import calendar\n",
    "import numpy as np\n",
    "import pandas as pd\n",
    "\n",
    "import pickle\n",
    "\n",
    "from sklearn.feature_extraction.text import TfidfTransformer"
   ]
  },
  {
   "cell_type": "code",
   "execution_count": 2,
   "id": "c5f8b892",
   "metadata": {},
   "outputs": [],
   "source": [
    "pd.set_option('display.max_columns', None)\n",
    "pd.set_option('display.max_rows', None)"
   ]
  },
  {
   "cell_type": "code",
   "execution_count": 3,
   "id": "c37b5162",
   "metadata": {},
   "outputs": [],
   "source": [
    "INPUT_DATA_FOLDER = \"data/2_isw_preprocessed\"\n",
    "REPORTS_DATA_FILE = \"all_days.csv\"\n",
    "\n",
    "OUTPUT_FOLDER = \"data/4_all_data_preprocessed\"\n",
    "ISW_OUTPUT_DATA_FILE = \"all_isw.csv\"\n",
    "WEATHER_EVENTS_OUTPUT_DATA_FILE = \"all_hourly_weather_events.csv\"\n",
    "\n",
    "MODEL_FOLDER = \"model\"\n",
    "\n",
    "tfidf_transformer_model = \"tfidf_transformer\"\n",
    "count_vectorizer_model = \"count_vectorizer\"\n",
    "\n",
    "tfidf_transformer_version = \"v2\"\n",
    "count_vectorizer_version = \"v2\""
   ]
  },
  {
   "cell_type": "code",
   "execution_count": 4,
   "id": "699f3dc8",
   "metadata": {},
   "outputs": [],
   "source": [
    "def isNaN(num):\n",
    "    return num != num"
   ]
  },
  {
   "cell_type": "markdown",
   "id": "c78b36e9",
   "metadata": {},
   "source": [
    "## reading data"
   ]
  },
  {
   "cell_type": "code",
   "execution_count": 5,
   "id": "f2dac73d",
   "metadata": {},
   "outputs": [],
   "source": [
    "df_isw = pd.read_csv(f\"{INPUT_DATA_FOLDER}/{REPORTS_DATA_FILE}\", sep=\";\")"
   ]
  },
  {
   "cell_type": "code",
   "execution_count": 6,
   "id": "028a3a1d",
   "metadata": {},
   "outputs": [
    {
     "data": {
      "text/plain": "         date                                               text  \\\n0  2022-03-01  SNAZ units throughout Kherson City on March 1,...   \n1  2022-03-02  SNAZ units throughout Kherson City on March 1,...   \n2  2022-03-03  \\n\\n\\n\\n\\n\\n\\n\\n\\nRussian Offensive Campaign A...   \n3  2022-03-04  \\n\\n\\n\\n\\n\\n\\n\\n\\nRussian Offensive Campaign A...   \n4  2022-03-05  \\n\\n\\n\\n\\n\\n\\n\\n\\nRussian Offensive Campaign A...   \n\n                                                lemm  \\\n0   snaz unit throughout kherson citi march ukrai...   \n1   snaz unit throughout kherson citi march inclu...   \n2   russian offens campaign ass march institut st...   \n3   russian offens campaign ass march institut st...   \n4   russian offens campaign ass march institut st...   \n\n                                               stemm  \n0   snaz unit throughout kherson citi march ukrai...  \n1   snaz unit throughout kherson citi march inclu...  \n2   russian offen campaign assess march institut ...  \n3   russian offen campaign assess march institut ...  \n4   russian offen campaign assess march institut ...  ",
      "text/html": "<div>\n<style scoped>\n    .dataframe tbody tr th:only-of-type {\n        vertical-align: middle;\n    }\n\n    .dataframe tbody tr th {\n        vertical-align: top;\n    }\n\n    .dataframe thead th {\n        text-align: right;\n    }\n</style>\n<table border=\"1\" class=\"dataframe\">\n  <thead>\n    <tr style=\"text-align: right;\">\n      <th></th>\n      <th>date</th>\n      <th>text</th>\n      <th>lemm</th>\n      <th>stemm</th>\n    </tr>\n  </thead>\n  <tbody>\n    <tr>\n      <th>0</th>\n      <td>2022-03-01</td>\n      <td>SNAZ units throughout Kherson City on March 1,...</td>\n      <td>snaz unit throughout kherson citi march ukrai...</td>\n      <td>snaz unit throughout kherson citi march ukrai...</td>\n    </tr>\n    <tr>\n      <th>1</th>\n      <td>2022-03-02</td>\n      <td>SNAZ units throughout Kherson City on March 1,...</td>\n      <td>snaz unit throughout kherson citi march inclu...</td>\n      <td>snaz unit throughout kherson citi march inclu...</td>\n    </tr>\n    <tr>\n      <th>2</th>\n      <td>2022-03-03</td>\n      <td>\\n\\n\\n\\n\\n\\n\\n\\n\\nRussian Offensive Campaign A...</td>\n      <td>russian offens campaign ass march institut st...</td>\n      <td>russian offen campaign assess march institut ...</td>\n    </tr>\n    <tr>\n      <th>3</th>\n      <td>2022-03-04</td>\n      <td>\\n\\n\\n\\n\\n\\n\\n\\n\\nRussian Offensive Campaign A...</td>\n      <td>russian offens campaign ass march institut st...</td>\n      <td>russian offen campaign assess march institut ...</td>\n    </tr>\n    <tr>\n      <th>4</th>\n      <td>2022-03-05</td>\n      <td>\\n\\n\\n\\n\\n\\n\\n\\n\\nRussian Offensive Campaign A...</td>\n      <td>russian offens campaign ass march institut st...</td>\n      <td>russian offen campaign assess march institut ...</td>\n    </tr>\n  </tbody>\n</table>\n</div>"
     },
     "execution_count": 6,
     "metadata": {},
     "output_type": "execute_result"
    }
   ],
   "source": [
    "df_isw.head(5)"
   ]
  },
  {
   "cell_type": "markdown",
   "id": "a557a7ed",
   "metadata": {},
   "source": [
    "## preparing ISW reports"
   ]
  },
  {
   "cell_type": "markdown",
   "id": "b08a5bed",
   "metadata": {},
   "source": [
    "## reading models"
   ]
  },
  {
   "cell_type": "code",
   "execution_count": 7,
   "id": "d9ddffee",
   "metadata": {},
   "outputs": [],
   "source": [
    "#load the content\n",
    "tfidf = pickle.load(open(f\"{MODEL_FOLDER}/{tfidf_transformer_model}_{tfidf_transformer_version}.pkl\", \"rb\"))\n",
    "cv = pickle.load(open(f\"{MODEL_FOLDER}/{count_vectorizer_model}_{count_vectorizer_version}.pkl\", \"rb\"))"
   ]
  },
  {
   "cell_type": "code",
   "execution_count": 8,
   "outputs": [],
   "source": [
    "def sort_coo(matrix):\n",
    "    tuples = zip(matrix.col, matrix.data)\n",
    "    return sorted(tuples, key=lambda x: (x[1], x[0]), reverse=True)\n",
    "\n",
    "def extract_top_n_from_vector(feature_names, sorted_items, n):\n",
    "    sorted_items = sorted_items[:n]\n",
    "\n",
    "    score_vals = []\n",
    "    feature_vals = []\n",
    "\n",
    "    #word index\n",
    "    for idx, score in sorted_items:\n",
    "        score_vals.append(round(score, 3))\n",
    "        feature_vals.append(feature_names[idx])\n",
    "\n",
    "    results = {}\n",
    "    for idx in range(len(feature_vals)):\n",
    "        results[feature_vals[idx]] = score_vals[idx]\n",
    "\n",
    "    return results\n",
    "\n",
    "def convert_to_vector(doc, tfidf_transformer, count_vectorized):\n",
    "    feature_names = count_vectorized.get_feature_names_out()\n",
    "    n = 100\n",
    "    tfidf_vector = tfidf_transformer.transform(count_vectorized.transform([doc]))\n",
    "\n",
    "    sorted_items = sort_coo(tfidf_vector.tocoo())\n",
    "\n",
    "    keywords = extract_top_n_from_vector(feature_names, sorted_items, n)\n",
    "\n",
    "    return keywords"
   ],
   "metadata": {
    "collapsed": false,
    "pycharm": {
     "name": "#%%\n"
    }
   }
  },
  {
   "cell_type": "code",
   "execution_count": 9,
   "id": "88a435a4",
   "metadata": {},
   "outputs": [],
   "source": [
    "df_isw['keywords'] = df_isw['lemm'].apply(lambda x: convert_to_vector(x, tfidf, cv))"
   ]
  },
  {
   "cell_type": "code",
   "execution_count": 10,
   "id": "6fc96d61",
   "metadata": {},
   "outputs": [
    {
     "data": {
      "text/plain": "         date                                               text  \\\n0  2022-03-01  SNAZ units throughout Kherson City on March 1,...   \n1  2022-03-02  SNAZ units throughout Kherson City on March 1,...   \n2  2022-03-03  \\n\\n\\n\\n\\n\\n\\n\\n\\nRussian Offensive Campaign A...   \n3  2022-03-04  \\n\\n\\n\\n\\n\\n\\n\\n\\nRussian Offensive Campaign A...   \n4  2022-03-05  \\n\\n\\n\\n\\n\\n\\n\\n\\nRussian Offensive Campaign A...   \n\n                                                lemm  \\\n0   snaz unit throughout kherson citi march ukrai...   \n1   snaz unit throughout kherson citi march inclu...   \n2   russian offens campaign ass march institut st...   \n3   russian offens campaign ass march institut st...   \n4   russian offens campaign ass march institut st...   \n\n                                               stemm  \\\n0   snaz unit throughout kherson citi march ukrai...   \n1   snaz unit throughout kherson citi march inclu...   \n2   russian offen campaign assess march institut ...   \n3   russian offen campaign assess march institut ...   \n4   russian offen campaign assess march institut ...   \n\n                                            keywords  \n0  {'snaz': 0.345, 'commenc': 0.295, 'desna': 0.2...  \n1  {'mykolayiv': 0.494, 'toward': 0.264, 'march':...  \n2  {'march': 0.501, 'kyiv': 0.361, 'chernihiv': 0...  \n3  {'kyiv': 0.352, 'mykolayiv': 0.205, 'march': 0...  \n4  {'march': 0.335, 'kyiv': 0.317, 'hour': 0.211,...  ",
      "text/html": "<div>\n<style scoped>\n    .dataframe tbody tr th:only-of-type {\n        vertical-align: middle;\n    }\n\n    .dataframe tbody tr th {\n        vertical-align: top;\n    }\n\n    .dataframe thead th {\n        text-align: right;\n    }\n</style>\n<table border=\"1\" class=\"dataframe\">\n  <thead>\n    <tr style=\"text-align: right;\">\n      <th></th>\n      <th>date</th>\n      <th>text</th>\n      <th>lemm</th>\n      <th>stemm</th>\n      <th>keywords</th>\n    </tr>\n  </thead>\n  <tbody>\n    <tr>\n      <th>0</th>\n      <td>2022-03-01</td>\n      <td>SNAZ units throughout Kherson City on March 1,...</td>\n      <td>snaz unit throughout kherson citi march ukrai...</td>\n      <td>snaz unit throughout kherson citi march ukrai...</td>\n      <td>{'snaz': 0.345, 'commenc': 0.295, 'desna': 0.2...</td>\n    </tr>\n    <tr>\n      <th>1</th>\n      <td>2022-03-02</td>\n      <td>SNAZ units throughout Kherson City on March 1,...</td>\n      <td>snaz unit throughout kherson citi march inclu...</td>\n      <td>snaz unit throughout kherson citi march inclu...</td>\n      <td>{'mykolayiv': 0.494, 'toward': 0.264, 'march':...</td>\n    </tr>\n    <tr>\n      <th>2</th>\n      <td>2022-03-03</td>\n      <td>\\n\\n\\n\\n\\n\\n\\n\\n\\nRussian Offensive Campaign A...</td>\n      <td>russian offens campaign ass march institut st...</td>\n      <td>russian offen campaign assess march institut ...</td>\n      <td>{'march': 0.501, 'kyiv': 0.361, 'chernihiv': 0...</td>\n    </tr>\n    <tr>\n      <th>3</th>\n      <td>2022-03-04</td>\n      <td>\\n\\n\\n\\n\\n\\n\\n\\n\\nRussian Offensive Campaign A...</td>\n      <td>russian offens campaign ass march institut st...</td>\n      <td>russian offen campaign assess march institut ...</td>\n      <td>{'kyiv': 0.352, 'mykolayiv': 0.205, 'march': 0...</td>\n    </tr>\n    <tr>\n      <th>4</th>\n      <td>2022-03-05</td>\n      <td>\\n\\n\\n\\n\\n\\n\\n\\n\\nRussian Offensive Campaign A...</td>\n      <td>russian offens campaign ass march institut st...</td>\n      <td>russian offen campaign assess march institut ...</td>\n      <td>{'march': 0.335, 'kyiv': 0.317, 'hour': 0.211,...</td>\n    </tr>\n  </tbody>\n</table>\n</div>"
     },
     "execution_count": 10,
     "metadata": {},
     "output_type": "execute_result"
    }
   ],
   "source": [
    "df_isw.head(5)\n"
   ]
  },
  {
   "cell_type": "code",
   "execution_count": 11,
   "id": "3d09da4f",
   "metadata": {},
   "outputs": [],
   "source": [
    "df_isw[\"date_datetime\"] = pd.to_datetime(df_isw[\"date\"])"
   ]
  },
  {
   "cell_type": "code",
   "execution_count": 12,
   "id": "84625aed",
   "metadata": {},
   "outputs": [],
   "source": [
    "df_isw['date_tomorrow_datetime'] = df_isw['date_datetime'].apply(lambda x: x+datetime.timedelta(days=1))"
   ]
  },
  {
   "cell_type": "code",
   "execution_count": 13,
   "id": "6c9524e5",
   "metadata": {},
   "outputs": [],
   "source": [
    "df_isw = df_isw.rename(columns = {\"date_datetime\":\"report_date\"})\n",
    "df_isw.to_csv(f\"{OUTPUT_FOLDER}/{ISW_OUTPUT_DATA_FILE}\", sep=\";\", index=False)"
   ]
  },
  {
   "cell_type": "code",
   "execution_count": 14,
   "id": "f861134e",
   "metadata": {},
   "outputs": [
    {
     "data": {
      "text/plain": "         date                                               text  \\\n0  2022-03-01  SNAZ units throughout Kherson City on March 1,...   \n1  2022-03-02  SNAZ units throughout Kherson City on March 1,...   \n2  2022-03-03  \\n\\n\\n\\n\\n\\n\\n\\n\\nRussian Offensive Campaign A...   \n3  2022-03-04  \\n\\n\\n\\n\\n\\n\\n\\n\\nRussian Offensive Campaign A...   \n4  2022-03-05  \\n\\n\\n\\n\\n\\n\\n\\n\\nRussian Offensive Campaign A...   \n\n                                                lemm  \\\n0   snaz unit throughout kherson citi march ukrai...   \n1   snaz unit throughout kherson citi march inclu...   \n2   russian offens campaign ass march institut st...   \n3   russian offens campaign ass march institut st...   \n4   russian offens campaign ass march institut st...   \n\n                                               stemm  \\\n0   snaz unit throughout kherson citi march ukrai...   \n1   snaz unit throughout kherson citi march inclu...   \n2   russian offen campaign assess march institut ...   \n3   russian offen campaign assess march institut ...   \n4   russian offen campaign assess march institut ...   \n\n                                            keywords report_date  \\\n0  {'snaz': 0.345, 'commenc': 0.295, 'desna': 0.2...  2022-03-01   \n1  {'mykolayiv': 0.494, 'toward': 0.264, 'march':...  2022-03-02   \n2  {'march': 0.501, 'kyiv': 0.361, 'chernihiv': 0...  2022-03-03   \n3  {'kyiv': 0.352, 'mykolayiv': 0.205, 'march': 0...  2022-03-04   \n4  {'march': 0.335, 'kyiv': 0.317, 'hour': 0.211,...  2022-03-05   \n\n  date_tomorrow_datetime  \n0             2022-03-02  \n1             2022-03-03  \n2             2022-03-04  \n3             2022-03-05  \n4             2022-03-06  ",
      "text/html": "<div>\n<style scoped>\n    .dataframe tbody tr th:only-of-type {\n        vertical-align: middle;\n    }\n\n    .dataframe tbody tr th {\n        vertical-align: top;\n    }\n\n    .dataframe thead th {\n        text-align: right;\n    }\n</style>\n<table border=\"1\" class=\"dataframe\">\n  <thead>\n    <tr style=\"text-align: right;\">\n      <th></th>\n      <th>date</th>\n      <th>text</th>\n      <th>lemm</th>\n      <th>stemm</th>\n      <th>keywords</th>\n      <th>report_date</th>\n      <th>date_tomorrow_datetime</th>\n    </tr>\n  </thead>\n  <tbody>\n    <tr>\n      <th>0</th>\n      <td>2022-03-01</td>\n      <td>SNAZ units throughout Kherson City on March 1,...</td>\n      <td>snaz unit throughout kherson citi march ukrai...</td>\n      <td>snaz unit throughout kherson citi march ukrai...</td>\n      <td>{'snaz': 0.345, 'commenc': 0.295, 'desna': 0.2...</td>\n      <td>2022-03-01</td>\n      <td>2022-03-02</td>\n    </tr>\n    <tr>\n      <th>1</th>\n      <td>2022-03-02</td>\n      <td>SNAZ units throughout Kherson City on March 1,...</td>\n      <td>snaz unit throughout kherson citi march inclu...</td>\n      <td>snaz unit throughout kherson citi march inclu...</td>\n      <td>{'mykolayiv': 0.494, 'toward': 0.264, 'march':...</td>\n      <td>2022-03-02</td>\n      <td>2022-03-03</td>\n    </tr>\n    <tr>\n      <th>2</th>\n      <td>2022-03-03</td>\n      <td>\\n\\n\\n\\n\\n\\n\\n\\n\\nRussian Offensive Campaign A...</td>\n      <td>russian offens campaign ass march institut st...</td>\n      <td>russian offen campaign assess march institut ...</td>\n      <td>{'march': 0.501, 'kyiv': 0.361, 'chernihiv': 0...</td>\n      <td>2022-03-03</td>\n      <td>2022-03-04</td>\n    </tr>\n    <tr>\n      <th>3</th>\n      <td>2022-03-04</td>\n      <td>\\n\\n\\n\\n\\n\\n\\n\\n\\nRussian Offensive Campaign A...</td>\n      <td>russian offens campaign ass march institut st...</td>\n      <td>russian offen campaign assess march institut ...</td>\n      <td>{'kyiv': 0.352, 'mykolayiv': 0.205, 'march': 0...</td>\n      <td>2022-03-04</td>\n      <td>2022-03-05</td>\n    </tr>\n    <tr>\n      <th>4</th>\n      <td>2022-03-05</td>\n      <td>\\n\\n\\n\\n\\n\\n\\n\\n\\nRussian Offensive Campaign A...</td>\n      <td>russian offens campaign ass march institut st...</td>\n      <td>russian offen campaign assess march institut ...</td>\n      <td>{'march': 0.335, 'kyiv': 0.317, 'hour': 0.211,...</td>\n      <td>2022-03-05</td>\n      <td>2022-03-06</td>\n    </tr>\n  </tbody>\n</table>\n</div>"
     },
     "execution_count": 14,
     "metadata": {},
     "output_type": "execute_result"
    }
   ],
   "source": [
    "df_isw.head(5)"
   ]
  },
  {
   "cell_type": "markdown",
   "id": "3b306d5f",
   "metadata": {},
   "source": [
    "## prepare events data"
   ]
  },
  {
   "cell_type": "code",
   "execution_count": 15,
   "id": "43a0cf0e",
   "metadata": {},
   "outputs": [],
   "source": [
    "EVENTS_DATA_FOLDER = \"data/1_events\"\n",
    "EVENTS_DATA_FILE = \"4FeaturesGenerated.csv\""
   ]
  },
  {
   "cell_type": "code",
   "execution_count": 16,
   "id": "25edb612",
   "metadata": {},
   "outputs": [],
   "source": [
    "df_events = pd.read_csv(f\"{EVENTS_DATA_FOLDER}/{EVENTS_DATA_FILE}\", sep=\";\")\n",
    "#df_events.drop(['delete_2', 'delete_3'], axis=1, inplace=True)"
   ]
  },
  {
   "cell_type": "code",
   "execution_count": 17,
   "id": "f1d9e1cd",
   "metadata": {},
   "outputs": [],
   "source": [
    "df_events_v2 = df_events.drop([\"id\",\"region_id\"],axis=1)"
   ]
  },
  {
   "cell_type": "code",
   "execution_count": 18,
   "id": "07ff2ea6",
   "metadata": {},
   "outputs": [
    {
     "data": {
      "text/plain": "  region_title region_city  all_region                start  \\\n0   Вінниччина     Вінниця           0  2022-02-25 22:55:42   \n1    Львівщина       Львів           0  2022-02-26 06:26:17   \n2      Одещина       Одеса           0  2022-02-26 07:16:58   \n3  Житомирщина     Житомир           0  2022-02-26 08:05:54   \n4   Вінниччина     Вінниця           0  2022-02-26 08:39:39   \n\n                   end            clean_end  intersection_alarm_id  \\\n0  2022-02-25 23:41:53  2022-02-25 23:41:53                    NaN   \n1  2022-02-26 07:15:28  2022-02-26 07:15:28                    NaN   \n2  2022-02-26 07:47:03  2022-02-26 07:47:03                    NaN   \n3  2022-02-26 09:36:36  2022-02-26 09:36:36                    NaN   \n4  2022-02-26 10:42:41  2022-02-26 10:42:41                    NaN   \n\n   alarms_past_24  simultaneous_alarms  hours_from_last_alarm  holiday_is_near  \n0               0                    0                    NaN             True  \n1               0                    0                    NaN             True  \n2               0                    0                    NaN             True  \n3               0                    1                    NaN             True  \n4               1                    1              89.627778             True  ",
      "text/html": "<div>\n<style scoped>\n    .dataframe tbody tr th:only-of-type {\n        vertical-align: middle;\n    }\n\n    .dataframe tbody tr th {\n        vertical-align: top;\n    }\n\n    .dataframe thead th {\n        text-align: right;\n    }\n</style>\n<table border=\"1\" class=\"dataframe\">\n  <thead>\n    <tr style=\"text-align: right;\">\n      <th></th>\n      <th>region_title</th>\n      <th>region_city</th>\n      <th>all_region</th>\n      <th>start</th>\n      <th>end</th>\n      <th>clean_end</th>\n      <th>intersection_alarm_id</th>\n      <th>alarms_past_24</th>\n      <th>simultaneous_alarms</th>\n      <th>hours_from_last_alarm</th>\n      <th>holiday_is_near</th>\n    </tr>\n  </thead>\n  <tbody>\n    <tr>\n      <th>0</th>\n      <td>Вінниччина</td>\n      <td>Вінниця</td>\n      <td>0</td>\n      <td>2022-02-25 22:55:42</td>\n      <td>2022-02-25 23:41:53</td>\n      <td>2022-02-25 23:41:53</td>\n      <td>NaN</td>\n      <td>0</td>\n      <td>0</td>\n      <td>NaN</td>\n      <td>True</td>\n    </tr>\n    <tr>\n      <th>1</th>\n      <td>Львівщина</td>\n      <td>Львів</td>\n      <td>0</td>\n      <td>2022-02-26 06:26:17</td>\n      <td>2022-02-26 07:15:28</td>\n      <td>2022-02-26 07:15:28</td>\n      <td>NaN</td>\n      <td>0</td>\n      <td>0</td>\n      <td>NaN</td>\n      <td>True</td>\n    </tr>\n    <tr>\n      <th>2</th>\n      <td>Одещина</td>\n      <td>Одеса</td>\n      <td>0</td>\n      <td>2022-02-26 07:16:58</td>\n      <td>2022-02-26 07:47:03</td>\n      <td>2022-02-26 07:47:03</td>\n      <td>NaN</td>\n      <td>0</td>\n      <td>0</td>\n      <td>NaN</td>\n      <td>True</td>\n    </tr>\n    <tr>\n      <th>3</th>\n      <td>Житомирщина</td>\n      <td>Житомир</td>\n      <td>0</td>\n      <td>2022-02-26 08:05:54</td>\n      <td>2022-02-26 09:36:36</td>\n      <td>2022-02-26 09:36:36</td>\n      <td>NaN</td>\n      <td>0</td>\n      <td>1</td>\n      <td>NaN</td>\n      <td>True</td>\n    </tr>\n    <tr>\n      <th>4</th>\n      <td>Вінниччина</td>\n      <td>Вінниця</td>\n      <td>0</td>\n      <td>2022-02-26 08:39:39</td>\n      <td>2022-02-26 10:42:41</td>\n      <td>2022-02-26 10:42:41</td>\n      <td>NaN</td>\n      <td>1</td>\n      <td>1</td>\n      <td>89.627778</td>\n      <td>True</td>\n    </tr>\n  </tbody>\n</table>\n</div>"
     },
     "execution_count": 18,
     "metadata": {},
     "output_type": "execute_result"
    }
   ],
   "source": [
    "df_events_v2.head(5)"
   ]
  },
  {
   "cell_type": "code",
   "execution_count": 19,
   "id": "47131ae1",
   "metadata": {},
   "outputs": [],
   "source": [
    "#df_events_v2[\"start_time\"] = df_events_v2.apply(lambda x: x[\"start\"] if not isNaN(x[\"start\"]) else x[\"event_time\"] , axis=1)\n",
    "#df_events_v2[\"end_time\"] = df_events_v2.apply(lambda x: x[\"end\"] if not isNaN(x[\"end\"]) else x[\"event_time\"], axis=1)"
   ]
  },
  {
   "cell_type": "code",
   "execution_count": 20,
   "id": "3b0a9a3e",
   "metadata": {},
   "outputs": [],
   "source": [
    "df_events_v2[\"start_time\"] = pd.to_datetime(df_events_v2[\"start\"])\n",
    "df_events_v2[\"end_time\"] = pd.to_datetime(df_events_v2[\"end\"])\n",
    "#df_events_v2[\"event_time\"] = pd.to_datetime(df_events_v2[\"event_time\"])"
   ]
  },
  {
   "cell_type": "code",
   "execution_count": 21,
   "id": "ef3ca6ca",
   "metadata": {},
   "outputs": [],
   "source": [
    "df_events_v2[\"start_hour\"] = df_events_v2['start_time'].dt.floor('H')\n",
    "df_events_v2[\"end_hour\"] = df_events_v2['end_time'].dt.ceil('H')\n",
    "#df_events_v2[\"event_hour\"] = df_events_v2['event_time'].dt.round('H')"
   ]
  },
  {
   "cell_type": "code",
   "execution_count": 22,
   "id": "a81033f5",
   "metadata": {},
   "outputs": [
    {
     "data": {
      "text/plain": "   region_title      region_city  all_region                start  \\\n0    Вінниччина          Вінниця           0  2022-02-25 22:55:42   \n1     Львівщина            Львів           0  2022-02-26 06:26:17   \n2       Одещина            Одеса           0  2022-02-26 07:16:58   \n3   Житомирщина          Житомир           0  2022-02-26 08:05:54   \n4    Вінниччина          Вінниця           0  2022-02-26 08:39:39   \n5    Вінниччина          Вінниця           0  2022-02-26 10:58:23   \n6     Львівщина            Львів           0  2022-02-26 13:44:44   \n7    Рівненщина  Рівненська обл.           1  2022-02-26 15:54:53   \n8        Волинь   Волинська обл.           1  2022-02-26 16:08:26   \n9  Хмельниччина          Деражня           0  2022-02-26 16:10:29   \n\n                   end            clean_end  intersection_alarm_id  \\\n0  2022-02-25 23:41:53  2022-02-25 23:41:53                    NaN   \n1  2022-02-26 07:15:28  2022-02-26 07:15:28                    NaN   \n2  2022-02-26 07:47:03  2022-02-26 07:47:03                    NaN   \n3  2022-02-26 09:36:36  2022-02-26 09:36:36                    NaN   \n4  2022-02-26 10:42:41  2022-02-26 10:42:41                    NaN   \n5  2022-02-26 11:59:40  2022-02-26 11:59:40                    NaN   \n6  2022-02-26 14:27:25  2022-02-26 14:27:25                    NaN   \n7  2022-02-26 16:14:46  2022-02-26 16:14:46                    NaN   \n8  2022-02-26 16:39:26  2022-02-26 16:39:26                    NaN   \n9  2022-02-26 17:19:57  2022-02-26 17:19:57                    NaN   \n\n   alarms_past_24  simultaneous_alarms  hours_from_last_alarm  \\\n0               0                    0                    NaN   \n1               0                    0                    NaN   \n2               0                    0                    NaN   \n3               0                    1                    NaN   \n4               1                    1              89.627778   \n5               2                    0               2.616667   \n6               1                    0              64.877778   \n7               0                    2                    NaN   \n8               0                    2                    NaN   \n9               0                    3                    NaN   \n\n   holiday_is_near          start_time            end_time  \\\n0             True 2022-02-25 22:55:42 2022-02-25 23:41:53   \n1             True 2022-02-26 06:26:17 2022-02-26 07:15:28   \n2             True 2022-02-26 07:16:58 2022-02-26 07:47:03   \n3             True 2022-02-26 08:05:54 2022-02-26 09:36:36   \n4             True 2022-02-26 08:39:39 2022-02-26 10:42:41   \n5             True 2022-02-26 10:58:23 2022-02-26 11:59:40   \n6             True 2022-02-26 13:44:44 2022-02-26 14:27:25   \n7             True 2022-02-26 15:54:53 2022-02-26 16:14:46   \n8             True 2022-02-26 16:08:26 2022-02-26 16:39:26   \n9             True 2022-02-26 16:10:29 2022-02-26 17:19:57   \n\n           start_hour            end_hour  \n0 2022-02-25 22:00:00 2022-02-26 00:00:00  \n1 2022-02-26 06:00:00 2022-02-26 08:00:00  \n2 2022-02-26 07:00:00 2022-02-26 08:00:00  \n3 2022-02-26 08:00:00 2022-02-26 10:00:00  \n4 2022-02-26 08:00:00 2022-02-26 11:00:00  \n5 2022-02-26 10:00:00 2022-02-26 12:00:00  \n6 2022-02-26 13:00:00 2022-02-26 15:00:00  \n7 2022-02-26 15:00:00 2022-02-26 17:00:00  \n8 2022-02-26 16:00:00 2022-02-26 17:00:00  \n9 2022-02-26 16:00:00 2022-02-26 18:00:00  ",
      "text/html": "<div>\n<style scoped>\n    .dataframe tbody tr th:only-of-type {\n        vertical-align: middle;\n    }\n\n    .dataframe tbody tr th {\n        vertical-align: top;\n    }\n\n    .dataframe thead th {\n        text-align: right;\n    }\n</style>\n<table border=\"1\" class=\"dataframe\">\n  <thead>\n    <tr style=\"text-align: right;\">\n      <th></th>\n      <th>region_title</th>\n      <th>region_city</th>\n      <th>all_region</th>\n      <th>start</th>\n      <th>end</th>\n      <th>clean_end</th>\n      <th>intersection_alarm_id</th>\n      <th>alarms_past_24</th>\n      <th>simultaneous_alarms</th>\n      <th>hours_from_last_alarm</th>\n      <th>holiday_is_near</th>\n      <th>start_time</th>\n      <th>end_time</th>\n      <th>start_hour</th>\n      <th>end_hour</th>\n    </tr>\n  </thead>\n  <tbody>\n    <tr>\n      <th>0</th>\n      <td>Вінниччина</td>\n      <td>Вінниця</td>\n      <td>0</td>\n      <td>2022-02-25 22:55:42</td>\n      <td>2022-02-25 23:41:53</td>\n      <td>2022-02-25 23:41:53</td>\n      <td>NaN</td>\n      <td>0</td>\n      <td>0</td>\n      <td>NaN</td>\n      <td>True</td>\n      <td>2022-02-25 22:55:42</td>\n      <td>2022-02-25 23:41:53</td>\n      <td>2022-02-25 22:00:00</td>\n      <td>2022-02-26 00:00:00</td>\n    </tr>\n    <tr>\n      <th>1</th>\n      <td>Львівщина</td>\n      <td>Львів</td>\n      <td>0</td>\n      <td>2022-02-26 06:26:17</td>\n      <td>2022-02-26 07:15:28</td>\n      <td>2022-02-26 07:15:28</td>\n      <td>NaN</td>\n      <td>0</td>\n      <td>0</td>\n      <td>NaN</td>\n      <td>True</td>\n      <td>2022-02-26 06:26:17</td>\n      <td>2022-02-26 07:15:28</td>\n      <td>2022-02-26 06:00:00</td>\n      <td>2022-02-26 08:00:00</td>\n    </tr>\n    <tr>\n      <th>2</th>\n      <td>Одещина</td>\n      <td>Одеса</td>\n      <td>0</td>\n      <td>2022-02-26 07:16:58</td>\n      <td>2022-02-26 07:47:03</td>\n      <td>2022-02-26 07:47:03</td>\n      <td>NaN</td>\n      <td>0</td>\n      <td>0</td>\n      <td>NaN</td>\n      <td>True</td>\n      <td>2022-02-26 07:16:58</td>\n      <td>2022-02-26 07:47:03</td>\n      <td>2022-02-26 07:00:00</td>\n      <td>2022-02-26 08:00:00</td>\n    </tr>\n    <tr>\n      <th>3</th>\n      <td>Житомирщина</td>\n      <td>Житомир</td>\n      <td>0</td>\n      <td>2022-02-26 08:05:54</td>\n      <td>2022-02-26 09:36:36</td>\n      <td>2022-02-26 09:36:36</td>\n      <td>NaN</td>\n      <td>0</td>\n      <td>1</td>\n      <td>NaN</td>\n      <td>True</td>\n      <td>2022-02-26 08:05:54</td>\n      <td>2022-02-26 09:36:36</td>\n      <td>2022-02-26 08:00:00</td>\n      <td>2022-02-26 10:00:00</td>\n    </tr>\n    <tr>\n      <th>4</th>\n      <td>Вінниччина</td>\n      <td>Вінниця</td>\n      <td>0</td>\n      <td>2022-02-26 08:39:39</td>\n      <td>2022-02-26 10:42:41</td>\n      <td>2022-02-26 10:42:41</td>\n      <td>NaN</td>\n      <td>1</td>\n      <td>1</td>\n      <td>89.627778</td>\n      <td>True</td>\n      <td>2022-02-26 08:39:39</td>\n      <td>2022-02-26 10:42:41</td>\n      <td>2022-02-26 08:00:00</td>\n      <td>2022-02-26 11:00:00</td>\n    </tr>\n    <tr>\n      <th>5</th>\n      <td>Вінниччина</td>\n      <td>Вінниця</td>\n      <td>0</td>\n      <td>2022-02-26 10:58:23</td>\n      <td>2022-02-26 11:59:40</td>\n      <td>2022-02-26 11:59:40</td>\n      <td>NaN</td>\n      <td>2</td>\n      <td>0</td>\n      <td>2.616667</td>\n      <td>True</td>\n      <td>2022-02-26 10:58:23</td>\n      <td>2022-02-26 11:59:40</td>\n      <td>2022-02-26 10:00:00</td>\n      <td>2022-02-26 12:00:00</td>\n    </tr>\n    <tr>\n      <th>6</th>\n      <td>Львівщина</td>\n      <td>Львів</td>\n      <td>0</td>\n      <td>2022-02-26 13:44:44</td>\n      <td>2022-02-26 14:27:25</td>\n      <td>2022-02-26 14:27:25</td>\n      <td>NaN</td>\n      <td>1</td>\n      <td>0</td>\n      <td>64.877778</td>\n      <td>True</td>\n      <td>2022-02-26 13:44:44</td>\n      <td>2022-02-26 14:27:25</td>\n      <td>2022-02-26 13:00:00</td>\n      <td>2022-02-26 15:00:00</td>\n    </tr>\n    <tr>\n      <th>7</th>\n      <td>Рівненщина</td>\n      <td>Рівненська обл.</td>\n      <td>1</td>\n      <td>2022-02-26 15:54:53</td>\n      <td>2022-02-26 16:14:46</td>\n      <td>2022-02-26 16:14:46</td>\n      <td>NaN</td>\n      <td>0</td>\n      <td>2</td>\n      <td>NaN</td>\n      <td>True</td>\n      <td>2022-02-26 15:54:53</td>\n      <td>2022-02-26 16:14:46</td>\n      <td>2022-02-26 15:00:00</td>\n      <td>2022-02-26 17:00:00</td>\n    </tr>\n    <tr>\n      <th>8</th>\n      <td>Волинь</td>\n      <td>Волинська обл.</td>\n      <td>1</td>\n      <td>2022-02-26 16:08:26</td>\n      <td>2022-02-26 16:39:26</td>\n      <td>2022-02-26 16:39:26</td>\n      <td>NaN</td>\n      <td>0</td>\n      <td>2</td>\n      <td>NaN</td>\n      <td>True</td>\n      <td>2022-02-26 16:08:26</td>\n      <td>2022-02-26 16:39:26</td>\n      <td>2022-02-26 16:00:00</td>\n      <td>2022-02-26 17:00:00</td>\n    </tr>\n    <tr>\n      <th>9</th>\n      <td>Хмельниччина</td>\n      <td>Деражня</td>\n      <td>0</td>\n      <td>2022-02-26 16:10:29</td>\n      <td>2022-02-26 17:19:57</td>\n      <td>2022-02-26 17:19:57</td>\n      <td>NaN</td>\n      <td>0</td>\n      <td>3</td>\n      <td>NaN</td>\n      <td>True</td>\n      <td>2022-02-26 16:10:29</td>\n      <td>2022-02-26 17:19:57</td>\n      <td>2022-02-26 16:00:00</td>\n      <td>2022-02-26 18:00:00</td>\n    </tr>\n  </tbody>\n</table>\n</div>"
     },
     "execution_count": 22,
     "metadata": {},
     "output_type": "execute_result"
    }
   ],
   "source": [
    "df_events_v2[\"start_hour\"] = df_events_v2.apply(lambda x: x[\"start_hour\"] if not isNaN(x[\"start_hour\"]) else x[\"event_hour\"] , axis=1)\n",
    "df_events_v2[\"end_hour\"] = df_events_v2.apply(lambda x: x[\"end_hour\"] if not isNaN(x[\"end_hour\"]) else x[\"event_hour\"] , axis=1)\n",
    "df_events_v2.head(10)"
   ]
  },
  {
   "cell_type": "code",
   "execution_count": 23,
   "id": "71b0f0d4",
   "metadata": {},
   "outputs": [
    {
     "data": {
      "text/plain": "   region_title      region_city  all_region                start  \\\n0    Вінниччина          Вінниця           0  2022-02-25 22:55:42   \n1     Львівщина            Львів           0  2022-02-26 06:26:17   \n2       Одещина            Одеса           0  2022-02-26 07:16:58   \n3   Житомирщина          Житомир           0  2022-02-26 08:05:54   \n4    Вінниччина          Вінниця           0  2022-02-26 08:39:39   \n5    Вінниччина          Вінниця           0  2022-02-26 10:58:23   \n6     Львівщина            Львів           0  2022-02-26 13:44:44   \n7    Рівненщина  Рівненська обл.           1  2022-02-26 15:54:53   \n8        Волинь   Волинська обл.           1  2022-02-26 16:08:26   \n9  Хмельниччина          Деражня           0  2022-02-26 16:10:29   \n\n                   end            clean_end  intersection_alarm_id  \\\n0  2022-02-25 23:41:53  2022-02-25 23:41:53                    NaN   \n1  2022-02-26 07:15:28  2022-02-26 07:15:28                    NaN   \n2  2022-02-26 07:47:03  2022-02-26 07:47:03                    NaN   \n3  2022-02-26 09:36:36  2022-02-26 09:36:36                    NaN   \n4  2022-02-26 10:42:41  2022-02-26 10:42:41                    NaN   \n5  2022-02-26 11:59:40  2022-02-26 11:59:40                    NaN   \n6  2022-02-26 14:27:25  2022-02-26 14:27:25                    NaN   \n7  2022-02-26 16:14:46  2022-02-26 16:14:46                    NaN   \n8  2022-02-26 16:39:26  2022-02-26 16:39:26                    NaN   \n9  2022-02-26 17:19:57  2022-02-26 17:19:57                    NaN   \n\n   alarms_past_24  simultaneous_alarms  hours_from_last_alarm  \\\n0               0                    0                    NaN   \n1               0                    0                    NaN   \n2               0                    0                    NaN   \n3               0                    1                    NaN   \n4               1                    1              89.627778   \n5               2                    0               2.616667   \n6               1                    0              64.877778   \n7               0                    2                    NaN   \n8               0                    2                    NaN   \n9               0                    3                    NaN   \n\n   holiday_is_near          start_time            end_time  \\\n0             True 2022-02-25 22:55:42 2022-02-25 23:41:53   \n1             True 2022-02-26 06:26:17 2022-02-26 07:15:28   \n2             True 2022-02-26 07:16:58 2022-02-26 07:47:03   \n3             True 2022-02-26 08:05:54 2022-02-26 09:36:36   \n4             True 2022-02-26 08:39:39 2022-02-26 10:42:41   \n5             True 2022-02-26 10:58:23 2022-02-26 11:59:40   \n6             True 2022-02-26 13:44:44 2022-02-26 14:27:25   \n7             True 2022-02-26 15:54:53 2022-02-26 16:14:46   \n8             True 2022-02-26 16:08:26 2022-02-26 16:39:26   \n9             True 2022-02-26 16:10:29 2022-02-26 17:19:57   \n\n           start_hour            end_hour    day_date  \\\n0 2022-02-25 22:00:00 2022-02-26 00:00:00  2022-02-25   \n1 2022-02-26 06:00:00 2022-02-26 08:00:00  2022-02-26   \n2 2022-02-26 07:00:00 2022-02-26 08:00:00  2022-02-26   \n3 2022-02-26 08:00:00 2022-02-26 10:00:00  2022-02-26   \n4 2022-02-26 08:00:00 2022-02-26 11:00:00  2022-02-26   \n5 2022-02-26 10:00:00 2022-02-26 12:00:00  2022-02-26   \n6 2022-02-26 13:00:00 2022-02-26 15:00:00  2022-02-26   \n7 2022-02-26 15:00:00 2022-02-26 17:00:00  2022-02-26   \n8 2022-02-26 16:00:00 2022-02-26 17:00:00  2022-02-26   \n9 2022-02-26 16:00:00 2022-02-26 18:00:00  2022-02-26   \n\n   start_hour_datetimeEpoch  end_hour_datetimeEpoch  \n0                1645826400              1645833600  \n1                1645855200              1645862400  \n2                1645858800              1645862400  \n3                1645862400              1645869600  \n4                1645862400              1645873200  \n5                1645869600              1645876800  \n6                1645880400              1645887600  \n7                1645887600              1645894800  \n8                1645891200              1645894800  \n9                1645891200              1645898400  ",
      "text/html": "<div>\n<style scoped>\n    .dataframe tbody tr th:only-of-type {\n        vertical-align: middle;\n    }\n\n    .dataframe tbody tr th {\n        vertical-align: top;\n    }\n\n    .dataframe thead th {\n        text-align: right;\n    }\n</style>\n<table border=\"1\" class=\"dataframe\">\n  <thead>\n    <tr style=\"text-align: right;\">\n      <th></th>\n      <th>region_title</th>\n      <th>region_city</th>\n      <th>all_region</th>\n      <th>start</th>\n      <th>end</th>\n      <th>clean_end</th>\n      <th>intersection_alarm_id</th>\n      <th>alarms_past_24</th>\n      <th>simultaneous_alarms</th>\n      <th>hours_from_last_alarm</th>\n      <th>holiday_is_near</th>\n      <th>start_time</th>\n      <th>end_time</th>\n      <th>start_hour</th>\n      <th>end_hour</th>\n      <th>day_date</th>\n      <th>start_hour_datetimeEpoch</th>\n      <th>end_hour_datetimeEpoch</th>\n    </tr>\n  </thead>\n  <tbody>\n    <tr>\n      <th>0</th>\n      <td>Вінниччина</td>\n      <td>Вінниця</td>\n      <td>0</td>\n      <td>2022-02-25 22:55:42</td>\n      <td>2022-02-25 23:41:53</td>\n      <td>2022-02-25 23:41:53</td>\n      <td>NaN</td>\n      <td>0</td>\n      <td>0</td>\n      <td>NaN</td>\n      <td>True</td>\n      <td>2022-02-25 22:55:42</td>\n      <td>2022-02-25 23:41:53</td>\n      <td>2022-02-25 22:00:00</td>\n      <td>2022-02-26 00:00:00</td>\n      <td>2022-02-25</td>\n      <td>1645826400</td>\n      <td>1645833600</td>\n    </tr>\n    <tr>\n      <th>1</th>\n      <td>Львівщина</td>\n      <td>Львів</td>\n      <td>0</td>\n      <td>2022-02-26 06:26:17</td>\n      <td>2022-02-26 07:15:28</td>\n      <td>2022-02-26 07:15:28</td>\n      <td>NaN</td>\n      <td>0</td>\n      <td>0</td>\n      <td>NaN</td>\n      <td>True</td>\n      <td>2022-02-26 06:26:17</td>\n      <td>2022-02-26 07:15:28</td>\n      <td>2022-02-26 06:00:00</td>\n      <td>2022-02-26 08:00:00</td>\n      <td>2022-02-26</td>\n      <td>1645855200</td>\n      <td>1645862400</td>\n    </tr>\n    <tr>\n      <th>2</th>\n      <td>Одещина</td>\n      <td>Одеса</td>\n      <td>0</td>\n      <td>2022-02-26 07:16:58</td>\n      <td>2022-02-26 07:47:03</td>\n      <td>2022-02-26 07:47:03</td>\n      <td>NaN</td>\n      <td>0</td>\n      <td>0</td>\n      <td>NaN</td>\n      <td>True</td>\n      <td>2022-02-26 07:16:58</td>\n      <td>2022-02-26 07:47:03</td>\n      <td>2022-02-26 07:00:00</td>\n      <td>2022-02-26 08:00:00</td>\n      <td>2022-02-26</td>\n      <td>1645858800</td>\n      <td>1645862400</td>\n    </tr>\n    <tr>\n      <th>3</th>\n      <td>Житомирщина</td>\n      <td>Житомир</td>\n      <td>0</td>\n      <td>2022-02-26 08:05:54</td>\n      <td>2022-02-26 09:36:36</td>\n      <td>2022-02-26 09:36:36</td>\n      <td>NaN</td>\n      <td>0</td>\n      <td>1</td>\n      <td>NaN</td>\n      <td>True</td>\n      <td>2022-02-26 08:05:54</td>\n      <td>2022-02-26 09:36:36</td>\n      <td>2022-02-26 08:00:00</td>\n      <td>2022-02-26 10:00:00</td>\n      <td>2022-02-26</td>\n      <td>1645862400</td>\n      <td>1645869600</td>\n    </tr>\n    <tr>\n      <th>4</th>\n      <td>Вінниччина</td>\n      <td>Вінниця</td>\n      <td>0</td>\n      <td>2022-02-26 08:39:39</td>\n      <td>2022-02-26 10:42:41</td>\n      <td>2022-02-26 10:42:41</td>\n      <td>NaN</td>\n      <td>1</td>\n      <td>1</td>\n      <td>89.627778</td>\n      <td>True</td>\n      <td>2022-02-26 08:39:39</td>\n      <td>2022-02-26 10:42:41</td>\n      <td>2022-02-26 08:00:00</td>\n      <td>2022-02-26 11:00:00</td>\n      <td>2022-02-26</td>\n      <td>1645862400</td>\n      <td>1645873200</td>\n    </tr>\n    <tr>\n      <th>5</th>\n      <td>Вінниччина</td>\n      <td>Вінниця</td>\n      <td>0</td>\n      <td>2022-02-26 10:58:23</td>\n      <td>2022-02-26 11:59:40</td>\n      <td>2022-02-26 11:59:40</td>\n      <td>NaN</td>\n      <td>2</td>\n      <td>0</td>\n      <td>2.616667</td>\n      <td>True</td>\n      <td>2022-02-26 10:58:23</td>\n      <td>2022-02-26 11:59:40</td>\n      <td>2022-02-26 10:00:00</td>\n      <td>2022-02-26 12:00:00</td>\n      <td>2022-02-26</td>\n      <td>1645869600</td>\n      <td>1645876800</td>\n    </tr>\n    <tr>\n      <th>6</th>\n      <td>Львівщина</td>\n      <td>Львів</td>\n      <td>0</td>\n      <td>2022-02-26 13:44:44</td>\n      <td>2022-02-26 14:27:25</td>\n      <td>2022-02-26 14:27:25</td>\n      <td>NaN</td>\n      <td>1</td>\n      <td>0</td>\n      <td>64.877778</td>\n      <td>True</td>\n      <td>2022-02-26 13:44:44</td>\n      <td>2022-02-26 14:27:25</td>\n      <td>2022-02-26 13:00:00</td>\n      <td>2022-02-26 15:00:00</td>\n      <td>2022-02-26</td>\n      <td>1645880400</td>\n      <td>1645887600</td>\n    </tr>\n    <tr>\n      <th>7</th>\n      <td>Рівненщина</td>\n      <td>Рівненська обл.</td>\n      <td>1</td>\n      <td>2022-02-26 15:54:53</td>\n      <td>2022-02-26 16:14:46</td>\n      <td>2022-02-26 16:14:46</td>\n      <td>NaN</td>\n      <td>0</td>\n      <td>2</td>\n      <td>NaN</td>\n      <td>True</td>\n      <td>2022-02-26 15:54:53</td>\n      <td>2022-02-26 16:14:46</td>\n      <td>2022-02-26 15:00:00</td>\n      <td>2022-02-26 17:00:00</td>\n      <td>2022-02-26</td>\n      <td>1645887600</td>\n      <td>1645894800</td>\n    </tr>\n    <tr>\n      <th>8</th>\n      <td>Волинь</td>\n      <td>Волинська обл.</td>\n      <td>1</td>\n      <td>2022-02-26 16:08:26</td>\n      <td>2022-02-26 16:39:26</td>\n      <td>2022-02-26 16:39:26</td>\n      <td>NaN</td>\n      <td>0</td>\n      <td>2</td>\n      <td>NaN</td>\n      <td>True</td>\n      <td>2022-02-26 16:08:26</td>\n      <td>2022-02-26 16:39:26</td>\n      <td>2022-02-26 16:00:00</td>\n      <td>2022-02-26 17:00:00</td>\n      <td>2022-02-26</td>\n      <td>1645891200</td>\n      <td>1645894800</td>\n    </tr>\n    <tr>\n      <th>9</th>\n      <td>Хмельниччина</td>\n      <td>Деражня</td>\n      <td>0</td>\n      <td>2022-02-26 16:10:29</td>\n      <td>2022-02-26 17:19:57</td>\n      <td>2022-02-26 17:19:57</td>\n      <td>NaN</td>\n      <td>0</td>\n      <td>3</td>\n      <td>NaN</td>\n      <td>True</td>\n      <td>2022-02-26 16:10:29</td>\n      <td>2022-02-26 17:19:57</td>\n      <td>2022-02-26 16:00:00</td>\n      <td>2022-02-26 18:00:00</td>\n      <td>2022-02-26</td>\n      <td>1645891200</td>\n      <td>1645898400</td>\n    </tr>\n  </tbody>\n</table>\n</div>"
     },
     "execution_count": 23,
     "metadata": {},
     "output_type": "execute_result"
    }
   ],
   "source": [
    "df_events_v2[\"day_date\"] = df_events_v2[\"start_time\"].dt.date\n",
    "\n",
    "df_events_v2[\"start_hour_datetimeEpoch\"] = df_events_v2['start_hour'].apply(lambda x: int(calendar.timegm(x.timetuple()))  if not isNaN(x) else None)\n",
    "df_events_v2[\"end_hour_datetimeEpoch\"] = df_events_v2['end_hour'].apply(lambda x: int(calendar.timegm(x.timetuple()))  if not isNaN(x) else None)\n",
    "\n",
    "df_events_v2.head(10)"
   ]
  },
  {
   "cell_type": "code",
   "execution_count": 24,
   "id": "eb0bcc6b",
   "metadata": {},
   "outputs": [],
   "source": [
    "#df_events_v2[~(df_events_v2[\"type\"]==\"alarm\")].shape"
   ]
  },
  {
   "cell_type": "code",
   "execution_count": 25,
   "id": "1a38b3c1",
   "metadata": {},
   "outputs": [],
   "source": [
    "#df_events_v2[~(df_events_v2[\"type\"]==\"alarm\")].head(5)"
   ]
  },
  {
   "cell_type": "code",
   "execution_count": 26,
   "id": "6e7ebd70",
   "metadata": {},
   "outputs": [],
   "source": [
    "#df_events_v2[df_events_v2[\"type\"]==\"alarm\"].shape"
   ]
  },
  {
   "cell_type": "markdown",
   "id": "86c852f0",
   "metadata": {},
   "source": [
    "## prepare weather"
   ]
  },
  {
   "cell_type": "code",
   "execution_count": 27,
   "id": "79829a50",
   "metadata": {},
   "outputs": [],
   "source": [
    "WEATHER_DATA_FOLDER = \"data/1_weather\"\n",
    "WEATHER_DATA_FILE = \"all_weather_by_hour.csv\""
   ]
  },
  {
   "cell_type": "code",
   "execution_count": 28,
   "id": "a0a04cfc",
   "metadata": {},
   "outputs": [],
   "source": [
    "df_weather = pd.read_csv(f\"{WEATHER_DATA_FOLDER}/{WEATHER_DATA_FILE}\")\n",
    "df_weather[\"day_datetime\"] = pd.to_datetime(df_weather[\"day_datetime\"])"
   ]
  },
  {
   "cell_type": "code",
   "execution_count": 29,
   "id": "0e649d36",
   "metadata": {},
   "outputs": [
    {
     "data": {
      "text/plain": "(190656, 67)"
     },
     "execution_count": 29,
     "metadata": {},
     "output_type": "execute_result"
    }
   ],
   "source": [
    "df_weather.shape"
   ]
  },
  {
   "cell_type": "code",
   "execution_count": 30,
   "id": "0f182f8e",
   "metadata": {},
   "outputs": [
    {
     "data": {
      "text/plain": "    city_latitude  city_longitude city_resolvedAddress      city_address  \\\n0         49.4407         32.0637     Черкаси, Україна  Cherkasy,Ukraine   \n1         49.4407         32.0637     Черкаси, Україна  Cherkasy,Ukraine   \n2         49.4407         32.0637     Черкаси, Україна  Cherkasy,Ukraine   \n3         49.4407         32.0637     Черкаси, Україна  Cherkasy,Ukraine   \n4         49.4407         32.0637     Черкаси, Україна  Cherkasy,Ukraine   \n5         49.4407         32.0637     Черкаси, Україна  Cherkasy,Ukraine   \n6         49.4407         32.0637     Черкаси, Україна  Cherkasy,Ukraine   \n7         49.4407         32.0637     Черкаси, Україна  Cherkasy,Ukraine   \n8         49.4407         32.0637     Черкаси, Україна  Cherkasy,Ukraine   \n9         49.4407         32.0637     Черкаси, Україна  Cherkasy,Ukraine   \n10        49.4407         32.0637     Черкаси, Україна  Cherkasy,Ukraine   \n11        49.4407         32.0637     Черкаси, Україна  Cherkasy,Ukraine   \n12        49.4407         32.0637     Черкаси, Україна  Cherkasy,Ukraine   \n13        49.4407         32.0637     Черкаси, Україна  Cherkasy,Ukraine   \n14        49.4407         32.0637     Черкаси, Україна  Cherkasy,Ukraine   \n\n   city_timezone  city_tzoffset day_datetime  day_datetimeEpoch  day_tempmax  \\\n0    Europe/Kiev            2.0   2022-02-24         1645653600          4.9   \n1    Europe/Kiev            2.0   2022-02-24         1645653600          4.9   \n2    Europe/Kiev            2.0   2022-02-24         1645653600          4.9   \n3    Europe/Kiev            2.0   2022-02-24         1645653600          4.9   \n4    Europe/Kiev            2.0   2022-02-24         1645653600          4.9   \n5    Europe/Kiev            2.0   2022-02-24         1645653600          4.9   \n6    Europe/Kiev            2.0   2022-02-24         1645653600          4.9   \n7    Europe/Kiev            2.0   2022-02-24         1645653600          4.9   \n8    Europe/Kiev            2.0   2022-02-24         1645653600          4.9   \n9    Europe/Kiev            2.0   2022-02-24         1645653600          4.9   \n10   Europe/Kiev            2.0   2022-02-24         1645653600          4.9   \n11   Europe/Kiev            2.0   2022-02-24         1645653600          4.9   \n12   Europe/Kiev            2.0   2022-02-24         1645653600          4.9   \n13   Europe/Kiev            2.0   2022-02-24         1645653600          4.9   \n14   Europe/Kiev            2.0   2022-02-24         1645653600          4.9   \n\n    day_tempmin  day_temp  day_feelslikemax  day_feelslikemin  day_feelslike  \\\n0          -0.1       1.9               4.4              -0.1            1.6   \n1          -0.1       1.9               4.4              -0.1            1.6   \n2          -0.1       1.9               4.4              -0.1            1.6   \n3          -0.1       1.9               4.4              -0.1            1.6   \n4          -0.1       1.9               4.4              -0.1            1.6   \n5          -0.1       1.9               4.4              -0.1            1.6   \n6          -0.1       1.9               4.4              -0.1            1.6   \n7          -0.1       1.9               4.4              -0.1            1.6   \n8          -0.1       1.9               4.4              -0.1            1.6   \n9          -0.1       1.9               4.4              -0.1            1.6   \n10         -0.1       1.9               4.4              -0.1            1.6   \n11         -0.1       1.9               4.4              -0.1            1.6   \n12         -0.1       1.9               4.4              -0.1            1.6   \n13         -0.1       1.9               4.4              -0.1            1.6   \n14         -0.1       1.9               4.4              -0.1            1.6   \n\n    day_dew  day_humidity  day_precip  day_precipprob  day_precipcover  \\\n0      -0.6          83.4         0.0             0.0              0.0   \n1      -0.6          83.4         0.0             0.0              0.0   \n2      -0.6          83.4         0.0             0.0              0.0   \n3      -0.6          83.4         0.0             0.0              0.0   \n4      -0.6          83.4         0.0             0.0              0.0   \n5      -0.6          83.4         0.0             0.0              0.0   \n6      -0.6          83.4         0.0             0.0              0.0   \n7      -0.6          83.4         0.0             0.0              0.0   \n8      -0.6          83.4         0.0             0.0              0.0   \n9      -0.6          83.4         0.0             0.0              0.0   \n10     -0.6          83.4         0.0             0.0              0.0   \n11     -0.6          83.4         0.0             0.0              0.0   \n12     -0.6          83.4         0.0             0.0              0.0   \n13     -0.6          83.4         0.0             0.0              0.0   \n14     -0.6          83.4         0.0             0.0              0.0   \n\n    day_snow  day_snowdepth  day_windgust  day_windspeed  day_winddir  \\\n0        0.0            0.0          14.4            8.3         47.6   \n1        0.0            0.0          14.4            8.3         47.6   \n2        0.0            0.0          14.4            8.3         47.6   \n3        0.0            0.0          14.4            8.3         47.6   \n4        0.0            0.0          14.4            8.3         47.6   \n5        0.0            0.0          14.4            8.3         47.6   \n6        0.0            0.0          14.4            8.3         47.6   \n7        0.0            0.0          14.4            8.3         47.6   \n8        0.0            0.0          14.4            8.3         47.6   \n9        0.0            0.0          14.4            8.3         47.6   \n10       0.0            0.0          14.4            8.3         47.6   \n11       0.0            0.0          14.4            8.3         47.6   \n12       0.0            0.0          14.4            8.3         47.6   \n13       0.0            0.0          14.4            8.3         47.6   \n14       0.0            0.0          14.4            8.3         47.6   \n\n    day_pressure  day_cloudcover  day_visibility  day_solarradiation  \\\n0         1023.2            69.4            12.2                47.4   \n1         1023.2            69.4            12.2                47.4   \n2         1023.2            69.4            12.2                47.4   \n3         1023.2            69.4            12.2                47.4   \n4         1023.2            69.4            12.2                47.4   \n5         1023.2            69.4            12.2                47.4   \n6         1023.2            69.4            12.2                47.4   \n7         1023.2            69.4            12.2                47.4   \n8         1023.2            69.4            12.2                47.4   \n9         1023.2            69.4            12.2                47.4   \n10        1023.2            69.4            12.2                47.4   \n11        1023.2            69.4            12.2                47.4   \n12        1023.2            69.4            12.2                47.4   \n13        1023.2            69.4            12.2                47.4   \n14        1023.2            69.4            12.2                47.4   \n\n    day_solarenergy  day_uvindex  day_severerisk day_sunrise  \\\n0               4.4          2.0            10.0    06:44:41   \n1               4.4          2.0            10.0    06:44:41   \n2               4.4          2.0            10.0    06:44:41   \n3               4.4          2.0            10.0    06:44:41   \n4               4.4          2.0            10.0    06:44:41   \n5               4.4          2.0            10.0    06:44:41   \n6               4.4          2.0            10.0    06:44:41   \n7               4.4          2.0            10.0    06:44:41   \n8               4.4          2.0            10.0    06:44:41   \n9               4.4          2.0            10.0    06:44:41   \n10              4.4          2.0            10.0    06:44:41   \n11              4.4          2.0            10.0    06:44:41   \n12              4.4          2.0            10.0    06:44:41   \n13              4.4          2.0            10.0    06:44:41   \n14              4.4          2.0            10.0    06:44:41   \n\n    day_sunriseEpoch day_sunset  day_sunsetEpoch  day_moonphase  \\\n0         1645677881   17:26:05       1645716365           0.77   \n1         1645677881   17:26:05       1645716365           0.77   \n2         1645677881   17:26:05       1645716365           0.77   \n3         1645677881   17:26:05       1645716365           0.77   \n4         1645677881   17:26:05       1645716365           0.77   \n5         1645677881   17:26:05       1645716365           0.77   \n6         1645677881   17:26:05       1645716365           0.77   \n7         1645677881   17:26:05       1645716365           0.77   \n8         1645677881   17:26:05       1645716365           0.77   \n9         1645677881   17:26:05       1645716365           0.77   \n10        1645677881   17:26:05       1645716365           0.77   \n11        1645677881   17:26:05       1645716365           0.77   \n12        1645677881   17:26:05       1645716365           0.77   \n13        1645677881   17:26:05       1645716365           0.77   \n14        1645677881   17:26:05       1645716365           0.77   \n\n      day_conditions                    day_description           day_icon  \\\n0   Partially cloudy  Partly cloudy throughout the day.  partly-cloudy-day   \n1   Partially cloudy  Partly cloudy throughout the day.  partly-cloudy-day   \n2   Partially cloudy  Partly cloudy throughout the day.  partly-cloudy-day   \n3   Partially cloudy  Partly cloudy throughout the day.  partly-cloudy-day   \n4   Partially cloudy  Partly cloudy throughout the day.  partly-cloudy-day   \n5   Partially cloudy  Partly cloudy throughout the day.  partly-cloudy-day   \n6   Partially cloudy  Partly cloudy throughout the day.  partly-cloudy-day   \n7   Partially cloudy  Partly cloudy throughout the day.  partly-cloudy-day   \n8   Partially cloudy  Partly cloudy throughout the day.  partly-cloudy-day   \n9   Partially cloudy  Partly cloudy throughout the day.  partly-cloudy-day   \n10  Partially cloudy  Partly cloudy throughout the day.  partly-cloudy-day   \n11  Partially cloudy  Partly cloudy throughout the day.  partly-cloudy-day   \n12  Partially cloudy  Partly cloudy throughout the day.  partly-cloudy-day   \n13  Partially cloudy  Partly cloudy throughout the day.  partly-cloudy-day   \n14  Partially cloudy  Partly cloudy throughout the day.  partly-cloudy-day   \n\n   day_source day_preciptype day_stations hour_datetime  hour_datetimeEpoch  \\\n0         obs           rain       remote      00:00:00          1645653600   \n1         obs           rain       remote      01:00:00          1645657200   \n2         obs           rain       remote      02:00:00          1645660800   \n3         obs           rain       remote      03:00:00          1645664400   \n4         obs           rain       remote      04:00:00          1645668000   \n5         obs           rain       remote      05:00:00          1645671600   \n6         obs           rain       remote      06:00:00          1645675200   \n7         obs           rain       remote      07:00:00          1645678800   \n8         obs           rain       remote      08:00:00          1645682400   \n9         obs           rain       remote      09:00:00          1645686000   \n10        obs           rain       remote      10:00:00          1645689600   \n11        obs           rain       remote      11:00:00          1645693200   \n12        obs           rain       remote      12:00:00          1645696800   \n13        obs           rain       remote      13:00:00          1645700400   \n14        obs           rain       remote      14:00:00          1645704000   \n\n    hour_temp  hour_feelslike  hour_humidity  hour_dew  hour_precip  \\\n0         0.9             0.9          75.73      -2.9          0.0   \n1         0.6             0.6          77.96      -2.8          0.0   \n2         0.4             0.4          82.08      -2.3          0.0   \n3         0.2             0.2          83.28      -2.3          0.0   \n4         0.0             0.0          83.87      -2.4          0.0   \n5        -0.1            -0.1          83.86      -2.5          0.0   \n6         0.0             0.0          83.87      -2.4          0.0   \n7         0.0             0.0          83.87      -2.4          0.0   \n8         0.1             0.1          87.68      -1.7          0.0   \n9         1.4             1.4          85.91      -0.7          0.0   \n10        2.8             2.8          81.81       0.0          0.0   \n11        4.2             3.1          78.53       0.8          0.0   \n12        4.9             3.4          73.18       0.5          0.0   \n13        4.8             2.8          72.63       0.3          0.0   \n14        4.7             3.0          79.17       1.4          0.0   \n\n    hour_precipprob  hour_snow  hour_snowdepth hour_preciptype  hour_windgust  \\\n0               0.0        0.0             0.0             NaN            7.2   \n1               0.0        0.0             0.0             NaN            6.5   \n2               0.0        0.0             0.0             NaN            8.3   \n3               0.0        0.0             0.0             NaN            5.0   \n4               0.0        0.0             0.0             NaN            5.0   \n5               0.0        0.0             0.0             NaN            4.3   \n6               0.0        0.0             0.0             NaN            2.9   \n7               0.0        0.0             0.0             NaN            2.2   \n8               0.0        0.0             0.0             NaN            5.4   \n9               0.0        0.0             0.0             NaN            5.0   \n10              0.0        0.0             0.0             NaN            5.8   \n11              0.0        0.0             0.0             NaN            9.7   \n12              0.0        0.0             0.0             NaN           11.5   \n13              0.0        0.0             0.0        ['rain']           14.4   \n14              0.0        0.0             0.0             NaN            2.2   \n\n    hour_windspeed  hour_winddir  hour_pressure  hour_visibility  \\\n0              4.0         132.0         1020.0             24.1   \n1              3.6         147.9         1020.0             24.1   \n2              3.2         198.2         1020.0             24.1   \n3              2.9         202.3         1020.0             24.1   \n4              2.9         203.6         1021.0             24.1   \n5              1.8         197.5         1021.0             24.1   \n6              1.1         199.2         1022.0             24.1   \n7              1.4         221.7         1023.0              0.2   \n8              3.2         245.3         1023.0              0.1   \n9              2.5         247.0         1024.0              0.1   \n10             2.9         282.1         1024.0              0.1   \n11             5.0         330.1         1025.0              0.2   \n12             6.5         358.5         1025.0              0.2   \n13             8.3          14.3         1025.0              0.3   \n14             7.2          29.6         1025.0              0.6   \n\n    hour_cloudcover  hour_solarradiation  hour_solarenergy  hour_uvindex  \\\n0              89.0                  0.0               NaN           0.0   \n1              71.1                  0.0               NaN           0.0   \n2              95.4                  0.0               NaN           0.0   \n3              74.6                  0.0               NaN           0.0   \n4              67.8                  0.0               NaN           0.0   \n5              94.1                  0.0               NaN           0.0   \n6             100.0                  0.0               0.0           0.0   \n7              97.9                  0.0               0.3           0.0   \n8              90.8                179.4               0.6           2.0   \n9              73.3                 42.0               0.2           0.0   \n10             69.4                 46.0               0.2           0.0   \n11             78.6                 54.0               0.2           1.0   \n12             94.8                 62.0               0.2           1.0   \n13             97.5                 70.0               0.3           1.0   \n14             92.8                199.8               0.7           2.0   \n\n    hour_severerisk   hour_conditions            hour_icon hour_source  \\\n0              10.0  Partially cloudy  partly-cloudy-night         obs   \n1              10.0  Partially cloudy  partly-cloudy-night         obs   \n2              10.0          Overcast               cloudy         obs   \n3              10.0  Partially cloudy  partly-cloudy-night         obs   \n4              10.0  Partially cloudy  partly-cloudy-night         obs   \n5              10.0          Overcast               cloudy         obs   \n6              10.0          Overcast               cloudy         obs   \n7              10.0          Overcast                  fog         obs   \n8              10.0          Overcast                  fog         obs   \n9              10.0  Partially cloudy                  fog         obs   \n10             10.0  Partially cloudy                  fog         obs   \n11             10.0  Partially cloudy                  fog         obs   \n12             10.0          Overcast                  fog         obs   \n13             10.0          Overcast                  fog         obs   \n14             10.0          Overcast                  fog         obs   \n\n   hour_stations  \n0         remote  \n1         remote  \n2         remote  \n3         remote  \n4         remote  \n5         remote  \n6         remote  \n7         remote  \n8         remote  \n9         remote  \n10        remote  \n11        remote  \n12        remote  \n13        remote  \n14        remote  ",
      "text/html": "<div>\n<style scoped>\n    .dataframe tbody tr th:only-of-type {\n        vertical-align: middle;\n    }\n\n    .dataframe tbody tr th {\n        vertical-align: top;\n    }\n\n    .dataframe thead th {\n        text-align: right;\n    }\n</style>\n<table border=\"1\" class=\"dataframe\">\n  <thead>\n    <tr style=\"text-align: right;\">\n      <th></th>\n      <th>city_latitude</th>\n      <th>city_longitude</th>\n      <th>city_resolvedAddress</th>\n      <th>city_address</th>\n      <th>city_timezone</th>\n      <th>city_tzoffset</th>\n      <th>day_datetime</th>\n      <th>day_datetimeEpoch</th>\n      <th>day_tempmax</th>\n      <th>day_tempmin</th>\n      <th>day_temp</th>\n      <th>day_feelslikemax</th>\n      <th>day_feelslikemin</th>\n      <th>day_feelslike</th>\n      <th>day_dew</th>\n      <th>day_humidity</th>\n      <th>day_precip</th>\n      <th>day_precipprob</th>\n      <th>day_precipcover</th>\n      <th>day_snow</th>\n      <th>day_snowdepth</th>\n      <th>day_windgust</th>\n      <th>day_windspeed</th>\n      <th>day_winddir</th>\n      <th>day_pressure</th>\n      <th>day_cloudcover</th>\n      <th>day_visibility</th>\n      <th>day_solarradiation</th>\n      <th>day_solarenergy</th>\n      <th>day_uvindex</th>\n      <th>day_severerisk</th>\n      <th>day_sunrise</th>\n      <th>day_sunriseEpoch</th>\n      <th>day_sunset</th>\n      <th>day_sunsetEpoch</th>\n      <th>day_moonphase</th>\n      <th>day_conditions</th>\n      <th>day_description</th>\n      <th>day_icon</th>\n      <th>day_source</th>\n      <th>day_preciptype</th>\n      <th>day_stations</th>\n      <th>hour_datetime</th>\n      <th>hour_datetimeEpoch</th>\n      <th>hour_temp</th>\n      <th>hour_feelslike</th>\n      <th>hour_humidity</th>\n      <th>hour_dew</th>\n      <th>hour_precip</th>\n      <th>hour_precipprob</th>\n      <th>hour_snow</th>\n      <th>hour_snowdepth</th>\n      <th>hour_preciptype</th>\n      <th>hour_windgust</th>\n      <th>hour_windspeed</th>\n      <th>hour_winddir</th>\n      <th>hour_pressure</th>\n      <th>hour_visibility</th>\n      <th>hour_cloudcover</th>\n      <th>hour_solarradiation</th>\n      <th>hour_solarenergy</th>\n      <th>hour_uvindex</th>\n      <th>hour_severerisk</th>\n      <th>hour_conditions</th>\n      <th>hour_icon</th>\n      <th>hour_source</th>\n      <th>hour_stations</th>\n    </tr>\n  </thead>\n  <tbody>\n    <tr>\n      <th>0</th>\n      <td>49.4407</td>\n      <td>32.0637</td>\n      <td>Черкаси, Україна</td>\n      <td>Cherkasy,Ukraine</td>\n      <td>Europe/Kiev</td>\n      <td>2.0</td>\n      <td>2022-02-24</td>\n      <td>1645653600</td>\n      <td>4.9</td>\n      <td>-0.1</td>\n      <td>1.9</td>\n      <td>4.4</td>\n      <td>-0.1</td>\n      <td>1.6</td>\n      <td>-0.6</td>\n      <td>83.4</td>\n      <td>0.0</td>\n      <td>0.0</td>\n      <td>0.0</td>\n      <td>0.0</td>\n      <td>0.0</td>\n      <td>14.4</td>\n      <td>8.3</td>\n      <td>47.6</td>\n      <td>1023.2</td>\n      <td>69.4</td>\n      <td>12.2</td>\n      <td>47.4</td>\n      <td>4.4</td>\n      <td>2.0</td>\n      <td>10.0</td>\n      <td>06:44:41</td>\n      <td>1645677881</td>\n      <td>17:26:05</td>\n      <td>1645716365</td>\n      <td>0.77</td>\n      <td>Partially cloudy</td>\n      <td>Partly cloudy throughout the day.</td>\n      <td>partly-cloudy-day</td>\n      <td>obs</td>\n      <td>rain</td>\n      <td>remote</td>\n      <td>00:00:00</td>\n      <td>1645653600</td>\n      <td>0.9</td>\n      <td>0.9</td>\n      <td>75.73</td>\n      <td>-2.9</td>\n      <td>0.0</td>\n      <td>0.0</td>\n      <td>0.0</td>\n      <td>0.0</td>\n      <td>NaN</td>\n      <td>7.2</td>\n      <td>4.0</td>\n      <td>132.0</td>\n      <td>1020.0</td>\n      <td>24.1</td>\n      <td>89.0</td>\n      <td>0.0</td>\n      <td>NaN</td>\n      <td>0.0</td>\n      <td>10.0</td>\n      <td>Partially cloudy</td>\n      <td>partly-cloudy-night</td>\n      <td>obs</td>\n      <td>remote</td>\n    </tr>\n    <tr>\n      <th>1</th>\n      <td>49.4407</td>\n      <td>32.0637</td>\n      <td>Черкаси, Україна</td>\n      <td>Cherkasy,Ukraine</td>\n      <td>Europe/Kiev</td>\n      <td>2.0</td>\n      <td>2022-02-24</td>\n      <td>1645653600</td>\n      <td>4.9</td>\n      <td>-0.1</td>\n      <td>1.9</td>\n      <td>4.4</td>\n      <td>-0.1</td>\n      <td>1.6</td>\n      <td>-0.6</td>\n      <td>83.4</td>\n      <td>0.0</td>\n      <td>0.0</td>\n      <td>0.0</td>\n      <td>0.0</td>\n      <td>0.0</td>\n      <td>14.4</td>\n      <td>8.3</td>\n      <td>47.6</td>\n      <td>1023.2</td>\n      <td>69.4</td>\n      <td>12.2</td>\n      <td>47.4</td>\n      <td>4.4</td>\n      <td>2.0</td>\n      <td>10.0</td>\n      <td>06:44:41</td>\n      <td>1645677881</td>\n      <td>17:26:05</td>\n      <td>1645716365</td>\n      <td>0.77</td>\n      <td>Partially cloudy</td>\n      <td>Partly cloudy throughout the day.</td>\n      <td>partly-cloudy-day</td>\n      <td>obs</td>\n      <td>rain</td>\n      <td>remote</td>\n      <td>01:00:00</td>\n      <td>1645657200</td>\n      <td>0.6</td>\n      <td>0.6</td>\n      <td>77.96</td>\n      <td>-2.8</td>\n      <td>0.0</td>\n      <td>0.0</td>\n      <td>0.0</td>\n      <td>0.0</td>\n      <td>NaN</td>\n      <td>6.5</td>\n      <td>3.6</td>\n      <td>147.9</td>\n      <td>1020.0</td>\n      <td>24.1</td>\n      <td>71.1</td>\n      <td>0.0</td>\n      <td>NaN</td>\n      <td>0.0</td>\n      <td>10.0</td>\n      <td>Partially cloudy</td>\n      <td>partly-cloudy-night</td>\n      <td>obs</td>\n      <td>remote</td>\n    </tr>\n    <tr>\n      <th>2</th>\n      <td>49.4407</td>\n      <td>32.0637</td>\n      <td>Черкаси, Україна</td>\n      <td>Cherkasy,Ukraine</td>\n      <td>Europe/Kiev</td>\n      <td>2.0</td>\n      <td>2022-02-24</td>\n      <td>1645653600</td>\n      <td>4.9</td>\n      <td>-0.1</td>\n      <td>1.9</td>\n      <td>4.4</td>\n      <td>-0.1</td>\n      <td>1.6</td>\n      <td>-0.6</td>\n      <td>83.4</td>\n      <td>0.0</td>\n      <td>0.0</td>\n      <td>0.0</td>\n      <td>0.0</td>\n      <td>0.0</td>\n      <td>14.4</td>\n      <td>8.3</td>\n      <td>47.6</td>\n      <td>1023.2</td>\n      <td>69.4</td>\n      <td>12.2</td>\n      <td>47.4</td>\n      <td>4.4</td>\n      <td>2.0</td>\n      <td>10.0</td>\n      <td>06:44:41</td>\n      <td>1645677881</td>\n      <td>17:26:05</td>\n      <td>1645716365</td>\n      <td>0.77</td>\n      <td>Partially cloudy</td>\n      <td>Partly cloudy throughout the day.</td>\n      <td>partly-cloudy-day</td>\n      <td>obs</td>\n      <td>rain</td>\n      <td>remote</td>\n      <td>02:00:00</td>\n      <td>1645660800</td>\n      <td>0.4</td>\n      <td>0.4</td>\n      <td>82.08</td>\n      <td>-2.3</td>\n      <td>0.0</td>\n      <td>0.0</td>\n      <td>0.0</td>\n      <td>0.0</td>\n      <td>NaN</td>\n      <td>8.3</td>\n      <td>3.2</td>\n      <td>198.2</td>\n      <td>1020.0</td>\n      <td>24.1</td>\n      <td>95.4</td>\n      <td>0.0</td>\n      <td>NaN</td>\n      <td>0.0</td>\n      <td>10.0</td>\n      <td>Overcast</td>\n      <td>cloudy</td>\n      <td>obs</td>\n      <td>remote</td>\n    </tr>\n    <tr>\n      <th>3</th>\n      <td>49.4407</td>\n      <td>32.0637</td>\n      <td>Черкаси, Україна</td>\n      <td>Cherkasy,Ukraine</td>\n      <td>Europe/Kiev</td>\n      <td>2.0</td>\n      <td>2022-02-24</td>\n      <td>1645653600</td>\n      <td>4.9</td>\n      <td>-0.1</td>\n      <td>1.9</td>\n      <td>4.4</td>\n      <td>-0.1</td>\n      <td>1.6</td>\n      <td>-0.6</td>\n      <td>83.4</td>\n      <td>0.0</td>\n      <td>0.0</td>\n      <td>0.0</td>\n      <td>0.0</td>\n      <td>0.0</td>\n      <td>14.4</td>\n      <td>8.3</td>\n      <td>47.6</td>\n      <td>1023.2</td>\n      <td>69.4</td>\n      <td>12.2</td>\n      <td>47.4</td>\n      <td>4.4</td>\n      <td>2.0</td>\n      <td>10.0</td>\n      <td>06:44:41</td>\n      <td>1645677881</td>\n      <td>17:26:05</td>\n      <td>1645716365</td>\n      <td>0.77</td>\n      <td>Partially cloudy</td>\n      <td>Partly cloudy throughout the day.</td>\n      <td>partly-cloudy-day</td>\n      <td>obs</td>\n      <td>rain</td>\n      <td>remote</td>\n      <td>03:00:00</td>\n      <td>1645664400</td>\n      <td>0.2</td>\n      <td>0.2</td>\n      <td>83.28</td>\n      <td>-2.3</td>\n      <td>0.0</td>\n      <td>0.0</td>\n      <td>0.0</td>\n      <td>0.0</td>\n      <td>NaN</td>\n      <td>5.0</td>\n      <td>2.9</td>\n      <td>202.3</td>\n      <td>1020.0</td>\n      <td>24.1</td>\n      <td>74.6</td>\n      <td>0.0</td>\n      <td>NaN</td>\n      <td>0.0</td>\n      <td>10.0</td>\n      <td>Partially cloudy</td>\n      <td>partly-cloudy-night</td>\n      <td>obs</td>\n      <td>remote</td>\n    </tr>\n    <tr>\n      <th>4</th>\n      <td>49.4407</td>\n      <td>32.0637</td>\n      <td>Черкаси, Україна</td>\n      <td>Cherkasy,Ukraine</td>\n      <td>Europe/Kiev</td>\n      <td>2.0</td>\n      <td>2022-02-24</td>\n      <td>1645653600</td>\n      <td>4.9</td>\n      <td>-0.1</td>\n      <td>1.9</td>\n      <td>4.4</td>\n      <td>-0.1</td>\n      <td>1.6</td>\n      <td>-0.6</td>\n      <td>83.4</td>\n      <td>0.0</td>\n      <td>0.0</td>\n      <td>0.0</td>\n      <td>0.0</td>\n      <td>0.0</td>\n      <td>14.4</td>\n      <td>8.3</td>\n      <td>47.6</td>\n      <td>1023.2</td>\n      <td>69.4</td>\n      <td>12.2</td>\n      <td>47.4</td>\n      <td>4.4</td>\n      <td>2.0</td>\n      <td>10.0</td>\n      <td>06:44:41</td>\n      <td>1645677881</td>\n      <td>17:26:05</td>\n      <td>1645716365</td>\n      <td>0.77</td>\n      <td>Partially cloudy</td>\n      <td>Partly cloudy throughout the day.</td>\n      <td>partly-cloudy-day</td>\n      <td>obs</td>\n      <td>rain</td>\n      <td>remote</td>\n      <td>04:00:00</td>\n      <td>1645668000</td>\n      <td>0.0</td>\n      <td>0.0</td>\n      <td>83.87</td>\n      <td>-2.4</td>\n      <td>0.0</td>\n      <td>0.0</td>\n      <td>0.0</td>\n      <td>0.0</td>\n      <td>NaN</td>\n      <td>5.0</td>\n      <td>2.9</td>\n      <td>203.6</td>\n      <td>1021.0</td>\n      <td>24.1</td>\n      <td>67.8</td>\n      <td>0.0</td>\n      <td>NaN</td>\n      <td>0.0</td>\n      <td>10.0</td>\n      <td>Partially cloudy</td>\n      <td>partly-cloudy-night</td>\n      <td>obs</td>\n      <td>remote</td>\n    </tr>\n    <tr>\n      <th>5</th>\n      <td>49.4407</td>\n      <td>32.0637</td>\n      <td>Черкаси, Україна</td>\n      <td>Cherkasy,Ukraine</td>\n      <td>Europe/Kiev</td>\n      <td>2.0</td>\n      <td>2022-02-24</td>\n      <td>1645653600</td>\n      <td>4.9</td>\n      <td>-0.1</td>\n      <td>1.9</td>\n      <td>4.4</td>\n      <td>-0.1</td>\n      <td>1.6</td>\n      <td>-0.6</td>\n      <td>83.4</td>\n      <td>0.0</td>\n      <td>0.0</td>\n      <td>0.0</td>\n      <td>0.0</td>\n      <td>0.0</td>\n      <td>14.4</td>\n      <td>8.3</td>\n      <td>47.6</td>\n      <td>1023.2</td>\n      <td>69.4</td>\n      <td>12.2</td>\n      <td>47.4</td>\n      <td>4.4</td>\n      <td>2.0</td>\n      <td>10.0</td>\n      <td>06:44:41</td>\n      <td>1645677881</td>\n      <td>17:26:05</td>\n      <td>1645716365</td>\n      <td>0.77</td>\n      <td>Partially cloudy</td>\n      <td>Partly cloudy throughout the day.</td>\n      <td>partly-cloudy-day</td>\n      <td>obs</td>\n      <td>rain</td>\n      <td>remote</td>\n      <td>05:00:00</td>\n      <td>1645671600</td>\n      <td>-0.1</td>\n      <td>-0.1</td>\n      <td>83.86</td>\n      <td>-2.5</td>\n      <td>0.0</td>\n      <td>0.0</td>\n      <td>0.0</td>\n      <td>0.0</td>\n      <td>NaN</td>\n      <td>4.3</td>\n      <td>1.8</td>\n      <td>197.5</td>\n      <td>1021.0</td>\n      <td>24.1</td>\n      <td>94.1</td>\n      <td>0.0</td>\n      <td>NaN</td>\n      <td>0.0</td>\n      <td>10.0</td>\n      <td>Overcast</td>\n      <td>cloudy</td>\n      <td>obs</td>\n      <td>remote</td>\n    </tr>\n    <tr>\n      <th>6</th>\n      <td>49.4407</td>\n      <td>32.0637</td>\n      <td>Черкаси, Україна</td>\n      <td>Cherkasy,Ukraine</td>\n      <td>Europe/Kiev</td>\n      <td>2.0</td>\n      <td>2022-02-24</td>\n      <td>1645653600</td>\n      <td>4.9</td>\n      <td>-0.1</td>\n      <td>1.9</td>\n      <td>4.4</td>\n      <td>-0.1</td>\n      <td>1.6</td>\n      <td>-0.6</td>\n      <td>83.4</td>\n      <td>0.0</td>\n      <td>0.0</td>\n      <td>0.0</td>\n      <td>0.0</td>\n      <td>0.0</td>\n      <td>14.4</td>\n      <td>8.3</td>\n      <td>47.6</td>\n      <td>1023.2</td>\n      <td>69.4</td>\n      <td>12.2</td>\n      <td>47.4</td>\n      <td>4.4</td>\n      <td>2.0</td>\n      <td>10.0</td>\n      <td>06:44:41</td>\n      <td>1645677881</td>\n      <td>17:26:05</td>\n      <td>1645716365</td>\n      <td>0.77</td>\n      <td>Partially cloudy</td>\n      <td>Partly cloudy throughout the day.</td>\n      <td>partly-cloudy-day</td>\n      <td>obs</td>\n      <td>rain</td>\n      <td>remote</td>\n      <td>06:00:00</td>\n      <td>1645675200</td>\n      <td>0.0</td>\n      <td>0.0</td>\n      <td>83.87</td>\n      <td>-2.4</td>\n      <td>0.0</td>\n      <td>0.0</td>\n      <td>0.0</td>\n      <td>0.0</td>\n      <td>NaN</td>\n      <td>2.9</td>\n      <td>1.1</td>\n      <td>199.2</td>\n      <td>1022.0</td>\n      <td>24.1</td>\n      <td>100.0</td>\n      <td>0.0</td>\n      <td>0.0</td>\n      <td>0.0</td>\n      <td>10.0</td>\n      <td>Overcast</td>\n      <td>cloudy</td>\n      <td>obs</td>\n      <td>remote</td>\n    </tr>\n    <tr>\n      <th>7</th>\n      <td>49.4407</td>\n      <td>32.0637</td>\n      <td>Черкаси, Україна</td>\n      <td>Cherkasy,Ukraine</td>\n      <td>Europe/Kiev</td>\n      <td>2.0</td>\n      <td>2022-02-24</td>\n      <td>1645653600</td>\n      <td>4.9</td>\n      <td>-0.1</td>\n      <td>1.9</td>\n      <td>4.4</td>\n      <td>-0.1</td>\n      <td>1.6</td>\n      <td>-0.6</td>\n      <td>83.4</td>\n      <td>0.0</td>\n      <td>0.0</td>\n      <td>0.0</td>\n      <td>0.0</td>\n      <td>0.0</td>\n      <td>14.4</td>\n      <td>8.3</td>\n      <td>47.6</td>\n      <td>1023.2</td>\n      <td>69.4</td>\n      <td>12.2</td>\n      <td>47.4</td>\n      <td>4.4</td>\n      <td>2.0</td>\n      <td>10.0</td>\n      <td>06:44:41</td>\n      <td>1645677881</td>\n      <td>17:26:05</td>\n      <td>1645716365</td>\n      <td>0.77</td>\n      <td>Partially cloudy</td>\n      <td>Partly cloudy throughout the day.</td>\n      <td>partly-cloudy-day</td>\n      <td>obs</td>\n      <td>rain</td>\n      <td>remote</td>\n      <td>07:00:00</td>\n      <td>1645678800</td>\n      <td>0.0</td>\n      <td>0.0</td>\n      <td>83.87</td>\n      <td>-2.4</td>\n      <td>0.0</td>\n      <td>0.0</td>\n      <td>0.0</td>\n      <td>0.0</td>\n      <td>NaN</td>\n      <td>2.2</td>\n      <td>1.4</td>\n      <td>221.7</td>\n      <td>1023.0</td>\n      <td>0.2</td>\n      <td>97.9</td>\n      <td>0.0</td>\n      <td>0.3</td>\n      <td>0.0</td>\n      <td>10.0</td>\n      <td>Overcast</td>\n      <td>fog</td>\n      <td>obs</td>\n      <td>remote</td>\n    </tr>\n    <tr>\n      <th>8</th>\n      <td>49.4407</td>\n      <td>32.0637</td>\n      <td>Черкаси, Україна</td>\n      <td>Cherkasy,Ukraine</td>\n      <td>Europe/Kiev</td>\n      <td>2.0</td>\n      <td>2022-02-24</td>\n      <td>1645653600</td>\n      <td>4.9</td>\n      <td>-0.1</td>\n      <td>1.9</td>\n      <td>4.4</td>\n      <td>-0.1</td>\n      <td>1.6</td>\n      <td>-0.6</td>\n      <td>83.4</td>\n      <td>0.0</td>\n      <td>0.0</td>\n      <td>0.0</td>\n      <td>0.0</td>\n      <td>0.0</td>\n      <td>14.4</td>\n      <td>8.3</td>\n      <td>47.6</td>\n      <td>1023.2</td>\n      <td>69.4</td>\n      <td>12.2</td>\n      <td>47.4</td>\n      <td>4.4</td>\n      <td>2.0</td>\n      <td>10.0</td>\n      <td>06:44:41</td>\n      <td>1645677881</td>\n      <td>17:26:05</td>\n      <td>1645716365</td>\n      <td>0.77</td>\n      <td>Partially cloudy</td>\n      <td>Partly cloudy throughout the day.</td>\n      <td>partly-cloudy-day</td>\n      <td>obs</td>\n      <td>rain</td>\n      <td>remote</td>\n      <td>08:00:00</td>\n      <td>1645682400</td>\n      <td>0.1</td>\n      <td>0.1</td>\n      <td>87.68</td>\n      <td>-1.7</td>\n      <td>0.0</td>\n      <td>0.0</td>\n      <td>0.0</td>\n      <td>0.0</td>\n      <td>NaN</td>\n      <td>5.4</td>\n      <td>3.2</td>\n      <td>245.3</td>\n      <td>1023.0</td>\n      <td>0.1</td>\n      <td>90.8</td>\n      <td>179.4</td>\n      <td>0.6</td>\n      <td>2.0</td>\n      <td>10.0</td>\n      <td>Overcast</td>\n      <td>fog</td>\n      <td>obs</td>\n      <td>remote</td>\n    </tr>\n    <tr>\n      <th>9</th>\n      <td>49.4407</td>\n      <td>32.0637</td>\n      <td>Черкаси, Україна</td>\n      <td>Cherkasy,Ukraine</td>\n      <td>Europe/Kiev</td>\n      <td>2.0</td>\n      <td>2022-02-24</td>\n      <td>1645653600</td>\n      <td>4.9</td>\n      <td>-0.1</td>\n      <td>1.9</td>\n      <td>4.4</td>\n      <td>-0.1</td>\n      <td>1.6</td>\n      <td>-0.6</td>\n      <td>83.4</td>\n      <td>0.0</td>\n      <td>0.0</td>\n      <td>0.0</td>\n      <td>0.0</td>\n      <td>0.0</td>\n      <td>14.4</td>\n      <td>8.3</td>\n      <td>47.6</td>\n      <td>1023.2</td>\n      <td>69.4</td>\n      <td>12.2</td>\n      <td>47.4</td>\n      <td>4.4</td>\n      <td>2.0</td>\n      <td>10.0</td>\n      <td>06:44:41</td>\n      <td>1645677881</td>\n      <td>17:26:05</td>\n      <td>1645716365</td>\n      <td>0.77</td>\n      <td>Partially cloudy</td>\n      <td>Partly cloudy throughout the day.</td>\n      <td>partly-cloudy-day</td>\n      <td>obs</td>\n      <td>rain</td>\n      <td>remote</td>\n      <td>09:00:00</td>\n      <td>1645686000</td>\n      <td>1.4</td>\n      <td>1.4</td>\n      <td>85.91</td>\n      <td>-0.7</td>\n      <td>0.0</td>\n      <td>0.0</td>\n      <td>0.0</td>\n      <td>0.0</td>\n      <td>NaN</td>\n      <td>5.0</td>\n      <td>2.5</td>\n      <td>247.0</td>\n      <td>1024.0</td>\n      <td>0.1</td>\n      <td>73.3</td>\n      <td>42.0</td>\n      <td>0.2</td>\n      <td>0.0</td>\n      <td>10.0</td>\n      <td>Partially cloudy</td>\n      <td>fog</td>\n      <td>obs</td>\n      <td>remote</td>\n    </tr>\n    <tr>\n      <th>10</th>\n      <td>49.4407</td>\n      <td>32.0637</td>\n      <td>Черкаси, Україна</td>\n      <td>Cherkasy,Ukraine</td>\n      <td>Europe/Kiev</td>\n      <td>2.0</td>\n      <td>2022-02-24</td>\n      <td>1645653600</td>\n      <td>4.9</td>\n      <td>-0.1</td>\n      <td>1.9</td>\n      <td>4.4</td>\n      <td>-0.1</td>\n      <td>1.6</td>\n      <td>-0.6</td>\n      <td>83.4</td>\n      <td>0.0</td>\n      <td>0.0</td>\n      <td>0.0</td>\n      <td>0.0</td>\n      <td>0.0</td>\n      <td>14.4</td>\n      <td>8.3</td>\n      <td>47.6</td>\n      <td>1023.2</td>\n      <td>69.4</td>\n      <td>12.2</td>\n      <td>47.4</td>\n      <td>4.4</td>\n      <td>2.0</td>\n      <td>10.0</td>\n      <td>06:44:41</td>\n      <td>1645677881</td>\n      <td>17:26:05</td>\n      <td>1645716365</td>\n      <td>0.77</td>\n      <td>Partially cloudy</td>\n      <td>Partly cloudy throughout the day.</td>\n      <td>partly-cloudy-day</td>\n      <td>obs</td>\n      <td>rain</td>\n      <td>remote</td>\n      <td>10:00:00</td>\n      <td>1645689600</td>\n      <td>2.8</td>\n      <td>2.8</td>\n      <td>81.81</td>\n      <td>0.0</td>\n      <td>0.0</td>\n      <td>0.0</td>\n      <td>0.0</td>\n      <td>0.0</td>\n      <td>NaN</td>\n      <td>5.8</td>\n      <td>2.9</td>\n      <td>282.1</td>\n      <td>1024.0</td>\n      <td>0.1</td>\n      <td>69.4</td>\n      <td>46.0</td>\n      <td>0.2</td>\n      <td>0.0</td>\n      <td>10.0</td>\n      <td>Partially cloudy</td>\n      <td>fog</td>\n      <td>obs</td>\n      <td>remote</td>\n    </tr>\n    <tr>\n      <th>11</th>\n      <td>49.4407</td>\n      <td>32.0637</td>\n      <td>Черкаси, Україна</td>\n      <td>Cherkasy,Ukraine</td>\n      <td>Europe/Kiev</td>\n      <td>2.0</td>\n      <td>2022-02-24</td>\n      <td>1645653600</td>\n      <td>4.9</td>\n      <td>-0.1</td>\n      <td>1.9</td>\n      <td>4.4</td>\n      <td>-0.1</td>\n      <td>1.6</td>\n      <td>-0.6</td>\n      <td>83.4</td>\n      <td>0.0</td>\n      <td>0.0</td>\n      <td>0.0</td>\n      <td>0.0</td>\n      <td>0.0</td>\n      <td>14.4</td>\n      <td>8.3</td>\n      <td>47.6</td>\n      <td>1023.2</td>\n      <td>69.4</td>\n      <td>12.2</td>\n      <td>47.4</td>\n      <td>4.4</td>\n      <td>2.0</td>\n      <td>10.0</td>\n      <td>06:44:41</td>\n      <td>1645677881</td>\n      <td>17:26:05</td>\n      <td>1645716365</td>\n      <td>0.77</td>\n      <td>Partially cloudy</td>\n      <td>Partly cloudy throughout the day.</td>\n      <td>partly-cloudy-day</td>\n      <td>obs</td>\n      <td>rain</td>\n      <td>remote</td>\n      <td>11:00:00</td>\n      <td>1645693200</td>\n      <td>4.2</td>\n      <td>3.1</td>\n      <td>78.53</td>\n      <td>0.8</td>\n      <td>0.0</td>\n      <td>0.0</td>\n      <td>0.0</td>\n      <td>0.0</td>\n      <td>NaN</td>\n      <td>9.7</td>\n      <td>5.0</td>\n      <td>330.1</td>\n      <td>1025.0</td>\n      <td>0.2</td>\n      <td>78.6</td>\n      <td>54.0</td>\n      <td>0.2</td>\n      <td>1.0</td>\n      <td>10.0</td>\n      <td>Partially cloudy</td>\n      <td>fog</td>\n      <td>obs</td>\n      <td>remote</td>\n    </tr>\n    <tr>\n      <th>12</th>\n      <td>49.4407</td>\n      <td>32.0637</td>\n      <td>Черкаси, Україна</td>\n      <td>Cherkasy,Ukraine</td>\n      <td>Europe/Kiev</td>\n      <td>2.0</td>\n      <td>2022-02-24</td>\n      <td>1645653600</td>\n      <td>4.9</td>\n      <td>-0.1</td>\n      <td>1.9</td>\n      <td>4.4</td>\n      <td>-0.1</td>\n      <td>1.6</td>\n      <td>-0.6</td>\n      <td>83.4</td>\n      <td>0.0</td>\n      <td>0.0</td>\n      <td>0.0</td>\n      <td>0.0</td>\n      <td>0.0</td>\n      <td>14.4</td>\n      <td>8.3</td>\n      <td>47.6</td>\n      <td>1023.2</td>\n      <td>69.4</td>\n      <td>12.2</td>\n      <td>47.4</td>\n      <td>4.4</td>\n      <td>2.0</td>\n      <td>10.0</td>\n      <td>06:44:41</td>\n      <td>1645677881</td>\n      <td>17:26:05</td>\n      <td>1645716365</td>\n      <td>0.77</td>\n      <td>Partially cloudy</td>\n      <td>Partly cloudy throughout the day.</td>\n      <td>partly-cloudy-day</td>\n      <td>obs</td>\n      <td>rain</td>\n      <td>remote</td>\n      <td>12:00:00</td>\n      <td>1645696800</td>\n      <td>4.9</td>\n      <td>3.4</td>\n      <td>73.18</td>\n      <td>0.5</td>\n      <td>0.0</td>\n      <td>0.0</td>\n      <td>0.0</td>\n      <td>0.0</td>\n      <td>NaN</td>\n      <td>11.5</td>\n      <td>6.5</td>\n      <td>358.5</td>\n      <td>1025.0</td>\n      <td>0.2</td>\n      <td>94.8</td>\n      <td>62.0</td>\n      <td>0.2</td>\n      <td>1.0</td>\n      <td>10.0</td>\n      <td>Overcast</td>\n      <td>fog</td>\n      <td>obs</td>\n      <td>remote</td>\n    </tr>\n    <tr>\n      <th>13</th>\n      <td>49.4407</td>\n      <td>32.0637</td>\n      <td>Черкаси, Україна</td>\n      <td>Cherkasy,Ukraine</td>\n      <td>Europe/Kiev</td>\n      <td>2.0</td>\n      <td>2022-02-24</td>\n      <td>1645653600</td>\n      <td>4.9</td>\n      <td>-0.1</td>\n      <td>1.9</td>\n      <td>4.4</td>\n      <td>-0.1</td>\n      <td>1.6</td>\n      <td>-0.6</td>\n      <td>83.4</td>\n      <td>0.0</td>\n      <td>0.0</td>\n      <td>0.0</td>\n      <td>0.0</td>\n      <td>0.0</td>\n      <td>14.4</td>\n      <td>8.3</td>\n      <td>47.6</td>\n      <td>1023.2</td>\n      <td>69.4</td>\n      <td>12.2</td>\n      <td>47.4</td>\n      <td>4.4</td>\n      <td>2.0</td>\n      <td>10.0</td>\n      <td>06:44:41</td>\n      <td>1645677881</td>\n      <td>17:26:05</td>\n      <td>1645716365</td>\n      <td>0.77</td>\n      <td>Partially cloudy</td>\n      <td>Partly cloudy throughout the day.</td>\n      <td>partly-cloudy-day</td>\n      <td>obs</td>\n      <td>rain</td>\n      <td>remote</td>\n      <td>13:00:00</td>\n      <td>1645700400</td>\n      <td>4.8</td>\n      <td>2.8</td>\n      <td>72.63</td>\n      <td>0.3</td>\n      <td>0.0</td>\n      <td>0.0</td>\n      <td>0.0</td>\n      <td>0.0</td>\n      <td>['rain']</td>\n      <td>14.4</td>\n      <td>8.3</td>\n      <td>14.3</td>\n      <td>1025.0</td>\n      <td>0.3</td>\n      <td>97.5</td>\n      <td>70.0</td>\n      <td>0.3</td>\n      <td>1.0</td>\n      <td>10.0</td>\n      <td>Overcast</td>\n      <td>fog</td>\n      <td>obs</td>\n      <td>remote</td>\n    </tr>\n    <tr>\n      <th>14</th>\n      <td>49.4407</td>\n      <td>32.0637</td>\n      <td>Черкаси, Україна</td>\n      <td>Cherkasy,Ukraine</td>\n      <td>Europe/Kiev</td>\n      <td>2.0</td>\n      <td>2022-02-24</td>\n      <td>1645653600</td>\n      <td>4.9</td>\n      <td>-0.1</td>\n      <td>1.9</td>\n      <td>4.4</td>\n      <td>-0.1</td>\n      <td>1.6</td>\n      <td>-0.6</td>\n      <td>83.4</td>\n      <td>0.0</td>\n      <td>0.0</td>\n      <td>0.0</td>\n      <td>0.0</td>\n      <td>0.0</td>\n      <td>14.4</td>\n      <td>8.3</td>\n      <td>47.6</td>\n      <td>1023.2</td>\n      <td>69.4</td>\n      <td>12.2</td>\n      <td>47.4</td>\n      <td>4.4</td>\n      <td>2.0</td>\n      <td>10.0</td>\n      <td>06:44:41</td>\n      <td>1645677881</td>\n      <td>17:26:05</td>\n      <td>1645716365</td>\n      <td>0.77</td>\n      <td>Partially cloudy</td>\n      <td>Partly cloudy throughout the day.</td>\n      <td>partly-cloudy-day</td>\n      <td>obs</td>\n      <td>rain</td>\n      <td>remote</td>\n      <td>14:00:00</td>\n      <td>1645704000</td>\n      <td>4.7</td>\n      <td>3.0</td>\n      <td>79.17</td>\n      <td>1.4</td>\n      <td>0.0</td>\n      <td>0.0</td>\n      <td>0.0</td>\n      <td>0.0</td>\n      <td>NaN</td>\n      <td>2.2</td>\n      <td>7.2</td>\n      <td>29.6</td>\n      <td>1025.0</td>\n      <td>0.6</td>\n      <td>92.8</td>\n      <td>199.8</td>\n      <td>0.7</td>\n      <td>2.0</td>\n      <td>10.0</td>\n      <td>Overcast</td>\n      <td>fog</td>\n      <td>obs</td>\n      <td>remote</td>\n    </tr>\n  </tbody>\n</table>\n</div>"
     },
     "execution_count": 30,
     "metadata": {},
     "output_type": "execute_result"
    }
   ],
   "source": [
    "df_weather.head(15)"
   ]
  },
  {
   "cell_type": "code",
   "execution_count": 31,
   "id": "defcbb4d",
   "metadata": {},
   "outputs": [],
   "source": [
    "# len(clmns)"
   ]
  },
  {
   "cell_type": "code",
   "execution_count": 32,
   "id": "b2d92e99",
   "metadata": {},
   "outputs": [],
   "source": [
    "# exclude\n",
    "weather_exclude = [\n",
    "\"day_feelslikemax\",\n",
    "\"day_feelslikemin\",\n",
    "\"day_sunriseEpoch\",\n",
    "\"day_sunsetEpoch\",\n",
    "\"day_description\",\n",
    "\"city_latitude\",\n",
    "\"city_longitude\",\n",
    "\"city_address\",\n",
    "\"city_timezone\",\n",
    "\"city_tzoffset\",\n",
    "\"day_feelslike\",\n",
    "\"day_precipprob\",\n",
    "\"day_snow\",\n",
    "\"day_snowdepth\",\n",
    "\"day_windgust\",\n",
    "\"day_windspeed\",\n",
    "\"day_winddir\",\n",
    "\"day_pressure\",\n",
    "\"day_cloudcover\",\n",
    "\"day_visibility\",\n",
    "\"day_severerisk\",\n",
    "\"day_conditions\",\n",
    "\"day_icon\",\n",
    "\"day_source\",\n",
    "\"day_preciptype\",\n",
    "\"day_stations\",\n",
    "\"hour_icon\",\n",
    "\"hour_source\",\n",
    "\"hour_stations\",\n",
    "\"hour_feelslike\"\n",
    "]"
   ]
  },
  {
   "cell_type": "code",
   "execution_count": 33,
   "id": "95e9c9b9",
   "metadata": {},
   "outputs": [],
   "source": [
    "# new_list = [x for x in clmns if (x not in weather_exclude)]\n",
    "# new_list"
   ]
  },
  {
   "cell_type": "code",
   "execution_count": 34,
   "id": "0ce0ab81",
   "metadata": {},
   "outputs": [],
   "source": [
    "df_weather_v2 = df_weather.drop(weather_exclude, axis=1)"
   ]
  },
  {
   "cell_type": "code",
   "execution_count": 35,
   "id": "9fd632b4",
   "metadata": {},
   "outputs": [],
   "source": [
    "df_weather_v2[\"city\"] = df_weather_v2[\"city_resolvedAddress\"].apply(lambda x: x.split(\",\")[0])\n",
    "df_weather_v2[\"city\"] = df_weather_v2[\"city\"].replace('Хмельницька область', \"Хмельницький\")"
   ]
  },
  {
   "cell_type": "code",
   "execution_count": 36,
   "id": "453ac798",
   "metadata": {
    "scrolled": true
   },
   "outputs": [
    {
     "data": {
      "text/plain": "  city_resolvedAddress day_datetime  day_datetimeEpoch  day_tempmax  \\\n0     Черкаси, Україна   2022-02-24         1645653600          4.9   \n1     Черкаси, Україна   2022-02-24         1645653600          4.9   \n2     Черкаси, Україна   2022-02-24         1645653600          4.9   \n3     Черкаси, Україна   2022-02-24         1645653600          4.9   \n4     Черкаси, Україна   2022-02-24         1645653600          4.9   \n\n   day_tempmin  day_temp  day_dew  day_humidity  day_precip  day_precipcover  \\\n0         -0.1       1.9     -0.6          83.4         0.0              0.0   \n1         -0.1       1.9     -0.6          83.4         0.0              0.0   \n2         -0.1       1.9     -0.6          83.4         0.0              0.0   \n3         -0.1       1.9     -0.6          83.4         0.0              0.0   \n4         -0.1       1.9     -0.6          83.4         0.0              0.0   \n\n   day_solarradiation  day_solarenergy  day_uvindex day_sunrise day_sunset  \\\n0                47.4              4.4          2.0    06:44:41   17:26:05   \n1                47.4              4.4          2.0    06:44:41   17:26:05   \n2                47.4              4.4          2.0    06:44:41   17:26:05   \n3                47.4              4.4          2.0    06:44:41   17:26:05   \n4                47.4              4.4          2.0    06:44:41   17:26:05   \n\n   day_moonphase hour_datetime  hour_datetimeEpoch  hour_temp  hour_humidity  \\\n0           0.77      00:00:00          1645653600        0.9          75.73   \n1           0.77      01:00:00          1645657200        0.6          77.96   \n2           0.77      02:00:00          1645660800        0.4          82.08   \n3           0.77      03:00:00          1645664400        0.2          83.28   \n4           0.77      04:00:00          1645668000        0.0          83.87   \n\n   hour_dew  hour_precip  hour_precipprob  hour_snow  hour_snowdepth  \\\n0      -2.9          0.0              0.0        0.0             0.0   \n1      -2.8          0.0              0.0        0.0             0.0   \n2      -2.3          0.0              0.0        0.0             0.0   \n3      -2.3          0.0              0.0        0.0             0.0   \n4      -2.4          0.0              0.0        0.0             0.0   \n\n  hour_preciptype  hour_windgust  hour_windspeed  hour_winddir  hour_pressure  \\\n0             NaN            7.2             4.0         132.0         1020.0   \n1             NaN            6.5             3.6         147.9         1020.0   \n2             NaN            8.3             3.2         198.2         1020.0   \n3             NaN            5.0             2.9         202.3         1020.0   \n4             NaN            5.0             2.9         203.6         1021.0   \n\n   hour_visibility  hour_cloudcover  hour_solarradiation  hour_solarenergy  \\\n0             24.1             89.0                  0.0               NaN   \n1             24.1             71.1                  0.0               NaN   \n2             24.1             95.4                  0.0               NaN   \n3             24.1             74.6                  0.0               NaN   \n4             24.1             67.8                  0.0               NaN   \n\n   hour_uvindex  hour_severerisk   hour_conditions     city  \n0           0.0             10.0  Partially cloudy  Черкаси  \n1           0.0             10.0  Partially cloudy  Черкаси  \n2           0.0             10.0          Overcast  Черкаси  \n3           0.0             10.0  Partially cloudy  Черкаси  \n4           0.0             10.0  Partially cloudy  Черкаси  ",
      "text/html": "<div>\n<style scoped>\n    .dataframe tbody tr th:only-of-type {\n        vertical-align: middle;\n    }\n\n    .dataframe tbody tr th {\n        vertical-align: top;\n    }\n\n    .dataframe thead th {\n        text-align: right;\n    }\n</style>\n<table border=\"1\" class=\"dataframe\">\n  <thead>\n    <tr style=\"text-align: right;\">\n      <th></th>\n      <th>city_resolvedAddress</th>\n      <th>day_datetime</th>\n      <th>day_datetimeEpoch</th>\n      <th>day_tempmax</th>\n      <th>day_tempmin</th>\n      <th>day_temp</th>\n      <th>day_dew</th>\n      <th>day_humidity</th>\n      <th>day_precip</th>\n      <th>day_precipcover</th>\n      <th>day_solarradiation</th>\n      <th>day_solarenergy</th>\n      <th>day_uvindex</th>\n      <th>day_sunrise</th>\n      <th>day_sunset</th>\n      <th>day_moonphase</th>\n      <th>hour_datetime</th>\n      <th>hour_datetimeEpoch</th>\n      <th>hour_temp</th>\n      <th>hour_humidity</th>\n      <th>hour_dew</th>\n      <th>hour_precip</th>\n      <th>hour_precipprob</th>\n      <th>hour_snow</th>\n      <th>hour_snowdepth</th>\n      <th>hour_preciptype</th>\n      <th>hour_windgust</th>\n      <th>hour_windspeed</th>\n      <th>hour_winddir</th>\n      <th>hour_pressure</th>\n      <th>hour_visibility</th>\n      <th>hour_cloudcover</th>\n      <th>hour_solarradiation</th>\n      <th>hour_solarenergy</th>\n      <th>hour_uvindex</th>\n      <th>hour_severerisk</th>\n      <th>hour_conditions</th>\n      <th>city</th>\n    </tr>\n  </thead>\n  <tbody>\n    <tr>\n      <th>0</th>\n      <td>Черкаси, Україна</td>\n      <td>2022-02-24</td>\n      <td>1645653600</td>\n      <td>4.9</td>\n      <td>-0.1</td>\n      <td>1.9</td>\n      <td>-0.6</td>\n      <td>83.4</td>\n      <td>0.0</td>\n      <td>0.0</td>\n      <td>47.4</td>\n      <td>4.4</td>\n      <td>2.0</td>\n      <td>06:44:41</td>\n      <td>17:26:05</td>\n      <td>0.77</td>\n      <td>00:00:00</td>\n      <td>1645653600</td>\n      <td>0.9</td>\n      <td>75.73</td>\n      <td>-2.9</td>\n      <td>0.0</td>\n      <td>0.0</td>\n      <td>0.0</td>\n      <td>0.0</td>\n      <td>NaN</td>\n      <td>7.2</td>\n      <td>4.0</td>\n      <td>132.0</td>\n      <td>1020.0</td>\n      <td>24.1</td>\n      <td>89.0</td>\n      <td>0.0</td>\n      <td>NaN</td>\n      <td>0.0</td>\n      <td>10.0</td>\n      <td>Partially cloudy</td>\n      <td>Черкаси</td>\n    </tr>\n    <tr>\n      <th>1</th>\n      <td>Черкаси, Україна</td>\n      <td>2022-02-24</td>\n      <td>1645653600</td>\n      <td>4.9</td>\n      <td>-0.1</td>\n      <td>1.9</td>\n      <td>-0.6</td>\n      <td>83.4</td>\n      <td>0.0</td>\n      <td>0.0</td>\n      <td>47.4</td>\n      <td>4.4</td>\n      <td>2.0</td>\n      <td>06:44:41</td>\n      <td>17:26:05</td>\n      <td>0.77</td>\n      <td>01:00:00</td>\n      <td>1645657200</td>\n      <td>0.6</td>\n      <td>77.96</td>\n      <td>-2.8</td>\n      <td>0.0</td>\n      <td>0.0</td>\n      <td>0.0</td>\n      <td>0.0</td>\n      <td>NaN</td>\n      <td>6.5</td>\n      <td>3.6</td>\n      <td>147.9</td>\n      <td>1020.0</td>\n      <td>24.1</td>\n      <td>71.1</td>\n      <td>0.0</td>\n      <td>NaN</td>\n      <td>0.0</td>\n      <td>10.0</td>\n      <td>Partially cloudy</td>\n      <td>Черкаси</td>\n    </tr>\n    <tr>\n      <th>2</th>\n      <td>Черкаси, Україна</td>\n      <td>2022-02-24</td>\n      <td>1645653600</td>\n      <td>4.9</td>\n      <td>-0.1</td>\n      <td>1.9</td>\n      <td>-0.6</td>\n      <td>83.4</td>\n      <td>0.0</td>\n      <td>0.0</td>\n      <td>47.4</td>\n      <td>4.4</td>\n      <td>2.0</td>\n      <td>06:44:41</td>\n      <td>17:26:05</td>\n      <td>0.77</td>\n      <td>02:00:00</td>\n      <td>1645660800</td>\n      <td>0.4</td>\n      <td>82.08</td>\n      <td>-2.3</td>\n      <td>0.0</td>\n      <td>0.0</td>\n      <td>0.0</td>\n      <td>0.0</td>\n      <td>NaN</td>\n      <td>8.3</td>\n      <td>3.2</td>\n      <td>198.2</td>\n      <td>1020.0</td>\n      <td>24.1</td>\n      <td>95.4</td>\n      <td>0.0</td>\n      <td>NaN</td>\n      <td>0.0</td>\n      <td>10.0</td>\n      <td>Overcast</td>\n      <td>Черкаси</td>\n    </tr>\n    <tr>\n      <th>3</th>\n      <td>Черкаси, Україна</td>\n      <td>2022-02-24</td>\n      <td>1645653600</td>\n      <td>4.9</td>\n      <td>-0.1</td>\n      <td>1.9</td>\n      <td>-0.6</td>\n      <td>83.4</td>\n      <td>0.0</td>\n      <td>0.0</td>\n      <td>47.4</td>\n      <td>4.4</td>\n      <td>2.0</td>\n      <td>06:44:41</td>\n      <td>17:26:05</td>\n      <td>0.77</td>\n      <td>03:00:00</td>\n      <td>1645664400</td>\n      <td>0.2</td>\n      <td>83.28</td>\n      <td>-2.3</td>\n      <td>0.0</td>\n      <td>0.0</td>\n      <td>0.0</td>\n      <td>0.0</td>\n      <td>NaN</td>\n      <td>5.0</td>\n      <td>2.9</td>\n      <td>202.3</td>\n      <td>1020.0</td>\n      <td>24.1</td>\n      <td>74.6</td>\n      <td>0.0</td>\n      <td>NaN</td>\n      <td>0.0</td>\n      <td>10.0</td>\n      <td>Partially cloudy</td>\n      <td>Черкаси</td>\n    </tr>\n    <tr>\n      <th>4</th>\n      <td>Черкаси, Україна</td>\n      <td>2022-02-24</td>\n      <td>1645653600</td>\n      <td>4.9</td>\n      <td>-0.1</td>\n      <td>1.9</td>\n      <td>-0.6</td>\n      <td>83.4</td>\n      <td>0.0</td>\n      <td>0.0</td>\n      <td>47.4</td>\n      <td>4.4</td>\n      <td>2.0</td>\n      <td>06:44:41</td>\n      <td>17:26:05</td>\n      <td>0.77</td>\n      <td>04:00:00</td>\n      <td>1645668000</td>\n      <td>0.0</td>\n      <td>83.87</td>\n      <td>-2.4</td>\n      <td>0.0</td>\n      <td>0.0</td>\n      <td>0.0</td>\n      <td>0.0</td>\n      <td>NaN</td>\n      <td>5.0</td>\n      <td>2.9</td>\n      <td>203.6</td>\n      <td>1021.0</td>\n      <td>24.1</td>\n      <td>67.8</td>\n      <td>0.0</td>\n      <td>NaN</td>\n      <td>0.0</td>\n      <td>10.0</td>\n      <td>Partially cloudy</td>\n      <td>Черкаси</td>\n    </tr>\n  </tbody>\n</table>\n</div>"
     },
     "execution_count": 36,
     "metadata": {},
     "output_type": "execute_result"
    }
   ],
   "source": [
    "df_weather_v2.head(5)"
   ]
  },
  {
   "cell_type": "code",
   "execution_count": 37,
   "id": "3136f5e6",
   "metadata": {},
   "outputs": [
    {
     "data": {
      "text/plain": "(190656, 38)"
     },
     "execution_count": 37,
     "metadata": {},
     "output_type": "execute_result"
    }
   ],
   "source": [
    "df_weather_v2.shape"
   ]
  },
  {
   "cell_type": "markdown",
   "id": "0659498e",
   "metadata": {},
   "source": [
    "## merging data"
   ]
  },
  {
   "cell_type": "code",
   "execution_count": 38,
   "id": "a3ad87a3",
   "metadata": {},
   "outputs": [],
   "source": [
    "df_regions = pd.read_csv(f\"data/0_meta/regions.csv\")"
   ]
  },
  {
   "cell_type": "code",
   "execution_count": 39,
   "id": "7975da08",
   "metadata": {},
   "outputs": [
    {
     "data": {
      "text/plain": "             region center_city_ua center_city_en        region_alt  region_id\n0           АР Крим    Сімферополь     Simferopol              Крим          1\n1         Вінницька        Вінниця      Vinnytsia        Вінниччина          2\n2         Волинська          Луцьк          Lutsk            Волинь          3\n3  Дніпропетровська         Дніпро         Dnipro  Дніпропетровщина          4\n4          Донецька        Донецьк        Donetsk         Донеччина          5",
      "text/html": "<div>\n<style scoped>\n    .dataframe tbody tr th:only-of-type {\n        vertical-align: middle;\n    }\n\n    .dataframe tbody tr th {\n        vertical-align: top;\n    }\n\n    .dataframe thead th {\n        text-align: right;\n    }\n</style>\n<table border=\"1\" class=\"dataframe\">\n  <thead>\n    <tr style=\"text-align: right;\">\n      <th></th>\n      <th>region</th>\n      <th>center_city_ua</th>\n      <th>center_city_en</th>\n      <th>region_alt</th>\n      <th>region_id</th>\n    </tr>\n  </thead>\n  <tbody>\n    <tr>\n      <th>0</th>\n      <td>АР Крим</td>\n      <td>Сімферополь</td>\n      <td>Simferopol</td>\n      <td>Крим</td>\n      <td>1</td>\n    </tr>\n    <tr>\n      <th>1</th>\n      <td>Вінницька</td>\n      <td>Вінниця</td>\n      <td>Vinnytsia</td>\n      <td>Вінниччина</td>\n      <td>2</td>\n    </tr>\n    <tr>\n      <th>2</th>\n      <td>Волинська</td>\n      <td>Луцьк</td>\n      <td>Lutsk</td>\n      <td>Волинь</td>\n      <td>3</td>\n    </tr>\n    <tr>\n      <th>3</th>\n      <td>Дніпропетровська</td>\n      <td>Дніпро</td>\n      <td>Dnipro</td>\n      <td>Дніпропетровщина</td>\n      <td>4</td>\n    </tr>\n    <tr>\n      <th>4</th>\n      <td>Донецька</td>\n      <td>Донецьк</td>\n      <td>Donetsk</td>\n      <td>Донеччина</td>\n      <td>5</td>\n    </tr>\n  </tbody>\n</table>\n</div>"
     },
     "execution_count": 39,
     "metadata": {},
     "output_type": "execute_result"
    }
   ],
   "source": [
    "df_regions.head(5)"
   ]
  },
  {
   "cell_type": "code",
   "execution_count": 40,
   "id": "9bdb0c29",
   "metadata": {},
   "outputs": [],
   "source": [
    "df_weather_reg = pd.merge(df_weather_v2, df_regions, left_on=\"city\",right_on=\"center_city_ua\")"
   ]
  },
  {
   "cell_type": "code",
   "execution_count": 41,
   "id": "e732c138",
   "metadata": {},
   "outputs": [
    {
     "data": {
      "text/plain": "  city_resolvedAddress day_datetime  day_datetimeEpoch  day_tempmax  \\\n0     Черкаси, Україна   2022-02-24         1645653600          4.9   \n1     Черкаси, Україна   2022-02-24         1645653600          4.9   \n2     Черкаси, Україна   2022-02-24         1645653600          4.9   \n3     Черкаси, Україна   2022-02-24         1645653600          4.9   \n4     Черкаси, Україна   2022-02-24         1645653600          4.9   \n5     Черкаси, Україна   2022-02-24         1645653600          4.9   \n6     Черкаси, Україна   2022-02-24         1645653600          4.9   \n7     Черкаси, Україна   2022-02-24         1645653600          4.9   \n8     Черкаси, Україна   2022-02-24         1645653600          4.9   \n9     Черкаси, Україна   2022-02-24         1645653600          4.9   \n\n   day_tempmin  day_temp  day_dew  day_humidity  day_precip  day_precipcover  \\\n0         -0.1       1.9     -0.6          83.4         0.0              0.0   \n1         -0.1       1.9     -0.6          83.4         0.0              0.0   \n2         -0.1       1.9     -0.6          83.4         0.0              0.0   \n3         -0.1       1.9     -0.6          83.4         0.0              0.0   \n4         -0.1       1.9     -0.6          83.4         0.0              0.0   \n5         -0.1       1.9     -0.6          83.4         0.0              0.0   \n6         -0.1       1.9     -0.6          83.4         0.0              0.0   \n7         -0.1       1.9     -0.6          83.4         0.0              0.0   \n8         -0.1       1.9     -0.6          83.4         0.0              0.0   \n9         -0.1       1.9     -0.6          83.4         0.0              0.0   \n\n   day_solarradiation  day_solarenergy  day_uvindex day_sunrise day_sunset  \\\n0                47.4              4.4          2.0    06:44:41   17:26:05   \n1                47.4              4.4          2.0    06:44:41   17:26:05   \n2                47.4              4.4          2.0    06:44:41   17:26:05   \n3                47.4              4.4          2.0    06:44:41   17:26:05   \n4                47.4              4.4          2.0    06:44:41   17:26:05   \n5                47.4              4.4          2.0    06:44:41   17:26:05   \n6                47.4              4.4          2.0    06:44:41   17:26:05   \n7                47.4              4.4          2.0    06:44:41   17:26:05   \n8                47.4              4.4          2.0    06:44:41   17:26:05   \n9                47.4              4.4          2.0    06:44:41   17:26:05   \n\n   day_moonphase hour_datetime  hour_datetimeEpoch  hour_temp  hour_humidity  \\\n0           0.77      00:00:00          1645653600        0.9          75.73   \n1           0.77      01:00:00          1645657200        0.6          77.96   \n2           0.77      02:00:00          1645660800        0.4          82.08   \n3           0.77      03:00:00          1645664400        0.2          83.28   \n4           0.77      04:00:00          1645668000        0.0          83.87   \n5           0.77      05:00:00          1645671600       -0.1          83.86   \n6           0.77      06:00:00          1645675200        0.0          83.87   \n7           0.77      07:00:00          1645678800        0.0          83.87   \n8           0.77      08:00:00          1645682400        0.1          87.68   \n9           0.77      09:00:00          1645686000        1.4          85.91   \n\n   hour_dew  hour_precip  hour_precipprob  hour_snow  hour_snowdepth  \\\n0      -2.9          0.0              0.0        0.0             0.0   \n1      -2.8          0.0              0.0        0.0             0.0   \n2      -2.3          0.0              0.0        0.0             0.0   \n3      -2.3          0.0              0.0        0.0             0.0   \n4      -2.4          0.0              0.0        0.0             0.0   \n5      -2.5          0.0              0.0        0.0             0.0   \n6      -2.4          0.0              0.0        0.0             0.0   \n7      -2.4          0.0              0.0        0.0             0.0   \n8      -1.7          0.0              0.0        0.0             0.0   \n9      -0.7          0.0              0.0        0.0             0.0   \n\n  hour_preciptype  hour_windgust  hour_windspeed  hour_winddir  hour_pressure  \\\n0             NaN            7.2             4.0         132.0         1020.0   \n1             NaN            6.5             3.6         147.9         1020.0   \n2             NaN            8.3             3.2         198.2         1020.0   \n3             NaN            5.0             2.9         202.3         1020.0   \n4             NaN            5.0             2.9         203.6         1021.0   \n5             NaN            4.3             1.8         197.5         1021.0   \n6             NaN            2.9             1.1         199.2         1022.0   \n7             NaN            2.2             1.4         221.7         1023.0   \n8             NaN            5.4             3.2         245.3         1023.0   \n9             NaN            5.0             2.5         247.0         1024.0   \n\n   hour_visibility  hour_cloudcover  hour_solarradiation  hour_solarenergy  \\\n0             24.1             89.0                  0.0               NaN   \n1             24.1             71.1                  0.0               NaN   \n2             24.1             95.4                  0.0               NaN   \n3             24.1             74.6                  0.0               NaN   \n4             24.1             67.8                  0.0               NaN   \n5             24.1             94.1                  0.0               NaN   \n6             24.1            100.0                  0.0               0.0   \n7              0.2             97.9                  0.0               0.3   \n8              0.1             90.8                179.4               0.6   \n9              0.1             73.3                 42.0               0.2   \n\n   hour_uvindex  hour_severerisk   hour_conditions     city     region  \\\n0           0.0             10.0  Partially cloudy  Черкаси  Черкаська   \n1           0.0             10.0  Partially cloudy  Черкаси  Черкаська   \n2           0.0             10.0          Overcast  Черкаси  Черкаська   \n3           0.0             10.0  Partially cloudy  Черкаси  Черкаська   \n4           0.0             10.0  Partially cloudy  Черкаси  Черкаська   \n5           0.0             10.0          Overcast  Черкаси  Черкаська   \n6           0.0             10.0          Overcast  Черкаси  Черкаська   \n7           0.0             10.0          Overcast  Черкаси  Черкаська   \n8           2.0             10.0          Overcast  Черкаси  Черкаська   \n9           0.0             10.0  Partially cloudy  Черкаси  Черкаська   \n\n  center_city_ua center_city_en region_alt  region_id  \n0        Черкаси       Cherkasy  Черкащина         23  \n1        Черкаси       Cherkasy  Черкащина         23  \n2        Черкаси       Cherkasy  Черкащина         23  \n3        Черкаси       Cherkasy  Черкащина         23  \n4        Черкаси       Cherkasy  Черкащина         23  \n5        Черкаси       Cherkasy  Черкащина         23  \n6        Черкаси       Cherkasy  Черкащина         23  \n7        Черкаси       Cherkasy  Черкащина         23  \n8        Черкаси       Cherkasy  Черкащина         23  \n9        Черкаси       Cherkasy  Черкащина         23  ",
      "text/html": "<div>\n<style scoped>\n    .dataframe tbody tr th:only-of-type {\n        vertical-align: middle;\n    }\n\n    .dataframe tbody tr th {\n        vertical-align: top;\n    }\n\n    .dataframe thead th {\n        text-align: right;\n    }\n</style>\n<table border=\"1\" class=\"dataframe\">\n  <thead>\n    <tr style=\"text-align: right;\">\n      <th></th>\n      <th>city_resolvedAddress</th>\n      <th>day_datetime</th>\n      <th>day_datetimeEpoch</th>\n      <th>day_tempmax</th>\n      <th>day_tempmin</th>\n      <th>day_temp</th>\n      <th>day_dew</th>\n      <th>day_humidity</th>\n      <th>day_precip</th>\n      <th>day_precipcover</th>\n      <th>day_solarradiation</th>\n      <th>day_solarenergy</th>\n      <th>day_uvindex</th>\n      <th>day_sunrise</th>\n      <th>day_sunset</th>\n      <th>day_moonphase</th>\n      <th>hour_datetime</th>\n      <th>hour_datetimeEpoch</th>\n      <th>hour_temp</th>\n      <th>hour_humidity</th>\n      <th>hour_dew</th>\n      <th>hour_precip</th>\n      <th>hour_precipprob</th>\n      <th>hour_snow</th>\n      <th>hour_snowdepth</th>\n      <th>hour_preciptype</th>\n      <th>hour_windgust</th>\n      <th>hour_windspeed</th>\n      <th>hour_winddir</th>\n      <th>hour_pressure</th>\n      <th>hour_visibility</th>\n      <th>hour_cloudcover</th>\n      <th>hour_solarradiation</th>\n      <th>hour_solarenergy</th>\n      <th>hour_uvindex</th>\n      <th>hour_severerisk</th>\n      <th>hour_conditions</th>\n      <th>city</th>\n      <th>region</th>\n      <th>center_city_ua</th>\n      <th>center_city_en</th>\n      <th>region_alt</th>\n      <th>region_id</th>\n    </tr>\n  </thead>\n  <tbody>\n    <tr>\n      <th>0</th>\n      <td>Черкаси, Україна</td>\n      <td>2022-02-24</td>\n      <td>1645653600</td>\n      <td>4.9</td>\n      <td>-0.1</td>\n      <td>1.9</td>\n      <td>-0.6</td>\n      <td>83.4</td>\n      <td>0.0</td>\n      <td>0.0</td>\n      <td>47.4</td>\n      <td>4.4</td>\n      <td>2.0</td>\n      <td>06:44:41</td>\n      <td>17:26:05</td>\n      <td>0.77</td>\n      <td>00:00:00</td>\n      <td>1645653600</td>\n      <td>0.9</td>\n      <td>75.73</td>\n      <td>-2.9</td>\n      <td>0.0</td>\n      <td>0.0</td>\n      <td>0.0</td>\n      <td>0.0</td>\n      <td>NaN</td>\n      <td>7.2</td>\n      <td>4.0</td>\n      <td>132.0</td>\n      <td>1020.0</td>\n      <td>24.1</td>\n      <td>89.0</td>\n      <td>0.0</td>\n      <td>NaN</td>\n      <td>0.0</td>\n      <td>10.0</td>\n      <td>Partially cloudy</td>\n      <td>Черкаси</td>\n      <td>Черкаська</td>\n      <td>Черкаси</td>\n      <td>Cherkasy</td>\n      <td>Черкащина</td>\n      <td>23</td>\n    </tr>\n    <tr>\n      <th>1</th>\n      <td>Черкаси, Україна</td>\n      <td>2022-02-24</td>\n      <td>1645653600</td>\n      <td>4.9</td>\n      <td>-0.1</td>\n      <td>1.9</td>\n      <td>-0.6</td>\n      <td>83.4</td>\n      <td>0.0</td>\n      <td>0.0</td>\n      <td>47.4</td>\n      <td>4.4</td>\n      <td>2.0</td>\n      <td>06:44:41</td>\n      <td>17:26:05</td>\n      <td>0.77</td>\n      <td>01:00:00</td>\n      <td>1645657200</td>\n      <td>0.6</td>\n      <td>77.96</td>\n      <td>-2.8</td>\n      <td>0.0</td>\n      <td>0.0</td>\n      <td>0.0</td>\n      <td>0.0</td>\n      <td>NaN</td>\n      <td>6.5</td>\n      <td>3.6</td>\n      <td>147.9</td>\n      <td>1020.0</td>\n      <td>24.1</td>\n      <td>71.1</td>\n      <td>0.0</td>\n      <td>NaN</td>\n      <td>0.0</td>\n      <td>10.0</td>\n      <td>Partially cloudy</td>\n      <td>Черкаси</td>\n      <td>Черкаська</td>\n      <td>Черкаси</td>\n      <td>Cherkasy</td>\n      <td>Черкащина</td>\n      <td>23</td>\n    </tr>\n    <tr>\n      <th>2</th>\n      <td>Черкаси, Україна</td>\n      <td>2022-02-24</td>\n      <td>1645653600</td>\n      <td>4.9</td>\n      <td>-0.1</td>\n      <td>1.9</td>\n      <td>-0.6</td>\n      <td>83.4</td>\n      <td>0.0</td>\n      <td>0.0</td>\n      <td>47.4</td>\n      <td>4.4</td>\n      <td>2.0</td>\n      <td>06:44:41</td>\n      <td>17:26:05</td>\n      <td>0.77</td>\n      <td>02:00:00</td>\n      <td>1645660800</td>\n      <td>0.4</td>\n      <td>82.08</td>\n      <td>-2.3</td>\n      <td>0.0</td>\n      <td>0.0</td>\n      <td>0.0</td>\n      <td>0.0</td>\n      <td>NaN</td>\n      <td>8.3</td>\n      <td>3.2</td>\n      <td>198.2</td>\n      <td>1020.0</td>\n      <td>24.1</td>\n      <td>95.4</td>\n      <td>0.0</td>\n      <td>NaN</td>\n      <td>0.0</td>\n      <td>10.0</td>\n      <td>Overcast</td>\n      <td>Черкаси</td>\n      <td>Черкаська</td>\n      <td>Черкаси</td>\n      <td>Cherkasy</td>\n      <td>Черкащина</td>\n      <td>23</td>\n    </tr>\n    <tr>\n      <th>3</th>\n      <td>Черкаси, Україна</td>\n      <td>2022-02-24</td>\n      <td>1645653600</td>\n      <td>4.9</td>\n      <td>-0.1</td>\n      <td>1.9</td>\n      <td>-0.6</td>\n      <td>83.4</td>\n      <td>0.0</td>\n      <td>0.0</td>\n      <td>47.4</td>\n      <td>4.4</td>\n      <td>2.0</td>\n      <td>06:44:41</td>\n      <td>17:26:05</td>\n      <td>0.77</td>\n      <td>03:00:00</td>\n      <td>1645664400</td>\n      <td>0.2</td>\n      <td>83.28</td>\n      <td>-2.3</td>\n      <td>0.0</td>\n      <td>0.0</td>\n      <td>0.0</td>\n      <td>0.0</td>\n      <td>NaN</td>\n      <td>5.0</td>\n      <td>2.9</td>\n      <td>202.3</td>\n      <td>1020.0</td>\n      <td>24.1</td>\n      <td>74.6</td>\n      <td>0.0</td>\n      <td>NaN</td>\n      <td>0.0</td>\n      <td>10.0</td>\n      <td>Partially cloudy</td>\n      <td>Черкаси</td>\n      <td>Черкаська</td>\n      <td>Черкаси</td>\n      <td>Cherkasy</td>\n      <td>Черкащина</td>\n      <td>23</td>\n    </tr>\n    <tr>\n      <th>4</th>\n      <td>Черкаси, Україна</td>\n      <td>2022-02-24</td>\n      <td>1645653600</td>\n      <td>4.9</td>\n      <td>-0.1</td>\n      <td>1.9</td>\n      <td>-0.6</td>\n      <td>83.4</td>\n      <td>0.0</td>\n      <td>0.0</td>\n      <td>47.4</td>\n      <td>4.4</td>\n      <td>2.0</td>\n      <td>06:44:41</td>\n      <td>17:26:05</td>\n      <td>0.77</td>\n      <td>04:00:00</td>\n      <td>1645668000</td>\n      <td>0.0</td>\n      <td>83.87</td>\n      <td>-2.4</td>\n      <td>0.0</td>\n      <td>0.0</td>\n      <td>0.0</td>\n      <td>0.0</td>\n      <td>NaN</td>\n      <td>5.0</td>\n      <td>2.9</td>\n      <td>203.6</td>\n      <td>1021.0</td>\n      <td>24.1</td>\n      <td>67.8</td>\n      <td>0.0</td>\n      <td>NaN</td>\n      <td>0.0</td>\n      <td>10.0</td>\n      <td>Partially cloudy</td>\n      <td>Черкаси</td>\n      <td>Черкаська</td>\n      <td>Черкаси</td>\n      <td>Cherkasy</td>\n      <td>Черкащина</td>\n      <td>23</td>\n    </tr>\n    <tr>\n      <th>5</th>\n      <td>Черкаси, Україна</td>\n      <td>2022-02-24</td>\n      <td>1645653600</td>\n      <td>4.9</td>\n      <td>-0.1</td>\n      <td>1.9</td>\n      <td>-0.6</td>\n      <td>83.4</td>\n      <td>0.0</td>\n      <td>0.0</td>\n      <td>47.4</td>\n      <td>4.4</td>\n      <td>2.0</td>\n      <td>06:44:41</td>\n      <td>17:26:05</td>\n      <td>0.77</td>\n      <td>05:00:00</td>\n      <td>1645671600</td>\n      <td>-0.1</td>\n      <td>83.86</td>\n      <td>-2.5</td>\n      <td>0.0</td>\n      <td>0.0</td>\n      <td>0.0</td>\n      <td>0.0</td>\n      <td>NaN</td>\n      <td>4.3</td>\n      <td>1.8</td>\n      <td>197.5</td>\n      <td>1021.0</td>\n      <td>24.1</td>\n      <td>94.1</td>\n      <td>0.0</td>\n      <td>NaN</td>\n      <td>0.0</td>\n      <td>10.0</td>\n      <td>Overcast</td>\n      <td>Черкаси</td>\n      <td>Черкаська</td>\n      <td>Черкаси</td>\n      <td>Cherkasy</td>\n      <td>Черкащина</td>\n      <td>23</td>\n    </tr>\n    <tr>\n      <th>6</th>\n      <td>Черкаси, Україна</td>\n      <td>2022-02-24</td>\n      <td>1645653600</td>\n      <td>4.9</td>\n      <td>-0.1</td>\n      <td>1.9</td>\n      <td>-0.6</td>\n      <td>83.4</td>\n      <td>0.0</td>\n      <td>0.0</td>\n      <td>47.4</td>\n      <td>4.4</td>\n      <td>2.0</td>\n      <td>06:44:41</td>\n      <td>17:26:05</td>\n      <td>0.77</td>\n      <td>06:00:00</td>\n      <td>1645675200</td>\n      <td>0.0</td>\n      <td>83.87</td>\n      <td>-2.4</td>\n      <td>0.0</td>\n      <td>0.0</td>\n      <td>0.0</td>\n      <td>0.0</td>\n      <td>NaN</td>\n      <td>2.9</td>\n      <td>1.1</td>\n      <td>199.2</td>\n      <td>1022.0</td>\n      <td>24.1</td>\n      <td>100.0</td>\n      <td>0.0</td>\n      <td>0.0</td>\n      <td>0.0</td>\n      <td>10.0</td>\n      <td>Overcast</td>\n      <td>Черкаси</td>\n      <td>Черкаська</td>\n      <td>Черкаси</td>\n      <td>Cherkasy</td>\n      <td>Черкащина</td>\n      <td>23</td>\n    </tr>\n    <tr>\n      <th>7</th>\n      <td>Черкаси, Україна</td>\n      <td>2022-02-24</td>\n      <td>1645653600</td>\n      <td>4.9</td>\n      <td>-0.1</td>\n      <td>1.9</td>\n      <td>-0.6</td>\n      <td>83.4</td>\n      <td>0.0</td>\n      <td>0.0</td>\n      <td>47.4</td>\n      <td>4.4</td>\n      <td>2.0</td>\n      <td>06:44:41</td>\n      <td>17:26:05</td>\n      <td>0.77</td>\n      <td>07:00:00</td>\n      <td>1645678800</td>\n      <td>0.0</td>\n      <td>83.87</td>\n      <td>-2.4</td>\n      <td>0.0</td>\n      <td>0.0</td>\n      <td>0.0</td>\n      <td>0.0</td>\n      <td>NaN</td>\n      <td>2.2</td>\n      <td>1.4</td>\n      <td>221.7</td>\n      <td>1023.0</td>\n      <td>0.2</td>\n      <td>97.9</td>\n      <td>0.0</td>\n      <td>0.3</td>\n      <td>0.0</td>\n      <td>10.0</td>\n      <td>Overcast</td>\n      <td>Черкаси</td>\n      <td>Черкаська</td>\n      <td>Черкаси</td>\n      <td>Cherkasy</td>\n      <td>Черкащина</td>\n      <td>23</td>\n    </tr>\n    <tr>\n      <th>8</th>\n      <td>Черкаси, Україна</td>\n      <td>2022-02-24</td>\n      <td>1645653600</td>\n      <td>4.9</td>\n      <td>-0.1</td>\n      <td>1.9</td>\n      <td>-0.6</td>\n      <td>83.4</td>\n      <td>0.0</td>\n      <td>0.0</td>\n      <td>47.4</td>\n      <td>4.4</td>\n      <td>2.0</td>\n      <td>06:44:41</td>\n      <td>17:26:05</td>\n      <td>0.77</td>\n      <td>08:00:00</td>\n      <td>1645682400</td>\n      <td>0.1</td>\n      <td>87.68</td>\n      <td>-1.7</td>\n      <td>0.0</td>\n      <td>0.0</td>\n      <td>0.0</td>\n      <td>0.0</td>\n      <td>NaN</td>\n      <td>5.4</td>\n      <td>3.2</td>\n      <td>245.3</td>\n      <td>1023.0</td>\n      <td>0.1</td>\n      <td>90.8</td>\n      <td>179.4</td>\n      <td>0.6</td>\n      <td>2.0</td>\n      <td>10.0</td>\n      <td>Overcast</td>\n      <td>Черкаси</td>\n      <td>Черкаська</td>\n      <td>Черкаси</td>\n      <td>Cherkasy</td>\n      <td>Черкащина</td>\n      <td>23</td>\n    </tr>\n    <tr>\n      <th>9</th>\n      <td>Черкаси, Україна</td>\n      <td>2022-02-24</td>\n      <td>1645653600</td>\n      <td>4.9</td>\n      <td>-0.1</td>\n      <td>1.9</td>\n      <td>-0.6</td>\n      <td>83.4</td>\n      <td>0.0</td>\n      <td>0.0</td>\n      <td>47.4</td>\n      <td>4.4</td>\n      <td>2.0</td>\n      <td>06:44:41</td>\n      <td>17:26:05</td>\n      <td>0.77</td>\n      <td>09:00:00</td>\n      <td>1645686000</td>\n      <td>1.4</td>\n      <td>85.91</td>\n      <td>-0.7</td>\n      <td>0.0</td>\n      <td>0.0</td>\n      <td>0.0</td>\n      <td>0.0</td>\n      <td>NaN</td>\n      <td>5.0</td>\n      <td>2.5</td>\n      <td>247.0</td>\n      <td>1024.0</td>\n      <td>0.1</td>\n      <td>73.3</td>\n      <td>42.0</td>\n      <td>0.2</td>\n      <td>0.0</td>\n      <td>10.0</td>\n      <td>Partially cloudy</td>\n      <td>Черкаси</td>\n      <td>Черкаська</td>\n      <td>Черкаси</td>\n      <td>Cherkasy</td>\n      <td>Черкащина</td>\n      <td>23</td>\n    </tr>\n  </tbody>\n</table>\n</div>"
     },
     "execution_count": 41,
     "metadata": {},
     "output_type": "execute_result"
    }
   ],
   "source": [
    "df_weather_reg.head(10)"
   ]
  },
  {
   "cell_type": "code",
   "execution_count": 42,
   "id": "ad392ddf",
   "metadata": {},
   "outputs": [
    {
     "data": {
      "text/plain": "(190656, 43)"
     },
     "execution_count": 42,
     "metadata": {},
     "output_type": "execute_result"
    }
   ],
   "source": [
    "df_weather_reg.shape"
   ]
  },
  {
   "cell_type": "code",
   "execution_count": 43,
   "id": "13e88911",
   "metadata": {},
   "outputs": [
    {
     "data": {
      "text/plain": "(190656, 38)"
     },
     "execution_count": 43,
     "metadata": {},
     "output_type": "execute_result"
    }
   ],
   "source": [
    "df_weather_v2.shape"
   ]
  },
  {
   "cell_type": "markdown",
   "id": "fadce0fe",
   "metadata": {},
   "source": [
    "### Merging weather and events"
   ]
  },
  {
   "cell_type": "code",
   "execution_count": 44,
   "id": "84412a7d",
   "metadata": {},
   "outputs": [],
   "source": [
    "# df_events_v2[\"start_hour_datetimeEpoch\"] = df_events_v2['start_hour'].apply(lambda x: int(x.strftime('%s'))  if not isNaN(x) else 0)\n",
    "# df_events_v2[\"end_hour_datetimeEpoch\"] = df_events_v2['end_hour'].apply(lambda x: int(x.strftime('%s'))  if not isNaN(x) else 0)"
   ]
  },
  {
   "cell_type": "code",
   "execution_count": 45,
   "id": "37b962b1",
   "metadata": {},
   "outputs": [
    {
     "data": {
      "text/plain": "region_title                        object\nregion_city                         object\nall_region                           int64\nstart                               object\nend                                 object\nclean_end                           object\nintersection_alarm_id              float64\nalarms_past_24                       int64\nsimultaneous_alarms                  int64\nhours_from_last_alarm              float64\nholiday_is_near                       bool\nstart_time                  datetime64[ns]\nend_time                    datetime64[ns]\nstart_hour                  datetime64[ns]\nend_hour                    datetime64[ns]\nday_date                            object\nstart_hour_datetimeEpoch             int64\nend_hour_datetimeEpoch               int64\ndtype: object"
     },
     "execution_count": 45,
     "metadata": {},
     "output_type": "execute_result"
    }
   ],
   "source": [
    "df_events_v2.dtypes"
   ]
  },
  {
   "cell_type": "code",
   "execution_count": 46,
   "id": "fd62824f",
   "metadata": {},
   "outputs": [
    {
     "data": {
      "text/plain": "(19933, 18)"
     },
     "execution_count": 46,
     "metadata": {},
     "output_type": "execute_result"
    }
   ],
   "source": [
    "df_events_v2.shape"
   ]
  },
  {
   "cell_type": "code",
   "execution_count": 47,
   "id": "29cb459c",
   "metadata": {},
   "outputs": [
    {
     "data": {
      "text/plain": "   region_title      region_city  all_region                start  \\\n0    Вінниччина          Вінниця           0  2022-02-25 22:55:42   \n1     Львівщина            Львів           0  2022-02-26 06:26:17   \n2       Одещина            Одеса           0  2022-02-26 07:16:58   \n3   Житомирщина          Житомир           0  2022-02-26 08:05:54   \n4    Вінниччина          Вінниця           0  2022-02-26 08:39:39   \n5    Вінниччина          Вінниця           0  2022-02-26 10:58:23   \n6     Львівщина            Львів           0  2022-02-26 13:44:44   \n7    Рівненщина  Рівненська обл.           1  2022-02-26 15:54:53   \n8        Волинь   Волинська обл.           1  2022-02-26 16:08:26   \n9  Хмельниччина          Деражня           0  2022-02-26 16:10:29   \n\n                   end            clean_end  intersection_alarm_id  \\\n0  2022-02-25 23:41:53  2022-02-25 23:41:53                    NaN   \n1  2022-02-26 07:15:28  2022-02-26 07:15:28                    NaN   \n2  2022-02-26 07:47:03  2022-02-26 07:47:03                    NaN   \n3  2022-02-26 09:36:36  2022-02-26 09:36:36                    NaN   \n4  2022-02-26 10:42:41  2022-02-26 10:42:41                    NaN   \n5  2022-02-26 11:59:40  2022-02-26 11:59:40                    NaN   \n6  2022-02-26 14:27:25  2022-02-26 14:27:25                    NaN   \n7  2022-02-26 16:14:46  2022-02-26 16:14:46                    NaN   \n8  2022-02-26 16:39:26  2022-02-26 16:39:26                    NaN   \n9  2022-02-26 17:19:57  2022-02-26 17:19:57                    NaN   \n\n   alarms_past_24  simultaneous_alarms  hours_from_last_alarm  \\\n0               0                    0                    NaN   \n1               0                    0                    NaN   \n2               0                    0                    NaN   \n3               0                    1                    NaN   \n4               1                    1              89.627778   \n5               2                    0               2.616667   \n6               1                    0              64.877778   \n7               0                    2                    NaN   \n8               0                    2                    NaN   \n9               0                    3                    NaN   \n\n   holiday_is_near          start_time            end_time  \\\n0             True 2022-02-25 22:55:42 2022-02-25 23:41:53   \n1             True 2022-02-26 06:26:17 2022-02-26 07:15:28   \n2             True 2022-02-26 07:16:58 2022-02-26 07:47:03   \n3             True 2022-02-26 08:05:54 2022-02-26 09:36:36   \n4             True 2022-02-26 08:39:39 2022-02-26 10:42:41   \n5             True 2022-02-26 10:58:23 2022-02-26 11:59:40   \n6             True 2022-02-26 13:44:44 2022-02-26 14:27:25   \n7             True 2022-02-26 15:54:53 2022-02-26 16:14:46   \n8             True 2022-02-26 16:08:26 2022-02-26 16:39:26   \n9             True 2022-02-26 16:10:29 2022-02-26 17:19:57   \n\n           start_hour            end_hour    day_date  \\\n0 2022-02-25 22:00:00 2022-02-26 00:00:00  2022-02-25   \n1 2022-02-26 06:00:00 2022-02-26 08:00:00  2022-02-26   \n2 2022-02-26 07:00:00 2022-02-26 08:00:00  2022-02-26   \n3 2022-02-26 08:00:00 2022-02-26 10:00:00  2022-02-26   \n4 2022-02-26 08:00:00 2022-02-26 11:00:00  2022-02-26   \n5 2022-02-26 10:00:00 2022-02-26 12:00:00  2022-02-26   \n6 2022-02-26 13:00:00 2022-02-26 15:00:00  2022-02-26   \n7 2022-02-26 15:00:00 2022-02-26 17:00:00  2022-02-26   \n8 2022-02-26 16:00:00 2022-02-26 17:00:00  2022-02-26   \n9 2022-02-26 16:00:00 2022-02-26 18:00:00  2022-02-26   \n\n   start_hour_datetimeEpoch  end_hour_datetimeEpoch  \n0                1645826400              1645833600  \n1                1645855200              1645862400  \n2                1645858800              1645862400  \n3                1645862400              1645869600  \n4                1645862400              1645873200  \n5                1645869600              1645876800  \n6                1645880400              1645887600  \n7                1645887600              1645894800  \n8                1645891200              1645894800  \n9                1645891200              1645898400  ",
      "text/html": "<div>\n<style scoped>\n    .dataframe tbody tr th:only-of-type {\n        vertical-align: middle;\n    }\n\n    .dataframe tbody tr th {\n        vertical-align: top;\n    }\n\n    .dataframe thead th {\n        text-align: right;\n    }\n</style>\n<table border=\"1\" class=\"dataframe\">\n  <thead>\n    <tr style=\"text-align: right;\">\n      <th></th>\n      <th>region_title</th>\n      <th>region_city</th>\n      <th>all_region</th>\n      <th>start</th>\n      <th>end</th>\n      <th>clean_end</th>\n      <th>intersection_alarm_id</th>\n      <th>alarms_past_24</th>\n      <th>simultaneous_alarms</th>\n      <th>hours_from_last_alarm</th>\n      <th>holiday_is_near</th>\n      <th>start_time</th>\n      <th>end_time</th>\n      <th>start_hour</th>\n      <th>end_hour</th>\n      <th>day_date</th>\n      <th>start_hour_datetimeEpoch</th>\n      <th>end_hour_datetimeEpoch</th>\n    </tr>\n  </thead>\n  <tbody>\n    <tr>\n      <th>0</th>\n      <td>Вінниччина</td>\n      <td>Вінниця</td>\n      <td>0</td>\n      <td>2022-02-25 22:55:42</td>\n      <td>2022-02-25 23:41:53</td>\n      <td>2022-02-25 23:41:53</td>\n      <td>NaN</td>\n      <td>0</td>\n      <td>0</td>\n      <td>NaN</td>\n      <td>True</td>\n      <td>2022-02-25 22:55:42</td>\n      <td>2022-02-25 23:41:53</td>\n      <td>2022-02-25 22:00:00</td>\n      <td>2022-02-26 00:00:00</td>\n      <td>2022-02-25</td>\n      <td>1645826400</td>\n      <td>1645833600</td>\n    </tr>\n    <tr>\n      <th>1</th>\n      <td>Львівщина</td>\n      <td>Львів</td>\n      <td>0</td>\n      <td>2022-02-26 06:26:17</td>\n      <td>2022-02-26 07:15:28</td>\n      <td>2022-02-26 07:15:28</td>\n      <td>NaN</td>\n      <td>0</td>\n      <td>0</td>\n      <td>NaN</td>\n      <td>True</td>\n      <td>2022-02-26 06:26:17</td>\n      <td>2022-02-26 07:15:28</td>\n      <td>2022-02-26 06:00:00</td>\n      <td>2022-02-26 08:00:00</td>\n      <td>2022-02-26</td>\n      <td>1645855200</td>\n      <td>1645862400</td>\n    </tr>\n    <tr>\n      <th>2</th>\n      <td>Одещина</td>\n      <td>Одеса</td>\n      <td>0</td>\n      <td>2022-02-26 07:16:58</td>\n      <td>2022-02-26 07:47:03</td>\n      <td>2022-02-26 07:47:03</td>\n      <td>NaN</td>\n      <td>0</td>\n      <td>0</td>\n      <td>NaN</td>\n      <td>True</td>\n      <td>2022-02-26 07:16:58</td>\n      <td>2022-02-26 07:47:03</td>\n      <td>2022-02-26 07:00:00</td>\n      <td>2022-02-26 08:00:00</td>\n      <td>2022-02-26</td>\n      <td>1645858800</td>\n      <td>1645862400</td>\n    </tr>\n    <tr>\n      <th>3</th>\n      <td>Житомирщина</td>\n      <td>Житомир</td>\n      <td>0</td>\n      <td>2022-02-26 08:05:54</td>\n      <td>2022-02-26 09:36:36</td>\n      <td>2022-02-26 09:36:36</td>\n      <td>NaN</td>\n      <td>0</td>\n      <td>1</td>\n      <td>NaN</td>\n      <td>True</td>\n      <td>2022-02-26 08:05:54</td>\n      <td>2022-02-26 09:36:36</td>\n      <td>2022-02-26 08:00:00</td>\n      <td>2022-02-26 10:00:00</td>\n      <td>2022-02-26</td>\n      <td>1645862400</td>\n      <td>1645869600</td>\n    </tr>\n    <tr>\n      <th>4</th>\n      <td>Вінниччина</td>\n      <td>Вінниця</td>\n      <td>0</td>\n      <td>2022-02-26 08:39:39</td>\n      <td>2022-02-26 10:42:41</td>\n      <td>2022-02-26 10:42:41</td>\n      <td>NaN</td>\n      <td>1</td>\n      <td>1</td>\n      <td>89.627778</td>\n      <td>True</td>\n      <td>2022-02-26 08:39:39</td>\n      <td>2022-02-26 10:42:41</td>\n      <td>2022-02-26 08:00:00</td>\n      <td>2022-02-26 11:00:00</td>\n      <td>2022-02-26</td>\n      <td>1645862400</td>\n      <td>1645873200</td>\n    </tr>\n    <tr>\n      <th>5</th>\n      <td>Вінниччина</td>\n      <td>Вінниця</td>\n      <td>0</td>\n      <td>2022-02-26 10:58:23</td>\n      <td>2022-02-26 11:59:40</td>\n      <td>2022-02-26 11:59:40</td>\n      <td>NaN</td>\n      <td>2</td>\n      <td>0</td>\n      <td>2.616667</td>\n      <td>True</td>\n      <td>2022-02-26 10:58:23</td>\n      <td>2022-02-26 11:59:40</td>\n      <td>2022-02-26 10:00:00</td>\n      <td>2022-02-26 12:00:00</td>\n      <td>2022-02-26</td>\n      <td>1645869600</td>\n      <td>1645876800</td>\n    </tr>\n    <tr>\n      <th>6</th>\n      <td>Львівщина</td>\n      <td>Львів</td>\n      <td>0</td>\n      <td>2022-02-26 13:44:44</td>\n      <td>2022-02-26 14:27:25</td>\n      <td>2022-02-26 14:27:25</td>\n      <td>NaN</td>\n      <td>1</td>\n      <td>0</td>\n      <td>64.877778</td>\n      <td>True</td>\n      <td>2022-02-26 13:44:44</td>\n      <td>2022-02-26 14:27:25</td>\n      <td>2022-02-26 13:00:00</td>\n      <td>2022-02-26 15:00:00</td>\n      <td>2022-02-26</td>\n      <td>1645880400</td>\n      <td>1645887600</td>\n    </tr>\n    <tr>\n      <th>7</th>\n      <td>Рівненщина</td>\n      <td>Рівненська обл.</td>\n      <td>1</td>\n      <td>2022-02-26 15:54:53</td>\n      <td>2022-02-26 16:14:46</td>\n      <td>2022-02-26 16:14:46</td>\n      <td>NaN</td>\n      <td>0</td>\n      <td>2</td>\n      <td>NaN</td>\n      <td>True</td>\n      <td>2022-02-26 15:54:53</td>\n      <td>2022-02-26 16:14:46</td>\n      <td>2022-02-26 15:00:00</td>\n      <td>2022-02-26 17:00:00</td>\n      <td>2022-02-26</td>\n      <td>1645887600</td>\n      <td>1645894800</td>\n    </tr>\n    <tr>\n      <th>8</th>\n      <td>Волинь</td>\n      <td>Волинська обл.</td>\n      <td>1</td>\n      <td>2022-02-26 16:08:26</td>\n      <td>2022-02-26 16:39:26</td>\n      <td>2022-02-26 16:39:26</td>\n      <td>NaN</td>\n      <td>0</td>\n      <td>2</td>\n      <td>NaN</td>\n      <td>True</td>\n      <td>2022-02-26 16:08:26</td>\n      <td>2022-02-26 16:39:26</td>\n      <td>2022-02-26 16:00:00</td>\n      <td>2022-02-26 17:00:00</td>\n      <td>2022-02-26</td>\n      <td>1645891200</td>\n      <td>1645894800</td>\n    </tr>\n    <tr>\n      <th>9</th>\n      <td>Хмельниччина</td>\n      <td>Деражня</td>\n      <td>0</td>\n      <td>2022-02-26 16:10:29</td>\n      <td>2022-02-26 17:19:57</td>\n      <td>2022-02-26 17:19:57</td>\n      <td>NaN</td>\n      <td>0</td>\n      <td>3</td>\n      <td>NaN</td>\n      <td>True</td>\n      <td>2022-02-26 16:10:29</td>\n      <td>2022-02-26 17:19:57</td>\n      <td>2022-02-26 16:00:00</td>\n      <td>2022-02-26 18:00:00</td>\n      <td>2022-02-26</td>\n      <td>1645891200</td>\n      <td>1645898400</td>\n    </tr>\n  </tbody>\n</table>\n</div>"
     },
     "execution_count": 47,
     "metadata": {},
     "output_type": "execute_result"
    }
   ],
   "source": [
    "df_events_v2.head(10)"
   ]
  },
  {
   "cell_type": "code",
   "execution_count": 48,
   "id": "9991fde1",
   "metadata": {},
   "outputs": [],
   "source": [
    "# df_events_v2_sample = df_events_v2.sample(10)\n",
    "# df_events_v2_sample.shape\n",
    "\n",
    "events_dict = df_events_v2.to_dict('records')\n",
    "events_by_hour = []"
   ]
  },
  {
   "cell_type": "code",
   "execution_count": 49,
   "id": "4ed1ff39",
   "metadata": {},
   "outputs": [
    {
     "data": {
      "text/plain": "{'region_title': 'Вінниччина',\n 'region_city': 'Вінниця',\n 'all_region': 0,\n 'start': '2022-02-25 22:55:42',\n 'end': '2022-02-25 23:41:53',\n 'clean_end': '2022-02-25 23:41:53',\n 'intersection_alarm_id': nan,\n 'alarms_past_24': 0,\n 'simultaneous_alarms': 0,\n 'hours_from_last_alarm': nan,\n 'holiday_is_near': True,\n 'start_time': Timestamp('2022-02-25 22:55:42'),\n 'end_time': Timestamp('2022-02-25 23:41:53'),\n 'start_hour': Timestamp('2022-02-25 22:00:00'),\n 'end_hour': Timestamp('2022-02-26 00:00:00'),\n 'day_date': datetime.date(2022, 2, 25),\n 'start_hour_datetimeEpoch': 1645826400,\n 'end_hour_datetimeEpoch': 1645833600}"
     },
     "execution_count": 49,
     "metadata": {},
     "output_type": "execute_result"
    }
   ],
   "source": [
    "events_dict[0]"
   ]
  },
  {
   "cell_type": "code",
   "execution_count": 50,
   "id": "5ca34003",
   "metadata": {},
   "outputs": [],
   "source": [
    "for event in events_dict:\n",
    "    for d in pd.date_range(start=event[\"start_hour\"], end=event[\"end_hour\"], freq='1H'):\n",
    "        et = event.copy()\n",
    "        et[\"hour_level_event_time\"] = d\n",
    "        events_by_hour.append(et)"
   ]
  },
  {
   "cell_type": "code",
   "execution_count": 51,
   "id": "a702550e",
   "metadata": {},
   "outputs": [],
   "source": [
    "df_events_v3 = pd.DataFrame.from_dict(events_by_hour)"
   ]
  },
  {
   "cell_type": "code",
   "execution_count": 53,
   "id": "da12a84f",
   "metadata": {},
   "outputs": [],
   "source": [
    "df_events_v3[\"hour_level_event_datetimeEpoch\"] = df_events_v3[\"hour_level_event_time\"].apply(lambda x: int(calendar.timegm(x.timetuple()))  if not isNaN(x) else None)"
   ]
  },
  {
   "cell_type": "code",
   "execution_count": 54,
   "id": "33b3c316",
   "metadata": {},
   "outputs": [
    {
     "data": {
      "text/plain": "(58860, 20)"
     },
     "execution_count": 54,
     "metadata": {},
     "output_type": "execute_result"
    }
   ],
   "source": [
    "df_events_v3.shape"
   ]
  },
  {
   "cell_type": "code",
   "execution_count": 55,
   "id": "85c85f84",
   "metadata": {},
   "outputs": [
    {
     "data": {
      "text/plain": "   region_title region_city  all_region                start  \\\n0    Вінниччина     Вінниця           0  2022-02-25 22:55:42   \n1    Вінниччина     Вінниця           0  2022-02-25 22:55:42   \n2    Вінниччина     Вінниця           0  2022-02-25 22:55:42   \n3     Львівщина       Львів           0  2022-02-26 06:26:17   \n4     Львівщина       Львів           0  2022-02-26 06:26:17   \n5     Львівщина       Львів           0  2022-02-26 06:26:17   \n6       Одещина       Одеса           0  2022-02-26 07:16:58   \n7       Одещина       Одеса           0  2022-02-26 07:16:58   \n8   Житомирщина     Житомир           0  2022-02-26 08:05:54   \n9   Житомирщина     Житомир           0  2022-02-26 08:05:54   \n10  Житомирщина     Житомир           0  2022-02-26 08:05:54   \n11   Вінниччина     Вінниця           0  2022-02-26 08:39:39   \n12   Вінниччина     Вінниця           0  2022-02-26 08:39:39   \n13   Вінниччина     Вінниця           0  2022-02-26 08:39:39   \n14   Вінниччина     Вінниця           0  2022-02-26 08:39:39   \n\n                    end            clean_end  intersection_alarm_id  \\\n0   2022-02-25 23:41:53  2022-02-25 23:41:53                    NaN   \n1   2022-02-25 23:41:53  2022-02-25 23:41:53                    NaN   \n2   2022-02-25 23:41:53  2022-02-25 23:41:53                    NaN   \n3   2022-02-26 07:15:28  2022-02-26 07:15:28                    NaN   \n4   2022-02-26 07:15:28  2022-02-26 07:15:28                    NaN   \n5   2022-02-26 07:15:28  2022-02-26 07:15:28                    NaN   \n6   2022-02-26 07:47:03  2022-02-26 07:47:03                    NaN   \n7   2022-02-26 07:47:03  2022-02-26 07:47:03                    NaN   \n8   2022-02-26 09:36:36  2022-02-26 09:36:36                    NaN   \n9   2022-02-26 09:36:36  2022-02-26 09:36:36                    NaN   \n10  2022-02-26 09:36:36  2022-02-26 09:36:36                    NaN   \n11  2022-02-26 10:42:41  2022-02-26 10:42:41                    NaN   \n12  2022-02-26 10:42:41  2022-02-26 10:42:41                    NaN   \n13  2022-02-26 10:42:41  2022-02-26 10:42:41                    NaN   \n14  2022-02-26 10:42:41  2022-02-26 10:42:41                    NaN   \n\n    alarms_past_24  simultaneous_alarms  hours_from_last_alarm  \\\n0                0                    0                    NaN   \n1                0                    0                    NaN   \n2                0                    0                    NaN   \n3                0                    0                    NaN   \n4                0                    0                    NaN   \n5                0                    0                    NaN   \n6                0                    0                    NaN   \n7                0                    0                    NaN   \n8                0                    1                    NaN   \n9                0                    1                    NaN   \n10               0                    1                    NaN   \n11               1                    1              89.627778   \n12               1                    1              89.627778   \n13               1                    1              89.627778   \n14               1                    1              89.627778   \n\n    holiday_is_near          start_time            end_time  \\\n0              True 2022-02-25 22:55:42 2022-02-25 23:41:53   \n1              True 2022-02-25 22:55:42 2022-02-25 23:41:53   \n2              True 2022-02-25 22:55:42 2022-02-25 23:41:53   \n3              True 2022-02-26 06:26:17 2022-02-26 07:15:28   \n4              True 2022-02-26 06:26:17 2022-02-26 07:15:28   \n5              True 2022-02-26 06:26:17 2022-02-26 07:15:28   \n6              True 2022-02-26 07:16:58 2022-02-26 07:47:03   \n7              True 2022-02-26 07:16:58 2022-02-26 07:47:03   \n8              True 2022-02-26 08:05:54 2022-02-26 09:36:36   \n9              True 2022-02-26 08:05:54 2022-02-26 09:36:36   \n10             True 2022-02-26 08:05:54 2022-02-26 09:36:36   \n11             True 2022-02-26 08:39:39 2022-02-26 10:42:41   \n12             True 2022-02-26 08:39:39 2022-02-26 10:42:41   \n13             True 2022-02-26 08:39:39 2022-02-26 10:42:41   \n14             True 2022-02-26 08:39:39 2022-02-26 10:42:41   \n\n            start_hour            end_hour    day_date  \\\n0  2022-02-25 22:00:00 2022-02-26 00:00:00  2022-02-25   \n1  2022-02-25 22:00:00 2022-02-26 00:00:00  2022-02-25   \n2  2022-02-25 22:00:00 2022-02-26 00:00:00  2022-02-25   \n3  2022-02-26 06:00:00 2022-02-26 08:00:00  2022-02-26   \n4  2022-02-26 06:00:00 2022-02-26 08:00:00  2022-02-26   \n5  2022-02-26 06:00:00 2022-02-26 08:00:00  2022-02-26   \n6  2022-02-26 07:00:00 2022-02-26 08:00:00  2022-02-26   \n7  2022-02-26 07:00:00 2022-02-26 08:00:00  2022-02-26   \n8  2022-02-26 08:00:00 2022-02-26 10:00:00  2022-02-26   \n9  2022-02-26 08:00:00 2022-02-26 10:00:00  2022-02-26   \n10 2022-02-26 08:00:00 2022-02-26 10:00:00  2022-02-26   \n11 2022-02-26 08:00:00 2022-02-26 11:00:00  2022-02-26   \n12 2022-02-26 08:00:00 2022-02-26 11:00:00  2022-02-26   \n13 2022-02-26 08:00:00 2022-02-26 11:00:00  2022-02-26   \n14 2022-02-26 08:00:00 2022-02-26 11:00:00  2022-02-26   \n\n    start_hour_datetimeEpoch  end_hour_datetimeEpoch hour_level_event_time  \\\n0                 1645826400              1645833600   2022-02-25 22:00:00   \n1                 1645826400              1645833600   2022-02-25 23:00:00   \n2                 1645826400              1645833600   2022-02-26 00:00:00   \n3                 1645855200              1645862400   2022-02-26 06:00:00   \n4                 1645855200              1645862400   2022-02-26 07:00:00   \n5                 1645855200              1645862400   2022-02-26 08:00:00   \n6                 1645858800              1645862400   2022-02-26 07:00:00   \n7                 1645858800              1645862400   2022-02-26 08:00:00   \n8                 1645862400              1645869600   2022-02-26 08:00:00   \n9                 1645862400              1645869600   2022-02-26 09:00:00   \n10                1645862400              1645869600   2022-02-26 10:00:00   \n11                1645862400              1645873200   2022-02-26 08:00:00   \n12                1645862400              1645873200   2022-02-26 09:00:00   \n13                1645862400              1645873200   2022-02-26 10:00:00   \n14                1645862400              1645873200   2022-02-26 11:00:00   \n\n    hour_level_event_datetimeEpoch  \n0                       1645826400  \n1                       1645830000  \n2                       1645833600  \n3                       1645855200  \n4                       1645858800  \n5                       1645862400  \n6                       1645858800  \n7                       1645862400  \n8                       1645862400  \n9                       1645866000  \n10                      1645869600  \n11                      1645862400  \n12                      1645866000  \n13                      1645869600  \n14                      1645873200  ",
      "text/html": "<div>\n<style scoped>\n    .dataframe tbody tr th:only-of-type {\n        vertical-align: middle;\n    }\n\n    .dataframe tbody tr th {\n        vertical-align: top;\n    }\n\n    .dataframe thead th {\n        text-align: right;\n    }\n</style>\n<table border=\"1\" class=\"dataframe\">\n  <thead>\n    <tr style=\"text-align: right;\">\n      <th></th>\n      <th>region_title</th>\n      <th>region_city</th>\n      <th>all_region</th>\n      <th>start</th>\n      <th>end</th>\n      <th>clean_end</th>\n      <th>intersection_alarm_id</th>\n      <th>alarms_past_24</th>\n      <th>simultaneous_alarms</th>\n      <th>hours_from_last_alarm</th>\n      <th>holiday_is_near</th>\n      <th>start_time</th>\n      <th>end_time</th>\n      <th>start_hour</th>\n      <th>end_hour</th>\n      <th>day_date</th>\n      <th>start_hour_datetimeEpoch</th>\n      <th>end_hour_datetimeEpoch</th>\n      <th>hour_level_event_time</th>\n      <th>hour_level_event_datetimeEpoch</th>\n    </tr>\n  </thead>\n  <tbody>\n    <tr>\n      <th>0</th>\n      <td>Вінниччина</td>\n      <td>Вінниця</td>\n      <td>0</td>\n      <td>2022-02-25 22:55:42</td>\n      <td>2022-02-25 23:41:53</td>\n      <td>2022-02-25 23:41:53</td>\n      <td>NaN</td>\n      <td>0</td>\n      <td>0</td>\n      <td>NaN</td>\n      <td>True</td>\n      <td>2022-02-25 22:55:42</td>\n      <td>2022-02-25 23:41:53</td>\n      <td>2022-02-25 22:00:00</td>\n      <td>2022-02-26 00:00:00</td>\n      <td>2022-02-25</td>\n      <td>1645826400</td>\n      <td>1645833600</td>\n      <td>2022-02-25 22:00:00</td>\n      <td>1645826400</td>\n    </tr>\n    <tr>\n      <th>1</th>\n      <td>Вінниччина</td>\n      <td>Вінниця</td>\n      <td>0</td>\n      <td>2022-02-25 22:55:42</td>\n      <td>2022-02-25 23:41:53</td>\n      <td>2022-02-25 23:41:53</td>\n      <td>NaN</td>\n      <td>0</td>\n      <td>0</td>\n      <td>NaN</td>\n      <td>True</td>\n      <td>2022-02-25 22:55:42</td>\n      <td>2022-02-25 23:41:53</td>\n      <td>2022-02-25 22:00:00</td>\n      <td>2022-02-26 00:00:00</td>\n      <td>2022-02-25</td>\n      <td>1645826400</td>\n      <td>1645833600</td>\n      <td>2022-02-25 23:00:00</td>\n      <td>1645830000</td>\n    </tr>\n    <tr>\n      <th>2</th>\n      <td>Вінниччина</td>\n      <td>Вінниця</td>\n      <td>0</td>\n      <td>2022-02-25 22:55:42</td>\n      <td>2022-02-25 23:41:53</td>\n      <td>2022-02-25 23:41:53</td>\n      <td>NaN</td>\n      <td>0</td>\n      <td>0</td>\n      <td>NaN</td>\n      <td>True</td>\n      <td>2022-02-25 22:55:42</td>\n      <td>2022-02-25 23:41:53</td>\n      <td>2022-02-25 22:00:00</td>\n      <td>2022-02-26 00:00:00</td>\n      <td>2022-02-25</td>\n      <td>1645826400</td>\n      <td>1645833600</td>\n      <td>2022-02-26 00:00:00</td>\n      <td>1645833600</td>\n    </tr>\n    <tr>\n      <th>3</th>\n      <td>Львівщина</td>\n      <td>Львів</td>\n      <td>0</td>\n      <td>2022-02-26 06:26:17</td>\n      <td>2022-02-26 07:15:28</td>\n      <td>2022-02-26 07:15:28</td>\n      <td>NaN</td>\n      <td>0</td>\n      <td>0</td>\n      <td>NaN</td>\n      <td>True</td>\n      <td>2022-02-26 06:26:17</td>\n      <td>2022-02-26 07:15:28</td>\n      <td>2022-02-26 06:00:00</td>\n      <td>2022-02-26 08:00:00</td>\n      <td>2022-02-26</td>\n      <td>1645855200</td>\n      <td>1645862400</td>\n      <td>2022-02-26 06:00:00</td>\n      <td>1645855200</td>\n    </tr>\n    <tr>\n      <th>4</th>\n      <td>Львівщина</td>\n      <td>Львів</td>\n      <td>0</td>\n      <td>2022-02-26 06:26:17</td>\n      <td>2022-02-26 07:15:28</td>\n      <td>2022-02-26 07:15:28</td>\n      <td>NaN</td>\n      <td>0</td>\n      <td>0</td>\n      <td>NaN</td>\n      <td>True</td>\n      <td>2022-02-26 06:26:17</td>\n      <td>2022-02-26 07:15:28</td>\n      <td>2022-02-26 06:00:00</td>\n      <td>2022-02-26 08:00:00</td>\n      <td>2022-02-26</td>\n      <td>1645855200</td>\n      <td>1645862400</td>\n      <td>2022-02-26 07:00:00</td>\n      <td>1645858800</td>\n    </tr>\n    <tr>\n      <th>5</th>\n      <td>Львівщина</td>\n      <td>Львів</td>\n      <td>0</td>\n      <td>2022-02-26 06:26:17</td>\n      <td>2022-02-26 07:15:28</td>\n      <td>2022-02-26 07:15:28</td>\n      <td>NaN</td>\n      <td>0</td>\n      <td>0</td>\n      <td>NaN</td>\n      <td>True</td>\n      <td>2022-02-26 06:26:17</td>\n      <td>2022-02-26 07:15:28</td>\n      <td>2022-02-26 06:00:00</td>\n      <td>2022-02-26 08:00:00</td>\n      <td>2022-02-26</td>\n      <td>1645855200</td>\n      <td>1645862400</td>\n      <td>2022-02-26 08:00:00</td>\n      <td>1645862400</td>\n    </tr>\n    <tr>\n      <th>6</th>\n      <td>Одещина</td>\n      <td>Одеса</td>\n      <td>0</td>\n      <td>2022-02-26 07:16:58</td>\n      <td>2022-02-26 07:47:03</td>\n      <td>2022-02-26 07:47:03</td>\n      <td>NaN</td>\n      <td>0</td>\n      <td>0</td>\n      <td>NaN</td>\n      <td>True</td>\n      <td>2022-02-26 07:16:58</td>\n      <td>2022-02-26 07:47:03</td>\n      <td>2022-02-26 07:00:00</td>\n      <td>2022-02-26 08:00:00</td>\n      <td>2022-02-26</td>\n      <td>1645858800</td>\n      <td>1645862400</td>\n      <td>2022-02-26 07:00:00</td>\n      <td>1645858800</td>\n    </tr>\n    <tr>\n      <th>7</th>\n      <td>Одещина</td>\n      <td>Одеса</td>\n      <td>0</td>\n      <td>2022-02-26 07:16:58</td>\n      <td>2022-02-26 07:47:03</td>\n      <td>2022-02-26 07:47:03</td>\n      <td>NaN</td>\n      <td>0</td>\n      <td>0</td>\n      <td>NaN</td>\n      <td>True</td>\n      <td>2022-02-26 07:16:58</td>\n      <td>2022-02-26 07:47:03</td>\n      <td>2022-02-26 07:00:00</td>\n      <td>2022-02-26 08:00:00</td>\n      <td>2022-02-26</td>\n      <td>1645858800</td>\n      <td>1645862400</td>\n      <td>2022-02-26 08:00:00</td>\n      <td>1645862400</td>\n    </tr>\n    <tr>\n      <th>8</th>\n      <td>Житомирщина</td>\n      <td>Житомир</td>\n      <td>0</td>\n      <td>2022-02-26 08:05:54</td>\n      <td>2022-02-26 09:36:36</td>\n      <td>2022-02-26 09:36:36</td>\n      <td>NaN</td>\n      <td>0</td>\n      <td>1</td>\n      <td>NaN</td>\n      <td>True</td>\n      <td>2022-02-26 08:05:54</td>\n      <td>2022-02-26 09:36:36</td>\n      <td>2022-02-26 08:00:00</td>\n      <td>2022-02-26 10:00:00</td>\n      <td>2022-02-26</td>\n      <td>1645862400</td>\n      <td>1645869600</td>\n      <td>2022-02-26 08:00:00</td>\n      <td>1645862400</td>\n    </tr>\n    <tr>\n      <th>9</th>\n      <td>Житомирщина</td>\n      <td>Житомир</td>\n      <td>0</td>\n      <td>2022-02-26 08:05:54</td>\n      <td>2022-02-26 09:36:36</td>\n      <td>2022-02-26 09:36:36</td>\n      <td>NaN</td>\n      <td>0</td>\n      <td>1</td>\n      <td>NaN</td>\n      <td>True</td>\n      <td>2022-02-26 08:05:54</td>\n      <td>2022-02-26 09:36:36</td>\n      <td>2022-02-26 08:00:00</td>\n      <td>2022-02-26 10:00:00</td>\n      <td>2022-02-26</td>\n      <td>1645862400</td>\n      <td>1645869600</td>\n      <td>2022-02-26 09:00:00</td>\n      <td>1645866000</td>\n    </tr>\n    <tr>\n      <th>10</th>\n      <td>Житомирщина</td>\n      <td>Житомир</td>\n      <td>0</td>\n      <td>2022-02-26 08:05:54</td>\n      <td>2022-02-26 09:36:36</td>\n      <td>2022-02-26 09:36:36</td>\n      <td>NaN</td>\n      <td>0</td>\n      <td>1</td>\n      <td>NaN</td>\n      <td>True</td>\n      <td>2022-02-26 08:05:54</td>\n      <td>2022-02-26 09:36:36</td>\n      <td>2022-02-26 08:00:00</td>\n      <td>2022-02-26 10:00:00</td>\n      <td>2022-02-26</td>\n      <td>1645862400</td>\n      <td>1645869600</td>\n      <td>2022-02-26 10:00:00</td>\n      <td>1645869600</td>\n    </tr>\n    <tr>\n      <th>11</th>\n      <td>Вінниччина</td>\n      <td>Вінниця</td>\n      <td>0</td>\n      <td>2022-02-26 08:39:39</td>\n      <td>2022-02-26 10:42:41</td>\n      <td>2022-02-26 10:42:41</td>\n      <td>NaN</td>\n      <td>1</td>\n      <td>1</td>\n      <td>89.627778</td>\n      <td>True</td>\n      <td>2022-02-26 08:39:39</td>\n      <td>2022-02-26 10:42:41</td>\n      <td>2022-02-26 08:00:00</td>\n      <td>2022-02-26 11:00:00</td>\n      <td>2022-02-26</td>\n      <td>1645862400</td>\n      <td>1645873200</td>\n      <td>2022-02-26 08:00:00</td>\n      <td>1645862400</td>\n    </tr>\n    <tr>\n      <th>12</th>\n      <td>Вінниччина</td>\n      <td>Вінниця</td>\n      <td>0</td>\n      <td>2022-02-26 08:39:39</td>\n      <td>2022-02-26 10:42:41</td>\n      <td>2022-02-26 10:42:41</td>\n      <td>NaN</td>\n      <td>1</td>\n      <td>1</td>\n      <td>89.627778</td>\n      <td>True</td>\n      <td>2022-02-26 08:39:39</td>\n      <td>2022-02-26 10:42:41</td>\n      <td>2022-02-26 08:00:00</td>\n      <td>2022-02-26 11:00:00</td>\n      <td>2022-02-26</td>\n      <td>1645862400</td>\n      <td>1645873200</td>\n      <td>2022-02-26 09:00:00</td>\n      <td>1645866000</td>\n    </tr>\n    <tr>\n      <th>13</th>\n      <td>Вінниччина</td>\n      <td>Вінниця</td>\n      <td>0</td>\n      <td>2022-02-26 08:39:39</td>\n      <td>2022-02-26 10:42:41</td>\n      <td>2022-02-26 10:42:41</td>\n      <td>NaN</td>\n      <td>1</td>\n      <td>1</td>\n      <td>89.627778</td>\n      <td>True</td>\n      <td>2022-02-26 08:39:39</td>\n      <td>2022-02-26 10:42:41</td>\n      <td>2022-02-26 08:00:00</td>\n      <td>2022-02-26 11:00:00</td>\n      <td>2022-02-26</td>\n      <td>1645862400</td>\n      <td>1645873200</td>\n      <td>2022-02-26 10:00:00</td>\n      <td>1645869600</td>\n    </tr>\n    <tr>\n      <th>14</th>\n      <td>Вінниччина</td>\n      <td>Вінниця</td>\n      <td>0</td>\n      <td>2022-02-26 08:39:39</td>\n      <td>2022-02-26 10:42:41</td>\n      <td>2022-02-26 10:42:41</td>\n      <td>NaN</td>\n      <td>1</td>\n      <td>1</td>\n      <td>89.627778</td>\n      <td>True</td>\n      <td>2022-02-26 08:39:39</td>\n      <td>2022-02-26 10:42:41</td>\n      <td>2022-02-26 08:00:00</td>\n      <td>2022-02-26 11:00:00</td>\n      <td>2022-02-26</td>\n      <td>1645862400</td>\n      <td>1645873200</td>\n      <td>2022-02-26 11:00:00</td>\n      <td>1645873200</td>\n    </tr>\n  </tbody>\n</table>\n</div>"
     },
     "execution_count": 55,
     "metadata": {},
     "output_type": "execute_result"
    }
   ],
   "source": [
    "df_events_v3.head(15)"
   ]
  },
  {
   "cell_type": "code",
   "execution_count": 56,
   "id": "aa796999",
   "metadata": {},
   "outputs": [
    {
     "data": {
      "text/plain": "  city_resolvedAddress day_datetime  day_datetimeEpoch  day_tempmax  \\\n0     Черкаси, Україна   2022-02-24         1645653600          4.9   \n1     Черкаси, Україна   2022-02-24         1645653600          4.9   \n2     Черкаси, Україна   2022-02-24         1645653600          4.9   \n3     Черкаси, Україна   2022-02-24         1645653600          4.9   \n4     Черкаси, Україна   2022-02-24         1645653600          4.9   \n\n   day_tempmin  day_temp  day_dew  day_humidity  day_precip  day_precipcover  \\\n0         -0.1       1.9     -0.6          83.4         0.0              0.0   \n1         -0.1       1.9     -0.6          83.4         0.0              0.0   \n2         -0.1       1.9     -0.6          83.4         0.0              0.0   \n3         -0.1       1.9     -0.6          83.4         0.0              0.0   \n4         -0.1       1.9     -0.6          83.4         0.0              0.0   \n\n   day_solarradiation  day_solarenergy  day_uvindex day_sunrise day_sunset  \\\n0                47.4              4.4          2.0    06:44:41   17:26:05   \n1                47.4              4.4          2.0    06:44:41   17:26:05   \n2                47.4              4.4          2.0    06:44:41   17:26:05   \n3                47.4              4.4          2.0    06:44:41   17:26:05   \n4                47.4              4.4          2.0    06:44:41   17:26:05   \n\n   day_moonphase hour_datetime  hour_datetimeEpoch  hour_temp  hour_humidity  \\\n0           0.77      00:00:00          1645653600        0.9          75.73   \n1           0.77      01:00:00          1645657200        0.6          77.96   \n2           0.77      02:00:00          1645660800        0.4          82.08   \n3           0.77      03:00:00          1645664400        0.2          83.28   \n4           0.77      04:00:00          1645668000        0.0          83.87   \n\n   hour_dew  hour_precip  hour_precipprob  hour_snow  hour_snowdepth  \\\n0      -2.9          0.0              0.0        0.0             0.0   \n1      -2.8          0.0              0.0        0.0             0.0   \n2      -2.3          0.0              0.0        0.0             0.0   \n3      -2.3          0.0              0.0        0.0             0.0   \n4      -2.4          0.0              0.0        0.0             0.0   \n\n  hour_preciptype  hour_windgust  hour_windspeed  hour_winddir  hour_pressure  \\\n0             NaN            7.2             4.0         132.0         1020.0   \n1             NaN            6.5             3.6         147.9         1020.0   \n2             NaN            8.3             3.2         198.2         1020.0   \n3             NaN            5.0             2.9         202.3         1020.0   \n4             NaN            5.0             2.9         203.6         1021.0   \n\n   hour_visibility  hour_cloudcover  hour_solarradiation  hour_solarenergy  \\\n0             24.1             89.0                  0.0               NaN   \n1             24.1             71.1                  0.0               NaN   \n2             24.1             95.4                  0.0               NaN   \n3             24.1             74.6                  0.0               NaN   \n4             24.1             67.8                  0.0               NaN   \n\n   hour_uvindex  hour_severerisk   hour_conditions     city     region  \\\n0           0.0             10.0  Partially cloudy  Черкаси  Черкаська   \n1           0.0             10.0  Partially cloudy  Черкаси  Черкаська   \n2           0.0             10.0          Overcast  Черкаси  Черкаська   \n3           0.0             10.0  Partially cloudy  Черкаси  Черкаська   \n4           0.0             10.0  Partially cloudy  Черкаси  Черкаська   \n\n  center_city_ua center_city_en region_alt  region_id  \n0        Черкаси       Cherkasy  Черкащина         23  \n1        Черкаси       Cherkasy  Черкащина         23  \n2        Черкаси       Cherkasy  Черкащина         23  \n3        Черкаси       Cherkasy  Черкащина         23  \n4        Черкаси       Cherkasy  Черкащина         23  ",
      "text/html": "<div>\n<style scoped>\n    .dataframe tbody tr th:only-of-type {\n        vertical-align: middle;\n    }\n\n    .dataframe tbody tr th {\n        vertical-align: top;\n    }\n\n    .dataframe thead th {\n        text-align: right;\n    }\n</style>\n<table border=\"1\" class=\"dataframe\">\n  <thead>\n    <tr style=\"text-align: right;\">\n      <th></th>\n      <th>city_resolvedAddress</th>\n      <th>day_datetime</th>\n      <th>day_datetimeEpoch</th>\n      <th>day_tempmax</th>\n      <th>day_tempmin</th>\n      <th>day_temp</th>\n      <th>day_dew</th>\n      <th>day_humidity</th>\n      <th>day_precip</th>\n      <th>day_precipcover</th>\n      <th>day_solarradiation</th>\n      <th>day_solarenergy</th>\n      <th>day_uvindex</th>\n      <th>day_sunrise</th>\n      <th>day_sunset</th>\n      <th>day_moonphase</th>\n      <th>hour_datetime</th>\n      <th>hour_datetimeEpoch</th>\n      <th>hour_temp</th>\n      <th>hour_humidity</th>\n      <th>hour_dew</th>\n      <th>hour_precip</th>\n      <th>hour_precipprob</th>\n      <th>hour_snow</th>\n      <th>hour_snowdepth</th>\n      <th>hour_preciptype</th>\n      <th>hour_windgust</th>\n      <th>hour_windspeed</th>\n      <th>hour_winddir</th>\n      <th>hour_pressure</th>\n      <th>hour_visibility</th>\n      <th>hour_cloudcover</th>\n      <th>hour_solarradiation</th>\n      <th>hour_solarenergy</th>\n      <th>hour_uvindex</th>\n      <th>hour_severerisk</th>\n      <th>hour_conditions</th>\n      <th>city</th>\n      <th>region</th>\n      <th>center_city_ua</th>\n      <th>center_city_en</th>\n      <th>region_alt</th>\n      <th>region_id</th>\n    </tr>\n  </thead>\n  <tbody>\n    <tr>\n      <th>0</th>\n      <td>Черкаси, Україна</td>\n      <td>2022-02-24</td>\n      <td>1645653600</td>\n      <td>4.9</td>\n      <td>-0.1</td>\n      <td>1.9</td>\n      <td>-0.6</td>\n      <td>83.4</td>\n      <td>0.0</td>\n      <td>0.0</td>\n      <td>47.4</td>\n      <td>4.4</td>\n      <td>2.0</td>\n      <td>06:44:41</td>\n      <td>17:26:05</td>\n      <td>0.77</td>\n      <td>00:00:00</td>\n      <td>1645653600</td>\n      <td>0.9</td>\n      <td>75.73</td>\n      <td>-2.9</td>\n      <td>0.0</td>\n      <td>0.0</td>\n      <td>0.0</td>\n      <td>0.0</td>\n      <td>NaN</td>\n      <td>7.2</td>\n      <td>4.0</td>\n      <td>132.0</td>\n      <td>1020.0</td>\n      <td>24.1</td>\n      <td>89.0</td>\n      <td>0.0</td>\n      <td>NaN</td>\n      <td>0.0</td>\n      <td>10.0</td>\n      <td>Partially cloudy</td>\n      <td>Черкаси</td>\n      <td>Черкаська</td>\n      <td>Черкаси</td>\n      <td>Cherkasy</td>\n      <td>Черкащина</td>\n      <td>23</td>\n    </tr>\n    <tr>\n      <th>1</th>\n      <td>Черкаси, Україна</td>\n      <td>2022-02-24</td>\n      <td>1645653600</td>\n      <td>4.9</td>\n      <td>-0.1</td>\n      <td>1.9</td>\n      <td>-0.6</td>\n      <td>83.4</td>\n      <td>0.0</td>\n      <td>0.0</td>\n      <td>47.4</td>\n      <td>4.4</td>\n      <td>2.0</td>\n      <td>06:44:41</td>\n      <td>17:26:05</td>\n      <td>0.77</td>\n      <td>01:00:00</td>\n      <td>1645657200</td>\n      <td>0.6</td>\n      <td>77.96</td>\n      <td>-2.8</td>\n      <td>0.0</td>\n      <td>0.0</td>\n      <td>0.0</td>\n      <td>0.0</td>\n      <td>NaN</td>\n      <td>6.5</td>\n      <td>3.6</td>\n      <td>147.9</td>\n      <td>1020.0</td>\n      <td>24.1</td>\n      <td>71.1</td>\n      <td>0.0</td>\n      <td>NaN</td>\n      <td>0.0</td>\n      <td>10.0</td>\n      <td>Partially cloudy</td>\n      <td>Черкаси</td>\n      <td>Черкаська</td>\n      <td>Черкаси</td>\n      <td>Cherkasy</td>\n      <td>Черкащина</td>\n      <td>23</td>\n    </tr>\n    <tr>\n      <th>2</th>\n      <td>Черкаси, Україна</td>\n      <td>2022-02-24</td>\n      <td>1645653600</td>\n      <td>4.9</td>\n      <td>-0.1</td>\n      <td>1.9</td>\n      <td>-0.6</td>\n      <td>83.4</td>\n      <td>0.0</td>\n      <td>0.0</td>\n      <td>47.4</td>\n      <td>4.4</td>\n      <td>2.0</td>\n      <td>06:44:41</td>\n      <td>17:26:05</td>\n      <td>0.77</td>\n      <td>02:00:00</td>\n      <td>1645660800</td>\n      <td>0.4</td>\n      <td>82.08</td>\n      <td>-2.3</td>\n      <td>0.0</td>\n      <td>0.0</td>\n      <td>0.0</td>\n      <td>0.0</td>\n      <td>NaN</td>\n      <td>8.3</td>\n      <td>3.2</td>\n      <td>198.2</td>\n      <td>1020.0</td>\n      <td>24.1</td>\n      <td>95.4</td>\n      <td>0.0</td>\n      <td>NaN</td>\n      <td>0.0</td>\n      <td>10.0</td>\n      <td>Overcast</td>\n      <td>Черкаси</td>\n      <td>Черкаська</td>\n      <td>Черкаси</td>\n      <td>Cherkasy</td>\n      <td>Черкащина</td>\n      <td>23</td>\n    </tr>\n    <tr>\n      <th>3</th>\n      <td>Черкаси, Україна</td>\n      <td>2022-02-24</td>\n      <td>1645653600</td>\n      <td>4.9</td>\n      <td>-0.1</td>\n      <td>1.9</td>\n      <td>-0.6</td>\n      <td>83.4</td>\n      <td>0.0</td>\n      <td>0.0</td>\n      <td>47.4</td>\n      <td>4.4</td>\n      <td>2.0</td>\n      <td>06:44:41</td>\n      <td>17:26:05</td>\n      <td>0.77</td>\n      <td>03:00:00</td>\n      <td>1645664400</td>\n      <td>0.2</td>\n      <td>83.28</td>\n      <td>-2.3</td>\n      <td>0.0</td>\n      <td>0.0</td>\n      <td>0.0</td>\n      <td>0.0</td>\n      <td>NaN</td>\n      <td>5.0</td>\n      <td>2.9</td>\n      <td>202.3</td>\n      <td>1020.0</td>\n      <td>24.1</td>\n      <td>74.6</td>\n      <td>0.0</td>\n      <td>NaN</td>\n      <td>0.0</td>\n      <td>10.0</td>\n      <td>Partially cloudy</td>\n      <td>Черкаси</td>\n      <td>Черкаська</td>\n      <td>Черкаси</td>\n      <td>Cherkasy</td>\n      <td>Черкащина</td>\n      <td>23</td>\n    </tr>\n    <tr>\n      <th>4</th>\n      <td>Черкаси, Україна</td>\n      <td>2022-02-24</td>\n      <td>1645653600</td>\n      <td>4.9</td>\n      <td>-0.1</td>\n      <td>1.9</td>\n      <td>-0.6</td>\n      <td>83.4</td>\n      <td>0.0</td>\n      <td>0.0</td>\n      <td>47.4</td>\n      <td>4.4</td>\n      <td>2.0</td>\n      <td>06:44:41</td>\n      <td>17:26:05</td>\n      <td>0.77</td>\n      <td>04:00:00</td>\n      <td>1645668000</td>\n      <td>0.0</td>\n      <td>83.87</td>\n      <td>-2.4</td>\n      <td>0.0</td>\n      <td>0.0</td>\n      <td>0.0</td>\n      <td>0.0</td>\n      <td>NaN</td>\n      <td>5.0</td>\n      <td>2.9</td>\n      <td>203.6</td>\n      <td>1021.0</td>\n      <td>24.1</td>\n      <td>67.8</td>\n      <td>0.0</td>\n      <td>NaN</td>\n      <td>0.0</td>\n      <td>10.0</td>\n      <td>Partially cloudy</td>\n      <td>Черкаси</td>\n      <td>Черкаська</td>\n      <td>Черкаси</td>\n      <td>Cherkasy</td>\n      <td>Черкащина</td>\n      <td>23</td>\n    </tr>\n  </tbody>\n</table>\n</div>"
     },
     "execution_count": 56,
     "metadata": {},
     "output_type": "execute_result"
    }
   ],
   "source": [
    "df_weather_reg.head(5)"
   ]
  },
  {
   "cell_type": "code",
   "execution_count": 57,
   "id": "7be3ae80",
   "metadata": {},
   "outputs": [
    {
     "data": {
      "text/plain": "(190656, 43)"
     },
     "execution_count": 57,
     "metadata": {},
     "output_type": "execute_result"
    }
   ],
   "source": [
    "df_weather_reg.shape"
   ]
  },
  {
   "cell_type": "code",
   "execution_count": 58,
   "id": "85b4f508",
   "metadata": {},
   "outputs": [
    {
     "data": {
      "text/plain": "  region_title region_city  all_region                start  \\\n0   Вінниччина     Вінниця           0  2022-02-25 22:55:42   \n1   Вінниччина     Вінниця           0  2022-02-25 22:55:42   \n2   Вінниччина     Вінниця           0  2022-02-25 22:55:42   \n3    Львівщина       Львів           0  2022-02-26 06:26:17   \n4    Львівщина       Львів           0  2022-02-26 06:26:17   \n5    Львівщина       Львів           0  2022-02-26 06:26:17   \n6      Одещина       Одеса           0  2022-02-26 07:16:58   \n7      Одещина       Одеса           0  2022-02-26 07:16:58   \n8  Житомирщина     Житомир           0  2022-02-26 08:05:54   \n9  Житомирщина     Житомир           0  2022-02-26 08:05:54   \n\n                   end            clean_end  intersection_alarm_id  \\\n0  2022-02-25 23:41:53  2022-02-25 23:41:53                    NaN   \n1  2022-02-25 23:41:53  2022-02-25 23:41:53                    NaN   \n2  2022-02-25 23:41:53  2022-02-25 23:41:53                    NaN   \n3  2022-02-26 07:15:28  2022-02-26 07:15:28                    NaN   \n4  2022-02-26 07:15:28  2022-02-26 07:15:28                    NaN   \n5  2022-02-26 07:15:28  2022-02-26 07:15:28                    NaN   \n6  2022-02-26 07:47:03  2022-02-26 07:47:03                    NaN   \n7  2022-02-26 07:47:03  2022-02-26 07:47:03                    NaN   \n8  2022-02-26 09:36:36  2022-02-26 09:36:36                    NaN   \n9  2022-02-26 09:36:36  2022-02-26 09:36:36                    NaN   \n\n   alarms_past_24  simultaneous_alarms  hours_from_last_alarm  \\\n0               0                    0                    NaN   \n1               0                    0                    NaN   \n2               0                    0                    NaN   \n3               0                    0                    NaN   \n4               0                    0                    NaN   \n5               0                    0                    NaN   \n6               0                    0                    NaN   \n7               0                    0                    NaN   \n8               0                    1                    NaN   \n9               0                    1                    NaN   \n\n   holiday_is_near          start_time            end_time  \\\n0             True 2022-02-25 22:55:42 2022-02-25 23:41:53   \n1             True 2022-02-25 22:55:42 2022-02-25 23:41:53   \n2             True 2022-02-25 22:55:42 2022-02-25 23:41:53   \n3             True 2022-02-26 06:26:17 2022-02-26 07:15:28   \n4             True 2022-02-26 06:26:17 2022-02-26 07:15:28   \n5             True 2022-02-26 06:26:17 2022-02-26 07:15:28   \n6             True 2022-02-26 07:16:58 2022-02-26 07:47:03   \n7             True 2022-02-26 07:16:58 2022-02-26 07:47:03   \n8             True 2022-02-26 08:05:54 2022-02-26 09:36:36   \n9             True 2022-02-26 08:05:54 2022-02-26 09:36:36   \n\n           start_hour            end_hour    day_date  \\\n0 2022-02-25 22:00:00 2022-02-26 00:00:00  2022-02-25   \n1 2022-02-25 22:00:00 2022-02-26 00:00:00  2022-02-25   \n2 2022-02-25 22:00:00 2022-02-26 00:00:00  2022-02-25   \n3 2022-02-26 06:00:00 2022-02-26 08:00:00  2022-02-26   \n4 2022-02-26 06:00:00 2022-02-26 08:00:00  2022-02-26   \n5 2022-02-26 06:00:00 2022-02-26 08:00:00  2022-02-26   \n6 2022-02-26 07:00:00 2022-02-26 08:00:00  2022-02-26   \n7 2022-02-26 07:00:00 2022-02-26 08:00:00  2022-02-26   \n8 2022-02-26 08:00:00 2022-02-26 10:00:00  2022-02-26   \n9 2022-02-26 08:00:00 2022-02-26 10:00:00  2022-02-26   \n\n   start_hour_datetimeEpoch  end_hour_datetimeEpoch hour_level_event_time  \\\n0                1645826400              1645833600   2022-02-25 22:00:00   \n1                1645826400              1645833600   2022-02-25 23:00:00   \n2                1645826400              1645833600   2022-02-26 00:00:00   \n3                1645855200              1645862400   2022-02-26 06:00:00   \n4                1645855200              1645862400   2022-02-26 07:00:00   \n5                1645855200              1645862400   2022-02-26 08:00:00   \n6                1645858800              1645862400   2022-02-26 07:00:00   \n7                1645858800              1645862400   2022-02-26 08:00:00   \n8                1645862400              1645869600   2022-02-26 08:00:00   \n9                1645862400              1645869600   2022-02-26 09:00:00   \n\n   hour_level_event_datetimeEpoch  \n0                      1645826400  \n1                      1645830000  \n2                      1645833600  \n3                      1645855200  \n4                      1645858800  \n5                      1645862400  \n6                      1645858800  \n7                      1645862400  \n8                      1645862400  \n9                      1645866000  ",
      "text/html": "<div>\n<style scoped>\n    .dataframe tbody tr th:only-of-type {\n        vertical-align: middle;\n    }\n\n    .dataframe tbody tr th {\n        vertical-align: top;\n    }\n\n    .dataframe thead th {\n        text-align: right;\n    }\n</style>\n<table border=\"1\" class=\"dataframe\">\n  <thead>\n    <tr style=\"text-align: right;\">\n      <th></th>\n      <th>region_title</th>\n      <th>region_city</th>\n      <th>all_region</th>\n      <th>start</th>\n      <th>end</th>\n      <th>clean_end</th>\n      <th>intersection_alarm_id</th>\n      <th>alarms_past_24</th>\n      <th>simultaneous_alarms</th>\n      <th>hours_from_last_alarm</th>\n      <th>holiday_is_near</th>\n      <th>start_time</th>\n      <th>end_time</th>\n      <th>start_hour</th>\n      <th>end_hour</th>\n      <th>day_date</th>\n      <th>start_hour_datetimeEpoch</th>\n      <th>end_hour_datetimeEpoch</th>\n      <th>hour_level_event_time</th>\n      <th>hour_level_event_datetimeEpoch</th>\n    </tr>\n  </thead>\n  <tbody>\n    <tr>\n      <th>0</th>\n      <td>Вінниччина</td>\n      <td>Вінниця</td>\n      <td>0</td>\n      <td>2022-02-25 22:55:42</td>\n      <td>2022-02-25 23:41:53</td>\n      <td>2022-02-25 23:41:53</td>\n      <td>NaN</td>\n      <td>0</td>\n      <td>0</td>\n      <td>NaN</td>\n      <td>True</td>\n      <td>2022-02-25 22:55:42</td>\n      <td>2022-02-25 23:41:53</td>\n      <td>2022-02-25 22:00:00</td>\n      <td>2022-02-26 00:00:00</td>\n      <td>2022-02-25</td>\n      <td>1645826400</td>\n      <td>1645833600</td>\n      <td>2022-02-25 22:00:00</td>\n      <td>1645826400</td>\n    </tr>\n    <tr>\n      <th>1</th>\n      <td>Вінниччина</td>\n      <td>Вінниця</td>\n      <td>0</td>\n      <td>2022-02-25 22:55:42</td>\n      <td>2022-02-25 23:41:53</td>\n      <td>2022-02-25 23:41:53</td>\n      <td>NaN</td>\n      <td>0</td>\n      <td>0</td>\n      <td>NaN</td>\n      <td>True</td>\n      <td>2022-02-25 22:55:42</td>\n      <td>2022-02-25 23:41:53</td>\n      <td>2022-02-25 22:00:00</td>\n      <td>2022-02-26 00:00:00</td>\n      <td>2022-02-25</td>\n      <td>1645826400</td>\n      <td>1645833600</td>\n      <td>2022-02-25 23:00:00</td>\n      <td>1645830000</td>\n    </tr>\n    <tr>\n      <th>2</th>\n      <td>Вінниччина</td>\n      <td>Вінниця</td>\n      <td>0</td>\n      <td>2022-02-25 22:55:42</td>\n      <td>2022-02-25 23:41:53</td>\n      <td>2022-02-25 23:41:53</td>\n      <td>NaN</td>\n      <td>0</td>\n      <td>0</td>\n      <td>NaN</td>\n      <td>True</td>\n      <td>2022-02-25 22:55:42</td>\n      <td>2022-02-25 23:41:53</td>\n      <td>2022-02-25 22:00:00</td>\n      <td>2022-02-26 00:00:00</td>\n      <td>2022-02-25</td>\n      <td>1645826400</td>\n      <td>1645833600</td>\n      <td>2022-02-26 00:00:00</td>\n      <td>1645833600</td>\n    </tr>\n    <tr>\n      <th>3</th>\n      <td>Львівщина</td>\n      <td>Львів</td>\n      <td>0</td>\n      <td>2022-02-26 06:26:17</td>\n      <td>2022-02-26 07:15:28</td>\n      <td>2022-02-26 07:15:28</td>\n      <td>NaN</td>\n      <td>0</td>\n      <td>0</td>\n      <td>NaN</td>\n      <td>True</td>\n      <td>2022-02-26 06:26:17</td>\n      <td>2022-02-26 07:15:28</td>\n      <td>2022-02-26 06:00:00</td>\n      <td>2022-02-26 08:00:00</td>\n      <td>2022-02-26</td>\n      <td>1645855200</td>\n      <td>1645862400</td>\n      <td>2022-02-26 06:00:00</td>\n      <td>1645855200</td>\n    </tr>\n    <tr>\n      <th>4</th>\n      <td>Львівщина</td>\n      <td>Львів</td>\n      <td>0</td>\n      <td>2022-02-26 06:26:17</td>\n      <td>2022-02-26 07:15:28</td>\n      <td>2022-02-26 07:15:28</td>\n      <td>NaN</td>\n      <td>0</td>\n      <td>0</td>\n      <td>NaN</td>\n      <td>True</td>\n      <td>2022-02-26 06:26:17</td>\n      <td>2022-02-26 07:15:28</td>\n      <td>2022-02-26 06:00:00</td>\n      <td>2022-02-26 08:00:00</td>\n      <td>2022-02-26</td>\n      <td>1645855200</td>\n      <td>1645862400</td>\n      <td>2022-02-26 07:00:00</td>\n      <td>1645858800</td>\n    </tr>\n    <tr>\n      <th>5</th>\n      <td>Львівщина</td>\n      <td>Львів</td>\n      <td>0</td>\n      <td>2022-02-26 06:26:17</td>\n      <td>2022-02-26 07:15:28</td>\n      <td>2022-02-26 07:15:28</td>\n      <td>NaN</td>\n      <td>0</td>\n      <td>0</td>\n      <td>NaN</td>\n      <td>True</td>\n      <td>2022-02-26 06:26:17</td>\n      <td>2022-02-26 07:15:28</td>\n      <td>2022-02-26 06:00:00</td>\n      <td>2022-02-26 08:00:00</td>\n      <td>2022-02-26</td>\n      <td>1645855200</td>\n      <td>1645862400</td>\n      <td>2022-02-26 08:00:00</td>\n      <td>1645862400</td>\n    </tr>\n    <tr>\n      <th>6</th>\n      <td>Одещина</td>\n      <td>Одеса</td>\n      <td>0</td>\n      <td>2022-02-26 07:16:58</td>\n      <td>2022-02-26 07:47:03</td>\n      <td>2022-02-26 07:47:03</td>\n      <td>NaN</td>\n      <td>0</td>\n      <td>0</td>\n      <td>NaN</td>\n      <td>True</td>\n      <td>2022-02-26 07:16:58</td>\n      <td>2022-02-26 07:47:03</td>\n      <td>2022-02-26 07:00:00</td>\n      <td>2022-02-26 08:00:00</td>\n      <td>2022-02-26</td>\n      <td>1645858800</td>\n      <td>1645862400</td>\n      <td>2022-02-26 07:00:00</td>\n      <td>1645858800</td>\n    </tr>\n    <tr>\n      <th>7</th>\n      <td>Одещина</td>\n      <td>Одеса</td>\n      <td>0</td>\n      <td>2022-02-26 07:16:58</td>\n      <td>2022-02-26 07:47:03</td>\n      <td>2022-02-26 07:47:03</td>\n      <td>NaN</td>\n      <td>0</td>\n      <td>0</td>\n      <td>NaN</td>\n      <td>True</td>\n      <td>2022-02-26 07:16:58</td>\n      <td>2022-02-26 07:47:03</td>\n      <td>2022-02-26 07:00:00</td>\n      <td>2022-02-26 08:00:00</td>\n      <td>2022-02-26</td>\n      <td>1645858800</td>\n      <td>1645862400</td>\n      <td>2022-02-26 08:00:00</td>\n      <td>1645862400</td>\n    </tr>\n    <tr>\n      <th>8</th>\n      <td>Житомирщина</td>\n      <td>Житомир</td>\n      <td>0</td>\n      <td>2022-02-26 08:05:54</td>\n      <td>2022-02-26 09:36:36</td>\n      <td>2022-02-26 09:36:36</td>\n      <td>NaN</td>\n      <td>0</td>\n      <td>1</td>\n      <td>NaN</td>\n      <td>True</td>\n      <td>2022-02-26 08:05:54</td>\n      <td>2022-02-26 09:36:36</td>\n      <td>2022-02-26 08:00:00</td>\n      <td>2022-02-26 10:00:00</td>\n      <td>2022-02-26</td>\n      <td>1645862400</td>\n      <td>1645869600</td>\n      <td>2022-02-26 08:00:00</td>\n      <td>1645862400</td>\n    </tr>\n    <tr>\n      <th>9</th>\n      <td>Житомирщина</td>\n      <td>Житомир</td>\n      <td>0</td>\n      <td>2022-02-26 08:05:54</td>\n      <td>2022-02-26 09:36:36</td>\n      <td>2022-02-26 09:36:36</td>\n      <td>NaN</td>\n      <td>0</td>\n      <td>1</td>\n      <td>NaN</td>\n      <td>True</td>\n      <td>2022-02-26 08:05:54</td>\n      <td>2022-02-26 09:36:36</td>\n      <td>2022-02-26 08:00:00</td>\n      <td>2022-02-26 10:00:00</td>\n      <td>2022-02-26</td>\n      <td>1645862400</td>\n      <td>1645869600</td>\n      <td>2022-02-26 09:00:00</td>\n      <td>1645866000</td>\n    </tr>\n  </tbody>\n</table>\n</div>"
     },
     "execution_count": 58,
     "metadata": {},
     "output_type": "execute_result"
    }
   ],
   "source": [
    "df_events_v3.head(10)"
   ]
  },
  {
   "cell_type": "code",
   "execution_count": 59,
   "id": "cfc7e841",
   "metadata": {},
   "outputs": [],
   "source": [
    "df_events_v4 = df_events_v3.copy().add_prefix('event_')"
   ]
  },
  {
   "cell_type": "code",
   "execution_count": 60,
   "id": "7c35dc66",
   "metadata": {},
   "outputs": [],
   "source": [
    "df_weather_v4 = df_weather_reg.merge(df_events_v4, \n",
    "                                     how=\"left\", \n",
    "                                     left_on=[\"region_alt\",\"hour_datetimeEpoch\"],\n",
    "                                     right_on=[\"event_region_title\",\"event_hour_level_event_datetimeEpoch\"])"
   ]
  },
  {
   "cell_type": "code",
   "execution_count": 61,
   "id": "ea0266bb",
   "metadata": {},
   "outputs": [
    {
     "data": {
      "text/plain": "  city_resolvedAddress day_datetime  day_datetimeEpoch  day_tempmax  \\\n0     Черкаси, Україна   2022-02-24         1645653600          4.9   \n1     Черкаси, Україна   2022-02-24         1645653600          4.9   \n2     Черкаси, Україна   2022-02-24         1645653600          4.9   \n3     Черкаси, Україна   2022-02-24         1645653600          4.9   \n4     Черкаси, Україна   2022-02-24         1645653600          4.9   \n5     Черкаси, Україна   2022-02-24         1645653600          4.9   \n6     Черкаси, Україна   2022-02-24         1645653600          4.9   \n7     Черкаси, Україна   2022-02-24         1645653600          4.9   \n8     Черкаси, Україна   2022-02-24         1645653600          4.9   \n9     Черкаси, Україна   2022-02-24         1645653600          4.9   \n\n   day_tempmin  day_temp  day_dew  day_humidity  day_precip  day_precipcover  \\\n0         -0.1       1.9     -0.6          83.4         0.0              0.0   \n1         -0.1       1.9     -0.6          83.4         0.0              0.0   \n2         -0.1       1.9     -0.6          83.4         0.0              0.0   \n3         -0.1       1.9     -0.6          83.4         0.0              0.0   \n4         -0.1       1.9     -0.6          83.4         0.0              0.0   \n5         -0.1       1.9     -0.6          83.4         0.0              0.0   \n6         -0.1       1.9     -0.6          83.4         0.0              0.0   \n7         -0.1       1.9     -0.6          83.4         0.0              0.0   \n8         -0.1       1.9     -0.6          83.4         0.0              0.0   \n9         -0.1       1.9     -0.6          83.4         0.0              0.0   \n\n   day_solarradiation  day_solarenergy  day_uvindex day_sunrise day_sunset  \\\n0                47.4              4.4          2.0    06:44:41   17:26:05   \n1                47.4              4.4          2.0    06:44:41   17:26:05   \n2                47.4              4.4          2.0    06:44:41   17:26:05   \n3                47.4              4.4          2.0    06:44:41   17:26:05   \n4                47.4              4.4          2.0    06:44:41   17:26:05   \n5                47.4              4.4          2.0    06:44:41   17:26:05   \n6                47.4              4.4          2.0    06:44:41   17:26:05   \n7                47.4              4.4          2.0    06:44:41   17:26:05   \n8                47.4              4.4          2.0    06:44:41   17:26:05   \n9                47.4              4.4          2.0    06:44:41   17:26:05   \n\n   day_moonphase hour_datetime  hour_datetimeEpoch  hour_temp  hour_humidity  \\\n0           0.77      00:00:00          1645653600        0.9          75.73   \n1           0.77      01:00:00          1645657200        0.6          77.96   \n2           0.77      02:00:00          1645660800        0.4          82.08   \n3           0.77      03:00:00          1645664400        0.2          83.28   \n4           0.77      04:00:00          1645668000        0.0          83.87   \n5           0.77      05:00:00          1645671600       -0.1          83.86   \n6           0.77      06:00:00          1645675200        0.0          83.87   \n7           0.77      07:00:00          1645678800        0.0          83.87   \n8           0.77      08:00:00          1645682400        0.1          87.68   \n9           0.77      09:00:00          1645686000        1.4          85.91   \n\n   hour_dew  hour_precip  hour_precipprob  hour_snow  hour_snowdepth  \\\n0      -2.9          0.0              0.0        0.0             0.0   \n1      -2.8          0.0              0.0        0.0             0.0   \n2      -2.3          0.0              0.0        0.0             0.0   \n3      -2.3          0.0              0.0        0.0             0.0   \n4      -2.4          0.0              0.0        0.0             0.0   \n5      -2.5          0.0              0.0        0.0             0.0   \n6      -2.4          0.0              0.0        0.0             0.0   \n7      -2.4          0.0              0.0        0.0             0.0   \n8      -1.7          0.0              0.0        0.0             0.0   \n9      -0.7          0.0              0.0        0.0             0.0   \n\n  hour_preciptype  hour_windgust  hour_windspeed  hour_winddir  hour_pressure  \\\n0             NaN            7.2             4.0         132.0         1020.0   \n1             NaN            6.5             3.6         147.9         1020.0   \n2             NaN            8.3             3.2         198.2         1020.0   \n3             NaN            5.0             2.9         202.3         1020.0   \n4             NaN            5.0             2.9         203.6         1021.0   \n5             NaN            4.3             1.8         197.5         1021.0   \n6             NaN            2.9             1.1         199.2         1022.0   \n7             NaN            2.2             1.4         221.7         1023.0   \n8             NaN            5.4             3.2         245.3         1023.0   \n9             NaN            5.0             2.5         247.0         1024.0   \n\n   hour_visibility  hour_cloudcover  hour_solarradiation  hour_solarenergy  \\\n0             24.1             89.0                  0.0               NaN   \n1             24.1             71.1                  0.0               NaN   \n2             24.1             95.4                  0.0               NaN   \n3             24.1             74.6                  0.0               NaN   \n4             24.1             67.8                  0.0               NaN   \n5             24.1             94.1                  0.0               NaN   \n6             24.1            100.0                  0.0               0.0   \n7              0.2             97.9                  0.0               0.3   \n8              0.1             90.8                179.4               0.6   \n9              0.1             73.3                 42.0               0.2   \n\n   hour_uvindex  hour_severerisk   hour_conditions     city     region  \\\n0           0.0             10.0  Partially cloudy  Черкаси  Черкаська   \n1           0.0             10.0  Partially cloudy  Черкаси  Черкаська   \n2           0.0             10.0          Overcast  Черкаси  Черкаська   \n3           0.0             10.0  Partially cloudy  Черкаси  Черкаська   \n4           0.0             10.0  Partially cloudy  Черкаси  Черкаська   \n5           0.0             10.0          Overcast  Черкаси  Черкаська   \n6           0.0             10.0          Overcast  Черкаси  Черкаська   \n7           0.0             10.0          Overcast  Черкаси  Черкаська   \n8           2.0             10.0          Overcast  Черкаси  Черкаська   \n9           0.0             10.0  Partially cloudy  Черкаси  Черкаська   \n\n  center_city_ua center_city_en region_alt  region_id event_region_title  \\\n0        Черкаси       Cherkasy  Черкащина         23                NaN   \n1        Черкаси       Cherkasy  Черкащина         23                NaN   \n2        Черкаси       Cherkasy  Черкащина         23                NaN   \n3        Черкаси       Cherkasy  Черкащина         23                NaN   \n4        Черкаси       Cherkasy  Черкащина         23                NaN   \n5        Черкаси       Cherkasy  Черкащина         23                NaN   \n6        Черкаси       Cherkasy  Черкащина         23                NaN   \n7        Черкаси       Cherkasy  Черкащина         23                NaN   \n8        Черкаси       Cherkasy  Черкащина         23                NaN   \n9        Черкаси       Cherkasy  Черкащина         23                NaN   \n\n  event_region_city  event_all_region event_start event_end event_clean_end  \\\n0               NaN               NaN         NaN       NaN             NaN   \n1               NaN               NaN         NaN       NaN             NaN   \n2               NaN               NaN         NaN       NaN             NaN   \n3               NaN               NaN         NaN       NaN             NaN   \n4               NaN               NaN         NaN       NaN             NaN   \n5               NaN               NaN         NaN       NaN             NaN   \n6               NaN               NaN         NaN       NaN             NaN   \n7               NaN               NaN         NaN       NaN             NaN   \n8               NaN               NaN         NaN       NaN             NaN   \n9               NaN               NaN         NaN       NaN             NaN   \n\n   event_intersection_alarm_id  event_alarms_past_24  \\\n0                          NaN                   NaN   \n1                          NaN                   NaN   \n2                          NaN                   NaN   \n3                          NaN                   NaN   \n4                          NaN                   NaN   \n5                          NaN                   NaN   \n6                          NaN                   NaN   \n7                          NaN                   NaN   \n8                          NaN                   NaN   \n9                          NaN                   NaN   \n\n   event_simultaneous_alarms  event_hours_from_last_alarm  \\\n0                        NaN                          NaN   \n1                        NaN                          NaN   \n2                        NaN                          NaN   \n3                        NaN                          NaN   \n4                        NaN                          NaN   \n5                        NaN                          NaN   \n6                        NaN                          NaN   \n7                        NaN                          NaN   \n8                        NaN                          NaN   \n9                        NaN                          NaN   \n\n  event_holiday_is_near event_start_time event_end_time event_start_hour  \\\n0                   NaN              NaT            NaT              NaT   \n1                   NaN              NaT            NaT              NaT   \n2                   NaN              NaT            NaT              NaT   \n3                   NaN              NaT            NaT              NaT   \n4                   NaN              NaT            NaT              NaT   \n5                   NaN              NaT            NaT              NaT   \n6                   NaN              NaT            NaT              NaT   \n7                   NaN              NaT            NaT              NaT   \n8                   NaN              NaT            NaT              NaT   \n9                   NaN              NaT            NaT              NaT   \n\n  event_end_hour event_day_date  event_start_hour_datetimeEpoch  \\\n0            NaT            NaN                             NaN   \n1            NaT            NaN                             NaN   \n2            NaT            NaN                             NaN   \n3            NaT            NaN                             NaN   \n4            NaT            NaN                             NaN   \n5            NaT            NaN                             NaN   \n6            NaT            NaN                             NaN   \n7            NaT            NaN                             NaN   \n8            NaT            NaN                             NaN   \n9            NaT            NaN                             NaN   \n\n   event_end_hour_datetimeEpoch event_hour_level_event_time  \\\n0                           NaN                         NaT   \n1                           NaN                         NaT   \n2                           NaN                         NaT   \n3                           NaN                         NaT   \n4                           NaN                         NaT   \n5                           NaN                         NaT   \n6                           NaN                         NaT   \n7                           NaN                         NaT   \n8                           NaN                         NaT   \n9                           NaN                         NaT   \n\n   event_hour_level_event_datetimeEpoch  \n0                                   NaN  \n1                                   NaN  \n2                                   NaN  \n3                                   NaN  \n4                                   NaN  \n5                                   NaN  \n6                                   NaN  \n7                                   NaN  \n8                                   NaN  \n9                                   NaN  ",
      "text/html": "<div>\n<style scoped>\n    .dataframe tbody tr th:only-of-type {\n        vertical-align: middle;\n    }\n\n    .dataframe tbody tr th {\n        vertical-align: top;\n    }\n\n    .dataframe thead th {\n        text-align: right;\n    }\n</style>\n<table border=\"1\" class=\"dataframe\">\n  <thead>\n    <tr style=\"text-align: right;\">\n      <th></th>\n      <th>city_resolvedAddress</th>\n      <th>day_datetime</th>\n      <th>day_datetimeEpoch</th>\n      <th>day_tempmax</th>\n      <th>day_tempmin</th>\n      <th>day_temp</th>\n      <th>day_dew</th>\n      <th>day_humidity</th>\n      <th>day_precip</th>\n      <th>day_precipcover</th>\n      <th>day_solarradiation</th>\n      <th>day_solarenergy</th>\n      <th>day_uvindex</th>\n      <th>day_sunrise</th>\n      <th>day_sunset</th>\n      <th>day_moonphase</th>\n      <th>hour_datetime</th>\n      <th>hour_datetimeEpoch</th>\n      <th>hour_temp</th>\n      <th>hour_humidity</th>\n      <th>hour_dew</th>\n      <th>hour_precip</th>\n      <th>hour_precipprob</th>\n      <th>hour_snow</th>\n      <th>hour_snowdepth</th>\n      <th>hour_preciptype</th>\n      <th>hour_windgust</th>\n      <th>hour_windspeed</th>\n      <th>hour_winddir</th>\n      <th>hour_pressure</th>\n      <th>hour_visibility</th>\n      <th>hour_cloudcover</th>\n      <th>hour_solarradiation</th>\n      <th>hour_solarenergy</th>\n      <th>hour_uvindex</th>\n      <th>hour_severerisk</th>\n      <th>hour_conditions</th>\n      <th>city</th>\n      <th>region</th>\n      <th>center_city_ua</th>\n      <th>center_city_en</th>\n      <th>region_alt</th>\n      <th>region_id</th>\n      <th>event_region_title</th>\n      <th>event_region_city</th>\n      <th>event_all_region</th>\n      <th>event_start</th>\n      <th>event_end</th>\n      <th>event_clean_end</th>\n      <th>event_intersection_alarm_id</th>\n      <th>event_alarms_past_24</th>\n      <th>event_simultaneous_alarms</th>\n      <th>event_hours_from_last_alarm</th>\n      <th>event_holiday_is_near</th>\n      <th>event_start_time</th>\n      <th>event_end_time</th>\n      <th>event_start_hour</th>\n      <th>event_end_hour</th>\n      <th>event_day_date</th>\n      <th>event_start_hour_datetimeEpoch</th>\n      <th>event_end_hour_datetimeEpoch</th>\n      <th>event_hour_level_event_time</th>\n      <th>event_hour_level_event_datetimeEpoch</th>\n    </tr>\n  </thead>\n  <tbody>\n    <tr>\n      <th>0</th>\n      <td>Черкаси, Україна</td>\n      <td>2022-02-24</td>\n      <td>1645653600</td>\n      <td>4.9</td>\n      <td>-0.1</td>\n      <td>1.9</td>\n      <td>-0.6</td>\n      <td>83.4</td>\n      <td>0.0</td>\n      <td>0.0</td>\n      <td>47.4</td>\n      <td>4.4</td>\n      <td>2.0</td>\n      <td>06:44:41</td>\n      <td>17:26:05</td>\n      <td>0.77</td>\n      <td>00:00:00</td>\n      <td>1645653600</td>\n      <td>0.9</td>\n      <td>75.73</td>\n      <td>-2.9</td>\n      <td>0.0</td>\n      <td>0.0</td>\n      <td>0.0</td>\n      <td>0.0</td>\n      <td>NaN</td>\n      <td>7.2</td>\n      <td>4.0</td>\n      <td>132.0</td>\n      <td>1020.0</td>\n      <td>24.1</td>\n      <td>89.0</td>\n      <td>0.0</td>\n      <td>NaN</td>\n      <td>0.0</td>\n      <td>10.0</td>\n      <td>Partially cloudy</td>\n      <td>Черкаси</td>\n      <td>Черкаська</td>\n      <td>Черкаси</td>\n      <td>Cherkasy</td>\n      <td>Черкащина</td>\n      <td>23</td>\n      <td>NaN</td>\n      <td>NaN</td>\n      <td>NaN</td>\n      <td>NaN</td>\n      <td>NaN</td>\n      <td>NaN</td>\n      <td>NaN</td>\n      <td>NaN</td>\n      <td>NaN</td>\n      <td>NaN</td>\n      <td>NaN</td>\n      <td>NaT</td>\n      <td>NaT</td>\n      <td>NaT</td>\n      <td>NaT</td>\n      <td>NaN</td>\n      <td>NaN</td>\n      <td>NaN</td>\n      <td>NaT</td>\n      <td>NaN</td>\n    </tr>\n    <tr>\n      <th>1</th>\n      <td>Черкаси, Україна</td>\n      <td>2022-02-24</td>\n      <td>1645653600</td>\n      <td>4.9</td>\n      <td>-0.1</td>\n      <td>1.9</td>\n      <td>-0.6</td>\n      <td>83.4</td>\n      <td>0.0</td>\n      <td>0.0</td>\n      <td>47.4</td>\n      <td>4.4</td>\n      <td>2.0</td>\n      <td>06:44:41</td>\n      <td>17:26:05</td>\n      <td>0.77</td>\n      <td>01:00:00</td>\n      <td>1645657200</td>\n      <td>0.6</td>\n      <td>77.96</td>\n      <td>-2.8</td>\n      <td>0.0</td>\n      <td>0.0</td>\n      <td>0.0</td>\n      <td>0.0</td>\n      <td>NaN</td>\n      <td>6.5</td>\n      <td>3.6</td>\n      <td>147.9</td>\n      <td>1020.0</td>\n      <td>24.1</td>\n      <td>71.1</td>\n      <td>0.0</td>\n      <td>NaN</td>\n      <td>0.0</td>\n      <td>10.0</td>\n      <td>Partially cloudy</td>\n      <td>Черкаси</td>\n      <td>Черкаська</td>\n      <td>Черкаси</td>\n      <td>Cherkasy</td>\n      <td>Черкащина</td>\n      <td>23</td>\n      <td>NaN</td>\n      <td>NaN</td>\n      <td>NaN</td>\n      <td>NaN</td>\n      <td>NaN</td>\n      <td>NaN</td>\n      <td>NaN</td>\n      <td>NaN</td>\n      <td>NaN</td>\n      <td>NaN</td>\n      <td>NaN</td>\n      <td>NaT</td>\n      <td>NaT</td>\n      <td>NaT</td>\n      <td>NaT</td>\n      <td>NaN</td>\n      <td>NaN</td>\n      <td>NaN</td>\n      <td>NaT</td>\n      <td>NaN</td>\n    </tr>\n    <tr>\n      <th>2</th>\n      <td>Черкаси, Україна</td>\n      <td>2022-02-24</td>\n      <td>1645653600</td>\n      <td>4.9</td>\n      <td>-0.1</td>\n      <td>1.9</td>\n      <td>-0.6</td>\n      <td>83.4</td>\n      <td>0.0</td>\n      <td>0.0</td>\n      <td>47.4</td>\n      <td>4.4</td>\n      <td>2.0</td>\n      <td>06:44:41</td>\n      <td>17:26:05</td>\n      <td>0.77</td>\n      <td>02:00:00</td>\n      <td>1645660800</td>\n      <td>0.4</td>\n      <td>82.08</td>\n      <td>-2.3</td>\n      <td>0.0</td>\n      <td>0.0</td>\n      <td>0.0</td>\n      <td>0.0</td>\n      <td>NaN</td>\n      <td>8.3</td>\n      <td>3.2</td>\n      <td>198.2</td>\n      <td>1020.0</td>\n      <td>24.1</td>\n      <td>95.4</td>\n      <td>0.0</td>\n      <td>NaN</td>\n      <td>0.0</td>\n      <td>10.0</td>\n      <td>Overcast</td>\n      <td>Черкаси</td>\n      <td>Черкаська</td>\n      <td>Черкаси</td>\n      <td>Cherkasy</td>\n      <td>Черкащина</td>\n      <td>23</td>\n      <td>NaN</td>\n      <td>NaN</td>\n      <td>NaN</td>\n      <td>NaN</td>\n      <td>NaN</td>\n      <td>NaN</td>\n      <td>NaN</td>\n      <td>NaN</td>\n      <td>NaN</td>\n      <td>NaN</td>\n      <td>NaN</td>\n      <td>NaT</td>\n      <td>NaT</td>\n      <td>NaT</td>\n      <td>NaT</td>\n      <td>NaN</td>\n      <td>NaN</td>\n      <td>NaN</td>\n      <td>NaT</td>\n      <td>NaN</td>\n    </tr>\n    <tr>\n      <th>3</th>\n      <td>Черкаси, Україна</td>\n      <td>2022-02-24</td>\n      <td>1645653600</td>\n      <td>4.9</td>\n      <td>-0.1</td>\n      <td>1.9</td>\n      <td>-0.6</td>\n      <td>83.4</td>\n      <td>0.0</td>\n      <td>0.0</td>\n      <td>47.4</td>\n      <td>4.4</td>\n      <td>2.0</td>\n      <td>06:44:41</td>\n      <td>17:26:05</td>\n      <td>0.77</td>\n      <td>03:00:00</td>\n      <td>1645664400</td>\n      <td>0.2</td>\n      <td>83.28</td>\n      <td>-2.3</td>\n      <td>0.0</td>\n      <td>0.0</td>\n      <td>0.0</td>\n      <td>0.0</td>\n      <td>NaN</td>\n      <td>5.0</td>\n      <td>2.9</td>\n      <td>202.3</td>\n      <td>1020.0</td>\n      <td>24.1</td>\n      <td>74.6</td>\n      <td>0.0</td>\n      <td>NaN</td>\n      <td>0.0</td>\n      <td>10.0</td>\n      <td>Partially cloudy</td>\n      <td>Черкаси</td>\n      <td>Черкаська</td>\n      <td>Черкаси</td>\n      <td>Cherkasy</td>\n      <td>Черкащина</td>\n      <td>23</td>\n      <td>NaN</td>\n      <td>NaN</td>\n      <td>NaN</td>\n      <td>NaN</td>\n      <td>NaN</td>\n      <td>NaN</td>\n      <td>NaN</td>\n      <td>NaN</td>\n      <td>NaN</td>\n      <td>NaN</td>\n      <td>NaN</td>\n      <td>NaT</td>\n      <td>NaT</td>\n      <td>NaT</td>\n      <td>NaT</td>\n      <td>NaN</td>\n      <td>NaN</td>\n      <td>NaN</td>\n      <td>NaT</td>\n      <td>NaN</td>\n    </tr>\n    <tr>\n      <th>4</th>\n      <td>Черкаси, Україна</td>\n      <td>2022-02-24</td>\n      <td>1645653600</td>\n      <td>4.9</td>\n      <td>-0.1</td>\n      <td>1.9</td>\n      <td>-0.6</td>\n      <td>83.4</td>\n      <td>0.0</td>\n      <td>0.0</td>\n      <td>47.4</td>\n      <td>4.4</td>\n      <td>2.0</td>\n      <td>06:44:41</td>\n      <td>17:26:05</td>\n      <td>0.77</td>\n      <td>04:00:00</td>\n      <td>1645668000</td>\n      <td>0.0</td>\n      <td>83.87</td>\n      <td>-2.4</td>\n      <td>0.0</td>\n      <td>0.0</td>\n      <td>0.0</td>\n      <td>0.0</td>\n      <td>NaN</td>\n      <td>5.0</td>\n      <td>2.9</td>\n      <td>203.6</td>\n      <td>1021.0</td>\n      <td>24.1</td>\n      <td>67.8</td>\n      <td>0.0</td>\n      <td>NaN</td>\n      <td>0.0</td>\n      <td>10.0</td>\n      <td>Partially cloudy</td>\n      <td>Черкаси</td>\n      <td>Черкаська</td>\n      <td>Черкаси</td>\n      <td>Cherkasy</td>\n      <td>Черкащина</td>\n      <td>23</td>\n      <td>NaN</td>\n      <td>NaN</td>\n      <td>NaN</td>\n      <td>NaN</td>\n      <td>NaN</td>\n      <td>NaN</td>\n      <td>NaN</td>\n      <td>NaN</td>\n      <td>NaN</td>\n      <td>NaN</td>\n      <td>NaN</td>\n      <td>NaT</td>\n      <td>NaT</td>\n      <td>NaT</td>\n      <td>NaT</td>\n      <td>NaN</td>\n      <td>NaN</td>\n      <td>NaN</td>\n      <td>NaT</td>\n      <td>NaN</td>\n    </tr>\n    <tr>\n      <th>5</th>\n      <td>Черкаси, Україна</td>\n      <td>2022-02-24</td>\n      <td>1645653600</td>\n      <td>4.9</td>\n      <td>-0.1</td>\n      <td>1.9</td>\n      <td>-0.6</td>\n      <td>83.4</td>\n      <td>0.0</td>\n      <td>0.0</td>\n      <td>47.4</td>\n      <td>4.4</td>\n      <td>2.0</td>\n      <td>06:44:41</td>\n      <td>17:26:05</td>\n      <td>0.77</td>\n      <td>05:00:00</td>\n      <td>1645671600</td>\n      <td>-0.1</td>\n      <td>83.86</td>\n      <td>-2.5</td>\n      <td>0.0</td>\n      <td>0.0</td>\n      <td>0.0</td>\n      <td>0.0</td>\n      <td>NaN</td>\n      <td>4.3</td>\n      <td>1.8</td>\n      <td>197.5</td>\n      <td>1021.0</td>\n      <td>24.1</td>\n      <td>94.1</td>\n      <td>0.0</td>\n      <td>NaN</td>\n      <td>0.0</td>\n      <td>10.0</td>\n      <td>Overcast</td>\n      <td>Черкаси</td>\n      <td>Черкаська</td>\n      <td>Черкаси</td>\n      <td>Cherkasy</td>\n      <td>Черкащина</td>\n      <td>23</td>\n      <td>NaN</td>\n      <td>NaN</td>\n      <td>NaN</td>\n      <td>NaN</td>\n      <td>NaN</td>\n      <td>NaN</td>\n      <td>NaN</td>\n      <td>NaN</td>\n      <td>NaN</td>\n      <td>NaN</td>\n      <td>NaN</td>\n      <td>NaT</td>\n      <td>NaT</td>\n      <td>NaT</td>\n      <td>NaT</td>\n      <td>NaN</td>\n      <td>NaN</td>\n      <td>NaN</td>\n      <td>NaT</td>\n      <td>NaN</td>\n    </tr>\n    <tr>\n      <th>6</th>\n      <td>Черкаси, Україна</td>\n      <td>2022-02-24</td>\n      <td>1645653600</td>\n      <td>4.9</td>\n      <td>-0.1</td>\n      <td>1.9</td>\n      <td>-0.6</td>\n      <td>83.4</td>\n      <td>0.0</td>\n      <td>0.0</td>\n      <td>47.4</td>\n      <td>4.4</td>\n      <td>2.0</td>\n      <td>06:44:41</td>\n      <td>17:26:05</td>\n      <td>0.77</td>\n      <td>06:00:00</td>\n      <td>1645675200</td>\n      <td>0.0</td>\n      <td>83.87</td>\n      <td>-2.4</td>\n      <td>0.0</td>\n      <td>0.0</td>\n      <td>0.0</td>\n      <td>0.0</td>\n      <td>NaN</td>\n      <td>2.9</td>\n      <td>1.1</td>\n      <td>199.2</td>\n      <td>1022.0</td>\n      <td>24.1</td>\n      <td>100.0</td>\n      <td>0.0</td>\n      <td>0.0</td>\n      <td>0.0</td>\n      <td>10.0</td>\n      <td>Overcast</td>\n      <td>Черкаси</td>\n      <td>Черкаська</td>\n      <td>Черкаси</td>\n      <td>Cherkasy</td>\n      <td>Черкащина</td>\n      <td>23</td>\n      <td>NaN</td>\n      <td>NaN</td>\n      <td>NaN</td>\n      <td>NaN</td>\n      <td>NaN</td>\n      <td>NaN</td>\n      <td>NaN</td>\n      <td>NaN</td>\n      <td>NaN</td>\n      <td>NaN</td>\n      <td>NaN</td>\n      <td>NaT</td>\n      <td>NaT</td>\n      <td>NaT</td>\n      <td>NaT</td>\n      <td>NaN</td>\n      <td>NaN</td>\n      <td>NaN</td>\n      <td>NaT</td>\n      <td>NaN</td>\n    </tr>\n    <tr>\n      <th>7</th>\n      <td>Черкаси, Україна</td>\n      <td>2022-02-24</td>\n      <td>1645653600</td>\n      <td>4.9</td>\n      <td>-0.1</td>\n      <td>1.9</td>\n      <td>-0.6</td>\n      <td>83.4</td>\n      <td>0.0</td>\n      <td>0.0</td>\n      <td>47.4</td>\n      <td>4.4</td>\n      <td>2.0</td>\n      <td>06:44:41</td>\n      <td>17:26:05</td>\n      <td>0.77</td>\n      <td>07:00:00</td>\n      <td>1645678800</td>\n      <td>0.0</td>\n      <td>83.87</td>\n      <td>-2.4</td>\n      <td>0.0</td>\n      <td>0.0</td>\n      <td>0.0</td>\n      <td>0.0</td>\n      <td>NaN</td>\n      <td>2.2</td>\n      <td>1.4</td>\n      <td>221.7</td>\n      <td>1023.0</td>\n      <td>0.2</td>\n      <td>97.9</td>\n      <td>0.0</td>\n      <td>0.3</td>\n      <td>0.0</td>\n      <td>10.0</td>\n      <td>Overcast</td>\n      <td>Черкаси</td>\n      <td>Черкаська</td>\n      <td>Черкаси</td>\n      <td>Cherkasy</td>\n      <td>Черкащина</td>\n      <td>23</td>\n      <td>NaN</td>\n      <td>NaN</td>\n      <td>NaN</td>\n      <td>NaN</td>\n      <td>NaN</td>\n      <td>NaN</td>\n      <td>NaN</td>\n      <td>NaN</td>\n      <td>NaN</td>\n      <td>NaN</td>\n      <td>NaN</td>\n      <td>NaT</td>\n      <td>NaT</td>\n      <td>NaT</td>\n      <td>NaT</td>\n      <td>NaN</td>\n      <td>NaN</td>\n      <td>NaN</td>\n      <td>NaT</td>\n      <td>NaN</td>\n    </tr>\n    <tr>\n      <th>8</th>\n      <td>Черкаси, Україна</td>\n      <td>2022-02-24</td>\n      <td>1645653600</td>\n      <td>4.9</td>\n      <td>-0.1</td>\n      <td>1.9</td>\n      <td>-0.6</td>\n      <td>83.4</td>\n      <td>0.0</td>\n      <td>0.0</td>\n      <td>47.4</td>\n      <td>4.4</td>\n      <td>2.0</td>\n      <td>06:44:41</td>\n      <td>17:26:05</td>\n      <td>0.77</td>\n      <td>08:00:00</td>\n      <td>1645682400</td>\n      <td>0.1</td>\n      <td>87.68</td>\n      <td>-1.7</td>\n      <td>0.0</td>\n      <td>0.0</td>\n      <td>0.0</td>\n      <td>0.0</td>\n      <td>NaN</td>\n      <td>5.4</td>\n      <td>3.2</td>\n      <td>245.3</td>\n      <td>1023.0</td>\n      <td>0.1</td>\n      <td>90.8</td>\n      <td>179.4</td>\n      <td>0.6</td>\n      <td>2.0</td>\n      <td>10.0</td>\n      <td>Overcast</td>\n      <td>Черкаси</td>\n      <td>Черкаська</td>\n      <td>Черкаси</td>\n      <td>Cherkasy</td>\n      <td>Черкащина</td>\n      <td>23</td>\n      <td>NaN</td>\n      <td>NaN</td>\n      <td>NaN</td>\n      <td>NaN</td>\n      <td>NaN</td>\n      <td>NaN</td>\n      <td>NaN</td>\n      <td>NaN</td>\n      <td>NaN</td>\n      <td>NaN</td>\n      <td>NaN</td>\n      <td>NaT</td>\n      <td>NaT</td>\n      <td>NaT</td>\n      <td>NaT</td>\n      <td>NaN</td>\n      <td>NaN</td>\n      <td>NaN</td>\n      <td>NaT</td>\n      <td>NaN</td>\n    </tr>\n    <tr>\n      <th>9</th>\n      <td>Черкаси, Україна</td>\n      <td>2022-02-24</td>\n      <td>1645653600</td>\n      <td>4.9</td>\n      <td>-0.1</td>\n      <td>1.9</td>\n      <td>-0.6</td>\n      <td>83.4</td>\n      <td>0.0</td>\n      <td>0.0</td>\n      <td>47.4</td>\n      <td>4.4</td>\n      <td>2.0</td>\n      <td>06:44:41</td>\n      <td>17:26:05</td>\n      <td>0.77</td>\n      <td>09:00:00</td>\n      <td>1645686000</td>\n      <td>1.4</td>\n      <td>85.91</td>\n      <td>-0.7</td>\n      <td>0.0</td>\n      <td>0.0</td>\n      <td>0.0</td>\n      <td>0.0</td>\n      <td>NaN</td>\n      <td>5.0</td>\n      <td>2.5</td>\n      <td>247.0</td>\n      <td>1024.0</td>\n      <td>0.1</td>\n      <td>73.3</td>\n      <td>42.0</td>\n      <td>0.2</td>\n      <td>0.0</td>\n      <td>10.0</td>\n      <td>Partially cloudy</td>\n      <td>Черкаси</td>\n      <td>Черкаська</td>\n      <td>Черкаси</td>\n      <td>Cherkasy</td>\n      <td>Черкащина</td>\n      <td>23</td>\n      <td>NaN</td>\n      <td>NaN</td>\n      <td>NaN</td>\n      <td>NaN</td>\n      <td>NaN</td>\n      <td>NaN</td>\n      <td>NaN</td>\n      <td>NaN</td>\n      <td>NaN</td>\n      <td>NaN</td>\n      <td>NaN</td>\n      <td>NaT</td>\n      <td>NaT</td>\n      <td>NaT</td>\n      <td>NaT</td>\n      <td>NaN</td>\n      <td>NaN</td>\n      <td>NaN</td>\n      <td>NaT</td>\n      <td>NaN</td>\n    </tr>\n  </tbody>\n</table>\n</div>"
     },
     "execution_count": 61,
     "metadata": {},
     "output_type": "execute_result"
    }
   ],
   "source": [
    "df_weather_v4.head(10)"
   ]
  },
  {
   "cell_type": "code",
   "execution_count": 62,
   "id": "87a10851",
   "metadata": {},
   "outputs": [
    {
     "data": {
      "text/plain": "(203414, 63)"
     },
     "execution_count": 62,
     "metadata": {},
     "output_type": "execute_result"
    }
   ],
   "source": [
    "df_weather_v4.shape"
   ]
  },
  {
   "cell_type": "code",
   "execution_count": 63,
   "id": "f1a432d4",
   "metadata": {},
   "outputs": [],
   "source": [
    "df_weather_v4.to_csv(f\"{OUTPUT_FOLDER}/{WEATHER_EVENTS_OUTPUT_DATA_FILE}\", sep=\";\", index=False)"
   ]
  },
  {
   "cell_type": "code",
   "execution_count": 63,
   "id": "339d3385",
   "metadata": {},
   "outputs": [],
   "source": []
  }
 ],
 "metadata": {
  "kernelspec": {
   "display_name": "Python 3 (ipykernel)",
   "language": "python",
   "name": "python3"
  },
  "language_info": {
   "codemirror_mode": {
    "name": "ipython",
    "version": 3
   },
   "file_extension": ".py",
   "mimetype": "text/x-python",
   "name": "python",
   "nbconvert_exporter": "python",
   "pygments_lexer": "ipython3",
   "version": "3.8.13"
  }
 },
 "nbformat": 4,
 "nbformat_minor": 5
}