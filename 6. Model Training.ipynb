{
 "cells": [
  {
   "cell_type": "code",
   "execution_count": 38,
   "id": "706b7df0",
   "metadata": {},
   "outputs": [],
   "source": [
    "import pandas as pd\n",
    "import numpy as np\n",
    "import statsmodels.api as sm\n",
    "\n",
    "from sklearn.model_selection import TimeSeriesSplit"
   ]
  },
  {
   "cell_type": "code",
   "execution_count": 34,
   "id": "cbe48eaf",
   "metadata": {},
   "outputs": [],
   "source": [
    "df_weather_events = pd.read_csv(f\"data/4_all_data_preprocessed/all_hourly_weather_events_v2.csv\", sep=\";\", parse_dates=['day_datetime'])\n",
    "df_isw = pd.read_csv(f\"data/4_all_data_preprocessed/all_isw.csv\", sep=\";\")"
   ]
  },
  {
   "cell_type": "code",
   "execution_count": 35,
   "id": "fde01b2c",
   "metadata": {},
   "outputs": [],
   "source": [
    "# Sort data by date\n",
    "df_weather_events = df_weather_events.sort_values(by='day_datetime')"
   ]
  },
  {
   "cell_type": "code",
   "execution_count": 36,
   "id": "e5cb3f72",
   "metadata": {},
   "outputs": [
    {
     "data": {
      "text/html": [
       "<div>\n",
       "<style scoped>\n",
       "    .dataframe tbody tr th:only-of-type {\n",
       "        vertical-align: middle;\n",
       "    }\n",
       "\n",
       "    .dataframe tbody tr th {\n",
       "        vertical-align: top;\n",
       "    }\n",
       "\n",
       "    .dataframe thead th {\n",
       "        text-align: right;\n",
       "    }\n",
       "</style>\n",
       "<table border=\"1\" class=\"dataframe\">\n",
       "  <thead>\n",
       "    <tr style=\"text-align: right;\">\n",
       "      <th></th>\n",
       "      <th>city_resolvedAddress</th>\n",
       "      <th>day_datetime</th>\n",
       "      <th>day_datetimeEpoch</th>\n",
       "      <th>day_tempmax</th>\n",
       "      <th>day_tempmin</th>\n",
       "      <th>day_temp</th>\n",
       "      <th>day_dew</th>\n",
       "      <th>day_humidity</th>\n",
       "      <th>day_precip</th>\n",
       "      <th>day_precipcover</th>\n",
       "      <th>...</th>\n",
       "      <th>event_holiday_is_near</th>\n",
       "      <th>event_start_time</th>\n",
       "      <th>event_end_time</th>\n",
       "      <th>event_start_hour</th>\n",
       "      <th>event_end_hour</th>\n",
       "      <th>event_day_date</th>\n",
       "      <th>event_start_hour_datetimeEpoch</th>\n",
       "      <th>event_end_hour_datetimeEpoch</th>\n",
       "      <th>event_hour_level_event_time</th>\n",
       "      <th>event_hour_level_event_datetimeEpoch</th>\n",
       "    </tr>\n",
       "  </thead>\n",
       "  <tbody>\n",
       "    <tr>\n",
       "      <th>0</th>\n",
       "      <td>Луцьк, Луцький район, Україна</td>\n",
       "      <td>2022-02-24</td>\n",
       "      <td>1645653600</td>\n",
       "      <td>4.9</td>\n",
       "      <td>0.7</td>\n",
       "      <td>2.6</td>\n",
       "      <td>0.0</td>\n",
       "      <td>83.7</td>\n",
       "      <td>0.118</td>\n",
       "      <td>4.17</td>\n",
       "      <td>...</td>\n",
       "      <td>NaN</td>\n",
       "      <td>NaN</td>\n",
       "      <td>NaN</td>\n",
       "      <td>NaN</td>\n",
       "      <td>NaN</td>\n",
       "      <td>NaN</td>\n",
       "      <td>NaN</td>\n",
       "      <td>NaN</td>\n",
       "      <td>NaN</td>\n",
       "      <td>NaN</td>\n",
       "    </tr>\n",
       "    <tr>\n",
       "      <th>137871</th>\n",
       "      <td>Тернопіль, Україна</td>\n",
       "      <td>2022-02-24</td>\n",
       "      <td>1645653600</td>\n",
       "      <td>3.8</td>\n",
       "      <td>-0.2</td>\n",
       "      <td>1.6</td>\n",
       "      <td>-1.0</td>\n",
       "      <td>83.8</td>\n",
       "      <td>2.000</td>\n",
       "      <td>4.17</td>\n",
       "      <td>...</td>\n",
       "      <td>NaN</td>\n",
       "      <td>NaN</td>\n",
       "      <td>NaN</td>\n",
       "      <td>NaN</td>\n",
       "      <td>NaN</td>\n",
       "      <td>NaN</td>\n",
       "      <td>NaN</td>\n",
       "      <td>NaN</td>\n",
       "      <td>NaN</td>\n",
       "      <td>NaN</td>\n",
       "    </tr>\n",
       "    <tr>\n",
       "      <th>8050</th>\n",
       "      <td>Кропивницький, Україна</td>\n",
       "      <td>2022-02-24</td>\n",
       "      <td>1645653600</td>\n",
       "      <td>6.2</td>\n",
       "      <td>-1.3</td>\n",
       "      <td>2.2</td>\n",
       "      <td>-1.2</td>\n",
       "      <td>78.9</td>\n",
       "      <td>0.000</td>\n",
       "      <td>0.00</td>\n",
       "      <td>...</td>\n",
       "      <td>NaN</td>\n",
       "      <td>NaN</td>\n",
       "      <td>NaN</td>\n",
       "      <td>NaN</td>\n",
       "      <td>NaN</td>\n",
       "      <td>NaN</td>\n",
       "      <td>NaN</td>\n",
       "      <td>NaN</td>\n",
       "      <td>NaN</td>\n",
       "      <td>NaN</td>\n",
       "    </tr>\n",
       "    <tr>\n",
       "      <th>8051</th>\n",
       "      <td>Кропивницький, Україна</td>\n",
       "      <td>2022-02-24</td>\n",
       "      <td>1645653600</td>\n",
       "      <td>6.2</td>\n",
       "      <td>-1.3</td>\n",
       "      <td>2.2</td>\n",
       "      <td>-1.2</td>\n",
       "      <td>78.9</td>\n",
       "      <td>0.000</td>\n",
       "      <td>0.00</td>\n",
       "      <td>...</td>\n",
       "      <td>NaN</td>\n",
       "      <td>NaN</td>\n",
       "      <td>NaN</td>\n",
       "      <td>NaN</td>\n",
       "      <td>NaN</td>\n",
       "      <td>NaN</td>\n",
       "      <td>NaN</td>\n",
       "      <td>NaN</td>\n",
       "      <td>NaN</td>\n",
       "      <td>NaN</td>\n",
       "    </tr>\n",
       "    <tr>\n",
       "      <th>8052</th>\n",
       "      <td>Кропивницький, Україна</td>\n",
       "      <td>2022-02-24</td>\n",
       "      <td>1645653600</td>\n",
       "      <td>6.2</td>\n",
       "      <td>-1.3</td>\n",
       "      <td>2.2</td>\n",
       "      <td>-1.2</td>\n",
       "      <td>78.9</td>\n",
       "      <td>0.000</td>\n",
       "      <td>0.00</td>\n",
       "      <td>...</td>\n",
       "      <td>NaN</td>\n",
       "      <td>NaN</td>\n",
       "      <td>NaN</td>\n",
       "      <td>NaN</td>\n",
       "      <td>NaN</td>\n",
       "      <td>NaN</td>\n",
       "      <td>NaN</td>\n",
       "      <td>NaN</td>\n",
       "      <td>NaN</td>\n",
       "      <td>NaN</td>\n",
       "    </tr>\n",
       "  </tbody>\n",
       "</table>\n",
       "<p>5 rows × 63 columns</p>\n",
       "</div>"
      ],
      "text/plain": [
       "                 city_resolvedAddress day_datetime  day_datetimeEpoch  \\\n",
       "0       Луцьк, Луцький район, Україна   2022-02-24         1645653600   \n",
       "137871             Тернопіль, Україна   2022-02-24         1645653600   \n",
       "8050           Кропивницький, Україна   2022-02-24         1645653600   \n",
       "8051           Кропивницький, Україна   2022-02-24         1645653600   \n",
       "8052           Кропивницький, Україна   2022-02-24         1645653600   \n",
       "\n",
       "        day_tempmax  day_tempmin  day_temp  day_dew  day_humidity  day_precip  \\\n",
       "0               4.9          0.7       2.6      0.0          83.7       0.118   \n",
       "137871          3.8         -0.2       1.6     -1.0          83.8       2.000   \n",
       "8050            6.2         -1.3       2.2     -1.2          78.9       0.000   \n",
       "8051            6.2         -1.3       2.2     -1.2          78.9       0.000   \n",
       "8052            6.2         -1.3       2.2     -1.2          78.9       0.000   \n",
       "\n",
       "        day_precipcover  ...  event_holiday_is_near  event_start_time  \\\n",
       "0                  4.17  ...                    NaN               NaN   \n",
       "137871             4.17  ...                    NaN               NaN   \n",
       "8050               0.00  ...                    NaN               NaN   \n",
       "8051               0.00  ...                    NaN               NaN   \n",
       "8052               0.00  ...                    NaN               NaN   \n",
       "\n",
       "        event_end_time event_start_hour event_end_hour  event_day_date  \\\n",
       "0                  NaN              NaN            NaN             NaN   \n",
       "137871             NaN              NaN            NaN             NaN   \n",
       "8050               NaN              NaN            NaN             NaN   \n",
       "8051               NaN              NaN            NaN             NaN   \n",
       "8052               NaN              NaN            NaN             NaN   \n",
       "\n",
       "       event_start_hour_datetimeEpoch  event_end_hour_datetimeEpoch  \\\n",
       "0                                 NaN                           NaN   \n",
       "137871                            NaN                           NaN   \n",
       "8050                              NaN                           NaN   \n",
       "8051                              NaN                           NaN   \n",
       "8052                              NaN                           NaN   \n",
       "\n",
       "        event_hour_level_event_time  event_hour_level_event_datetimeEpoch  \n",
       "0                               NaN                                   NaN  \n",
       "137871                          NaN                                   NaN  \n",
       "8050                            NaN                                   NaN  \n",
       "8051                            NaN                                   NaN  \n",
       "8052                            NaN                                   NaN  \n",
       "\n",
       "[5 rows x 63 columns]"
      ]
     },
     "execution_count": 36,
     "metadata": {},
     "output_type": "execute_result"
    }
   ],
   "source": [
    "df_weather_events.head()"
   ]
  },
  {
   "cell_type": "code",
   "execution_count": 37,
   "id": "0f83a322",
   "metadata": {},
   "outputs": [
    {
     "name": "stdout",
     "output_type": "stream",
     "text": [
      "<class 'pandas.core.frame.DataFrame'>\n",
      "Int64Index: 195084 entries, 0 to 195083\n",
      "Data columns (total 63 columns):\n",
      " #   Column                                Non-Null Count   Dtype         \n",
      "---  ------                                --------------   -----         \n",
      " 0   city_resolvedAddress                  195084 non-null  object        \n",
      " 1   day_datetime                          195084 non-null  datetime64[ns]\n",
      " 2   day_datetimeEpoch                     195084 non-null  int64         \n",
      " 3   day_tempmax                           195084 non-null  float64       \n",
      " 4   day_tempmin                           195084 non-null  float64       \n",
      " 5   day_temp                              195084 non-null  float64       \n",
      " 6   day_dew                               195084 non-null  float64       \n",
      " 7   day_humidity                          195084 non-null  float64       \n",
      " 8   day_precip                            195084 non-null  float64       \n",
      " 9   day_precipcover                       195084 non-null  float64       \n",
      " 10  day_solarradiation                    195084 non-null  float64       \n",
      " 11  day_solarenergy                       195084 non-null  float64       \n",
      " 12  day_uvindex                           195084 non-null  float64       \n",
      " 13  day_sunrise                           195084 non-null  object        \n",
      " 14  day_sunset                            195084 non-null  object        \n",
      " 15  day_moonphase                         195084 non-null  float64       \n",
      " 16  hour_datetime                         195084 non-null  object        \n",
      " 17  hour_datetimeEpoch                    195084 non-null  int64         \n",
      " 18  hour_temp                             195084 non-null  float64       \n",
      " 19  hour_humidity                         195084 non-null  float64       \n",
      " 20  hour_dew                              195084 non-null  float64       \n",
      " 21  hour_precip                           194977 non-null  float64       \n",
      " 22  hour_precipprob                       195084 non-null  float64       \n",
      " 23  hour_snow                             195084 non-null  float64       \n",
      " 24  hour_snowdepth                        195084 non-null  float64       \n",
      " 25  hour_preciptype                       31851 non-null   object        \n",
      " 26  hour_windgust                         195084 non-null  float64       \n",
      " 27  hour_windspeed                        195084 non-null  float64       \n",
      " 28  hour_winddir                          195084 non-null  float64       \n",
      " 29  hour_pressure                         195084 non-null  float64       \n",
      " 30  hour_visibility                       195084 non-null  float64       \n",
      " 31  hour_cloudcover                       195084 non-null  float64       \n",
      " 32  hour_solarradiation                   194330 non-null  float64       \n",
      " 33  hour_solarenergy                      106431 non-null  float64       \n",
      " 34  hour_uvindex                          194330 non-null  float64       \n",
      " 35  hour_severerisk                       195084 non-null  float64       \n",
      " 36  hour_conditions                       195084 non-null  object        \n",
      " 37  city                                  195084 non-null  object        \n",
      " 38  region                                195084 non-null  object        \n",
      " 39  center_city_ua                        195084 non-null  object        \n",
      " 40  center_city_en                        195084 non-null  object        \n",
      " 41  region_alt                            195084 non-null  object        \n",
      " 42  region_id                             195084 non-null  int64         \n",
      " 43  event_region_title                    49249 non-null   object        \n",
      " 44  event_region_city                     49249 non-null   object        \n",
      " 45  event_all_region                      49249 non-null   float64       \n",
      " 46  event_start                           49249 non-null   object        \n",
      " 47  event_end                             49249 non-null   object        \n",
      " 48  event_clean_end                       49249 non-null   object        \n",
      " 49  event_intersection_alarm_id           4924 non-null    float64       \n",
      " 50  event_alarms_past_24                  49249 non-null   float64       \n",
      " 51  event_simultaneous_alarms             49249 non-null   float64       \n",
      " 52  event_hours_from_last_alarm           49182 non-null   float64       \n",
      " 53  event_holiday_is_near                 49249 non-null   object        \n",
      " 54  event_start_time                      49249 non-null   object        \n",
      " 55  event_end_time                        49249 non-null   object        \n",
      " 56  event_start_hour                      49249 non-null   object        \n",
      " 57  event_end_hour                        49249 non-null   object        \n",
      " 58  event_day_date                        49249 non-null   object        \n",
      " 59  event_start_hour_datetimeEpoch        49249 non-null   float64       \n",
      " 60  event_end_hour_datetimeEpoch          49249 non-null   float64       \n",
      " 61  event_hour_level_event_time           49249 non-null   object        \n",
      " 62  event_hour_level_event_datetimeEpoch  49249 non-null   float64       \n",
      "dtypes: datetime64[ns](1), float64(36), int64(3), object(23)\n",
      "memory usage: 95.3+ MB\n"
     ]
    }
   ],
   "source": [
    "df_weather_events.info()"
   ]
  },
  {
   "cell_type": "code",
   "execution_count": 21,
   "id": "c1940164",
   "metadata": {},
   "outputs": [
    {
     "name": "stdout",
     "output_type": "stream",
     "text": [
      "Train Split: [ 65028  65029  65030 ... 130053 130054 130055]\n",
      "Test Split: [130056 130057 130058 ... 195081 195082 195083]\n"
     ]
    }
   ],
   "source": [
    "tss = TimeSeriesSplit(n_splits=2)\n",
    "\n",
    "train_splits, test_splits = tss.split(df_weather_events)\n",
    "train_split = train_splits[1]\n",
    "test_split = test_splits[1]\n",
    "\n",
    "print(\"Train Split:\", train_split)\n",
    "print(\"Test Split:\", test_split)"
   ]
  },
  {
   "cell_type": "code",
   "execution_count": 25,
   "id": "ed0fa3a7",
   "metadata": {},
   "outputs": [
    {
     "name": "stdout",
     "output_type": "stream",
     "text": [
      "Train: ['Одеса, Україна' 'Миколаїв, Україна' 'Харків, Україна'\n",
      " 'Хмельницька область, Україна' 'Донецьк, Україна'\n",
      " 'Ужгород, Ужгородський район, Україна' 'Запоріжжя, Україна'\n",
      " 'Рівне, Україна' 'Житомир, Україна']\n",
      "Test: ['Житомир, Україна' 'Тернопіль, Україна' 'Полтава, Україна'\n",
      " 'Львів, Україна' 'Івано-Франківськ, Україна' 'Черкаси, Україна'\n",
      " 'Суми, Україна' 'Вінниця, Україна']\n",
      "Train: 2022-02-24 00:00:00 2023-01-20 00:00:00\n",
      "Test: 2022-02-24 00:00:00 2023-01-20 00:00:00\n"
     ]
    }
   ],
   "source": [
    "train_df = df_weather_events.iloc[train_split, :]\n",
    "test_df = df_weather_events.iloc[test_split, :]\n",
    "\n",
    "print(\"Train:\", train_df.city_resolvedAddress.unique())\n",
    "print(\"Test:\", test_df.city_resolvedAddress.unique())\n",
    "print(\"Train:\", train_df.day_datetime.min(), train_df.day_datetime.max())\n",
    "print(\"Test:\", test_df.day_datetime.min(), test_df.day_datetime.max())"
   ]
  },
  {
   "cell_type": "code",
   "execution_count": 27,
   "id": "1e5e9f8d",
   "metadata": {},
   "outputs": [
    {
     "name": "stdout",
     "output_type": "stream",
     "text": [
      "Min: 2022-02-24 00:00:00 Max: 2023-01-20 00:00:00\n"
     ]
    }
   ],
   "source": [
    "min_date = df_weather_events.day_datetime.min()\n",
    "max_date = df_weather_events.day_datetime.max()\n",
    "print(\"Min:\", min_date, \"Max:\", max_date)"
   ]
  },
  {
   "cell_type": "code",
   "execution_count": 28,
   "id": "6b0595dd",
   "metadata": {},
   "outputs": [
    {
     "data": {
      "text/plain": [
       "Timestamp('2022-10-29 12:00:00')"
      ]
     },
     "execution_count": 28,
     "metadata": {},
     "output_type": "execute_result"
    }
   ],
   "source": [
    "train_percent = .75\n",
    "time_between = max_date - min_date\n",
    "train_cutoff = min_date + train_percent*time_between\n",
    "train_cutoff"
   ]
  },
  {
   "cell_type": "code",
   "execution_count": 30,
   "id": "394a1db8",
   "metadata": {},
   "outputs": [
    {
     "name": "stdout",
     "output_type": "stream",
     "text": [
      "Train: ['Луцьк, Луцький район, Україна' 'Кропивницький, Україна'\n",
      " 'Дніпро, Україна' 'Київ, Україна' 'Херсон, Україна' 'Чернівці, Україна'\n",
      " 'Чернігів, Україна' 'Одеса, Україна' 'Миколаїв, Україна'\n",
      " 'Харків, Україна' 'Хмельницька область, Україна' 'Донецьк, Україна'\n",
      " 'Ужгород, Ужгородський район, Україна' 'Запоріжжя, Україна'\n",
      " 'Рівне, Україна' 'Житомир, Україна' 'Тернопіль, Україна'\n",
      " 'Полтава, Україна' 'Львів, Україна' 'Івано-Франківськ, Україна'\n",
      " 'Черкаси, Україна' 'Суми, Україна' 'Вінниця, Україна']\n",
      "Test: ['Луцьк, Луцький район, Україна' 'Кропивницький, Україна'\n",
      " 'Дніпро, Україна' 'Київ, Україна' 'Херсон, Україна' 'Чернівці, Україна'\n",
      " 'Чернігів, Україна' 'Одеса, Україна' 'Миколаїв, Україна'\n",
      " 'Харків, Україна' 'Хмельницька область, Україна' 'Донецьк, Україна'\n",
      " 'Ужгород, Ужгородський район, Україна' 'Запоріжжя, Україна'\n",
      " 'Рівне, Україна' 'Житомир, Україна' 'Тернопіль, Україна'\n",
      " 'Полтава, Україна' 'Львів, Україна' 'Івано-Франківськ, Україна'\n",
      " 'Черкаси, Україна' 'Суми, Україна' 'Вінниця, Україна']\n",
      "Train: 2022-02-24 00:00:00 2022-10-29 00:00:00\n",
      "Test: 2022-10-30 00:00:00 2023-01-20 00:00:00\n"
     ]
    }
   ],
   "source": [
    "train_df = df_weather_events[df_weather_events.day_datetime <= train_cutoff]\n",
    "test_df = df_weather_events[df_weather_events.day_datetime > train_cutoff]\n",
    "\n",
    "print(\"Train:\", train_df.city_resolvedAddress.unique())\n",
    "print(\"Test:\", test_df.city_resolvedAddress.unique())\n",
    "print(\"Train:\", train_df.day_datetime.min(), train_df.day_datetime.max())\n",
    "print(\"Test:\", test_df.day_datetime.min(), test_df.day_datetime.max())"
   ]
  },
  {
   "cell_type": "code",
   "execution_count": 31,
   "id": "ac004328",
   "metadata": {},
   "outputs": [
    {
     "data": {
      "text/plain": [
       "330.0"
      ]
     },
     "execution_count": 31,
     "metadata": {},
     "output_type": "execute_result"
    }
   ],
   "source": [
    "days_between = time_between / np.timedelta64(1, 'D')\n",
    "days_between"
   ]
  },
  {
   "cell_type": "code",
   "execution_count": 32,
   "id": "1d77c77e",
   "metadata": {},
   "outputs": [],
   "source": [
    "train_days = 273\n",
    "train_cutoff = min_date + pd.DateOffset(train_days)"
   ]
  },
  {
   "cell_type": "code",
   "execution_count": 33,
   "id": "c0b946fa",
   "metadata": {},
   "outputs": [
    {
     "name": "stdout",
     "output_type": "stream",
     "text": [
      "Train: ['Луцьк, Луцький район, Україна' 'Кропивницький, Україна'\n",
      " 'Дніпро, Україна' 'Київ, Україна' 'Херсон, Україна' 'Чернівці, Україна'\n",
      " 'Чернігів, Україна' 'Одеса, Україна' 'Миколаїв, Україна'\n",
      " 'Харків, Україна' 'Хмельницька область, Україна' 'Донецьк, Україна'\n",
      " 'Ужгород, Ужгородський район, Україна' 'Запоріжжя, Україна'\n",
      " 'Рівне, Україна' 'Житомир, Україна' 'Тернопіль, Україна'\n",
      " 'Полтава, Україна' 'Львів, Україна' 'Івано-Франківськ, Україна'\n",
      " 'Черкаси, Україна' 'Суми, Україна' 'Вінниця, Україна']\n",
      "Test: ['Луцьк, Луцький район, Україна' 'Кропивницький, Україна'\n",
      " 'Дніпро, Україна' 'Київ, Україна' 'Херсон, Україна' 'Чернівці, Україна'\n",
      " 'Чернігів, Україна' 'Одеса, Україна' 'Миколаїв, Україна'\n",
      " 'Харків, Україна' 'Хмельницька область, Україна' 'Донецьк, Україна'\n",
      " 'Ужгород, Ужгородський район, Україна' 'Запоріжжя, Україна'\n",
      " 'Рівне, Україна' 'Житомир, Україна' 'Тернопіль, Україна'\n",
      " 'Полтава, Україна' 'Львів, Україна' 'Івано-Франківськ, Україна'\n",
      " 'Черкаси, Україна' 'Суми, Україна' 'Вінниця, Україна']\n",
      "Train: 2022-02-24 00:00:00 2022-11-24 00:00:00\n",
      "Test: 2022-11-25 00:00:00 2023-01-20 00:00:00\n"
     ]
    }
   ],
   "source": [
    "train_df = df_weather_events[df_weather_events.day_datetime <= train_cutoff]\n",
    "test_df = df_weather_events[df_weather_events.day_datetime > train_cutoff]\n",
    "\n",
    "print(\"Train:\", train_df.city_resolvedAddress.unique())\n",
    "print(\"Test:\", test_df.city_resolvedAddress.unique())\n",
    "print(\"Train:\", train_df.day_datetime.min(), train_df.day_datetime.max())\n",
    "print(\"Test:\", test_df.day_datetime.min(), test_df.day_datetime.max())"
   ]
  },
  {
   "cell_type": "code",
   "execution_count": null,
   "id": "282e2bb1",
   "metadata": {},
   "outputs": [],
   "source": [
    "\n"
   ]
  },
  {
   "cell_type": "code",
   "execution_count": null,
   "id": "c82198a2",
   "metadata": {},
   "outputs": [],
   "source": []
  },
  {
   "cell_type": "code",
   "execution_count": null,
   "id": "b4a06084",
   "metadata": {},
   "outputs": [],
   "source": []
  },
  {
   "cell_type": "code",
   "execution_count": null,
   "id": "7731daa6",
   "metadata": {},
   "outputs": [],
   "source": []
  },
  {
   "cell_type": "code",
   "execution_count": null,
   "id": "ac0a4a64",
   "metadata": {},
   "outputs": [],
   "source": []
  },
  {
   "cell_type": "code",
   "execution_count": null,
   "id": "925ef618",
   "metadata": {},
   "outputs": [],
   "source": []
  },
  {
   "cell_type": "code",
   "execution_count": null,
   "id": "13a5a10b",
   "metadata": {},
   "outputs": [],
   "source": []
  },
  {
   "cell_type": "code",
   "execution_count": null,
   "id": "6381ee52",
   "metadata": {},
   "outputs": [],
   "source": []
  },
  {
   "cell_type": "code",
   "execution_count": null,
   "id": "8d578b52",
   "metadata": {},
   "outputs": [],
   "source": []
  },
  {
   "cell_type": "code",
   "execution_count": null,
   "id": "d6537de4",
   "metadata": {},
   "outputs": [],
   "source": []
  },
  {
   "cell_type": "code",
   "execution_count": null,
   "id": "a3f477f1",
   "metadata": {},
   "outputs": [],
   "source": []
  }
 ],
 "metadata": {
  "kernelspec": {
   "display_name": "Python 3",
   "language": "python",
   "name": "python3"
  },
  "language_info": {
   "codemirror_mode": {
    "name": "ipython",
    "version": 3
   },
   "file_extension": ".py",
   "mimetype": "text/x-python",
   "name": "python",
   "nbconvert_exporter": "python",
   "pygments_lexer": "ipython3",
   "version": "3.8.0"
  },
  "toc": {
   "base_numbering": 1,
   "nav_menu": {},
   "number_sections": true,
   "sideBar": true,
   "skip_h1_title": false,
   "title_cell": "Table of Contents",
   "title_sidebar": "Contents",
   "toc_cell": false,
   "toc_position": {},
   "toc_section_display": true,
   "toc_window_display": false
  }
 },
 "nbformat": 4,
 "nbformat_minor": 5
}
