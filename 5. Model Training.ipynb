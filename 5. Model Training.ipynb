{
 "cells": [
  {
   "cell_type": "code",
   "execution_count": 2,
   "id": "6cbc937a",
   "metadata": {},
   "outputs": [],
   "source": [
    "import pickle\n",
    "import pandas as pd\n",
    "import seaborn as sns\n",
    "import numpy as np\n",
    "import matplotlib.pyplot as plt\n",
    "import statsmodels.api as sm\n",
    "\n",
    "from datetime import timedelta\n",
    "\n",
    "from sklearn.model_selection import TimeSeriesSplit\n",
    "from sklearn.metrics import accuracy_score\n",
    "from sklearn.metrics import recall_score\n",
    "from sklearn.metrics import precision_score\n",
    "from sklearn.metrics import f1_score\n",
    "from sklearn.metrics import confusion_matrix\n",
    "from sklearn.metrics import classification_report"
   ]
  },
  {
   "cell_type": "markdown",
   "id": "d7478af7",
   "metadata": {},
   "source": [
    "# Load and check data"
   ]
  },
  {
   "cell_type": "code",
   "execution_count": 7,
   "id": "a9e53826",
   "metadata": {},
   "outputs": [],
   "source": [
    "PROCESSED_DATA_FOLDER = \"data/4_all_data_preprocessed\"\n",
    "DATASET_FILE = \"all_features\""
   ]
  },
  {
   "cell_type": "code",
   "execution_count": 8,
   "id": "6cd6668f",
   "metadata": {},
   "outputs": [],
   "source": [
    "# Load dataset\n",
    "dataset = pickle.load(open(f\"{PROCESSED_DATA_FOLDER}/{DATASET_FILE}.pkl\", \"rb\"))"
   ]
  },
  {
   "cell_type": "code",
   "execution_count": 9,
   "id": "6a0467e3",
   "metadata": {},
   "outputs": [
    {
     "name": "stdout",
     "output_type": "stream",
     "text": [
      "<class 'pandas.core.frame.DataFrame'>\n",
      "Int64Index: 192867 entries, 0 to 192866\n",
      "Columns: 760 entries, city_resolvedAddress to isw_zone\n",
      "dtypes: Sparse[float64, 0](718), bool(1), float64(38), object(3)\n",
      "memory usage: 841.3+ MB\n"
     ]
    }
   ],
   "source": [
    "dataset.info()"
   ]
  },
  {
   "cell_type": "code",
   "execution_count": 10,
   "id": "80b782ad",
   "metadata": {},
   "outputs": [
    {
     "data": {
      "text/plain": [
       "(192867, 760)"
      ]
     },
     "execution_count": 10,
     "metadata": {},
     "output_type": "execute_result"
    }
   ],
   "source": [
    "# Check the size of the data\n",
    "dataset.shape"
   ]
  },
  {
   "cell_type": "code",
   "execution_count": 11,
   "id": "d7587e71",
   "metadata": {},
   "outputs": [
    {
     "data": {
      "text/html": [
       "<div>\n",
       "<style scoped>\n",
       "    .dataframe tbody tr th:only-of-type {\n",
       "        vertical-align: middle;\n",
       "    }\n",
       "\n",
       "    .dataframe tbody tr th {\n",
       "        vertical-align: top;\n",
       "    }\n",
       "\n",
       "    .dataframe thead th {\n",
       "        text-align: right;\n",
       "    }\n",
       "</style>\n",
       "<table border=\"1\" class=\"dataframe\">\n",
       "  <thead>\n",
       "    <tr style=\"text-align: right;\">\n",
       "      <th></th>\n",
       "      <th>city_resolvedAddress</th>\n",
       "      <th>day_datetime</th>\n",
       "      <th>isw_date_tomorrow_datetime</th>\n",
       "      <th>event_indicator</th>\n",
       "      <th>day_tempmax</th>\n",
       "      <th>day_tempmin</th>\n",
       "      <th>day_temp</th>\n",
       "      <th>day_dew</th>\n",
       "      <th>day_humidity</th>\n",
       "      <th>day_precip</th>\n",
       "      <th>...</th>\n",
       "      <th>isw_work</th>\n",
       "      <th>isw_would</th>\n",
       "      <th>isw_wound</th>\n",
       "      <th>isw_year</th>\n",
       "      <th>isw_yet</th>\n",
       "      <th>isw_yevgeni</th>\n",
       "      <th>isw_zaporizhia</th>\n",
       "      <th>isw_zaporizhzhia</th>\n",
       "      <th>isw_znpp</th>\n",
       "      <th>isw_zone</th>\n",
       "    </tr>\n",
       "  </thead>\n",
       "  <tbody>\n",
       "    <tr>\n",
       "      <th>0</th>\n",
       "      <td>Луцьк, Луцький район, Україна</td>\n",
       "      <td>2022-02-25</td>\n",
       "      <td>2022-02-25</td>\n",
       "      <td>False</td>\n",
       "      <td>6.3</td>\n",
       "      <td>-0.3</td>\n",
       "      <td>2.2</td>\n",
       "      <td>-1.2</td>\n",
       "      <td>78.3</td>\n",
       "      <td>0.2</td>\n",
       "      <td>...</td>\n",
       "      <td>0.0</td>\n",
       "      <td>0.0</td>\n",
       "      <td>0.0</td>\n",
       "      <td>0.0</td>\n",
       "      <td>0.170576</td>\n",
       "      <td>0.0</td>\n",
       "      <td>0.0</td>\n",
       "      <td>0.0</td>\n",
       "      <td>0.0</td>\n",
       "      <td>0.0</td>\n",
       "    </tr>\n",
       "    <tr>\n",
       "      <th>1</th>\n",
       "      <td>Луцьк, Луцький район, Україна</td>\n",
       "      <td>2022-02-25</td>\n",
       "      <td>2022-02-25</td>\n",
       "      <td>False</td>\n",
       "      <td>6.3</td>\n",
       "      <td>-0.3</td>\n",
       "      <td>2.2</td>\n",
       "      <td>-1.2</td>\n",
       "      <td>78.3</td>\n",
       "      <td>0.2</td>\n",
       "      <td>...</td>\n",
       "      <td>0.0</td>\n",
       "      <td>0.0</td>\n",
       "      <td>0.0</td>\n",
       "      <td>0.0</td>\n",
       "      <td>0.170576</td>\n",
       "      <td>0.0</td>\n",
       "      <td>0.0</td>\n",
       "      <td>0.0</td>\n",
       "      <td>0.0</td>\n",
       "      <td>0.0</td>\n",
       "    </tr>\n",
       "    <tr>\n",
       "      <th>2</th>\n",
       "      <td>Луцьк, Луцький район, Україна</td>\n",
       "      <td>2022-02-25</td>\n",
       "      <td>2022-02-25</td>\n",
       "      <td>False</td>\n",
       "      <td>6.3</td>\n",
       "      <td>-0.3</td>\n",
       "      <td>2.2</td>\n",
       "      <td>-1.2</td>\n",
       "      <td>78.3</td>\n",
       "      <td>0.2</td>\n",
       "      <td>...</td>\n",
       "      <td>0.0</td>\n",
       "      <td>0.0</td>\n",
       "      <td>0.0</td>\n",
       "      <td>0.0</td>\n",
       "      <td>0.170576</td>\n",
       "      <td>0.0</td>\n",
       "      <td>0.0</td>\n",
       "      <td>0.0</td>\n",
       "      <td>0.0</td>\n",
       "      <td>0.0</td>\n",
       "    </tr>\n",
       "    <tr>\n",
       "      <th>3</th>\n",
       "      <td>Луцьк, Луцький район, Україна</td>\n",
       "      <td>2022-02-25</td>\n",
       "      <td>2022-02-25</td>\n",
       "      <td>False</td>\n",
       "      <td>6.3</td>\n",
       "      <td>-0.3</td>\n",
       "      <td>2.2</td>\n",
       "      <td>-1.2</td>\n",
       "      <td>78.3</td>\n",
       "      <td>0.2</td>\n",
       "      <td>...</td>\n",
       "      <td>0.0</td>\n",
       "      <td>0.0</td>\n",
       "      <td>0.0</td>\n",
       "      <td>0.0</td>\n",
       "      <td>0.170576</td>\n",
       "      <td>0.0</td>\n",
       "      <td>0.0</td>\n",
       "      <td>0.0</td>\n",
       "      <td>0.0</td>\n",
       "      <td>0.0</td>\n",
       "    </tr>\n",
       "    <tr>\n",
       "      <th>4</th>\n",
       "      <td>Луцьк, Луцький район, Україна</td>\n",
       "      <td>2022-02-25</td>\n",
       "      <td>2022-02-25</td>\n",
       "      <td>False</td>\n",
       "      <td>6.3</td>\n",
       "      <td>-0.3</td>\n",
       "      <td>2.2</td>\n",
       "      <td>-1.2</td>\n",
       "      <td>78.3</td>\n",
       "      <td>0.2</td>\n",
       "      <td>...</td>\n",
       "      <td>0.0</td>\n",
       "      <td>0.0</td>\n",
       "      <td>0.0</td>\n",
       "      <td>0.0</td>\n",
       "      <td>0.170576</td>\n",
       "      <td>0.0</td>\n",
       "      <td>0.0</td>\n",
       "      <td>0.0</td>\n",
       "      <td>0.0</td>\n",
       "      <td>0.0</td>\n",
       "    </tr>\n",
       "  </tbody>\n",
       "</table>\n",
       "<p>5 rows × 760 columns</p>\n",
       "</div>"
      ],
      "text/plain": [
       "            city_resolvedAddress day_datetime isw_date_tomorrow_datetime  \\\n",
       "0  Луцьк, Луцький район, Україна   2022-02-25                 2022-02-25   \n",
       "1  Луцьк, Луцький район, Україна   2022-02-25                 2022-02-25   \n",
       "2  Луцьк, Луцький район, Україна   2022-02-25                 2022-02-25   \n",
       "3  Луцьк, Луцький район, Україна   2022-02-25                 2022-02-25   \n",
       "4  Луцьк, Луцький район, Україна   2022-02-25                 2022-02-25   \n",
       "\n",
       "   event_indicator  day_tempmax  day_tempmin  day_temp  day_dew  day_humidity  \\\n",
       "0            False          6.3         -0.3       2.2     -1.2          78.3   \n",
       "1            False          6.3         -0.3       2.2     -1.2          78.3   \n",
       "2            False          6.3         -0.3       2.2     -1.2          78.3   \n",
       "3            False          6.3         -0.3       2.2     -1.2          78.3   \n",
       "4            False          6.3         -0.3       2.2     -1.2          78.3   \n",
       "\n",
       "   day_precip  ...  isw_work  isw_would  isw_wound  isw_year   isw_yet  \\\n",
       "0         0.2  ...       0.0        0.0        0.0       0.0  0.170576   \n",
       "1         0.2  ...       0.0        0.0        0.0       0.0  0.170576   \n",
       "2         0.2  ...       0.0        0.0        0.0       0.0  0.170576   \n",
       "3         0.2  ...       0.0        0.0        0.0       0.0  0.170576   \n",
       "4         0.2  ...       0.0        0.0        0.0       0.0  0.170576   \n",
       "\n",
       "   isw_yevgeni  isw_zaporizhia  isw_zaporizhzhia  isw_znpp  isw_zone  \n",
       "0          0.0             0.0               0.0       0.0       0.0  \n",
       "1          0.0             0.0               0.0       0.0       0.0  \n",
       "2          0.0             0.0               0.0       0.0       0.0  \n",
       "3          0.0             0.0               0.0       0.0       0.0  \n",
       "4          0.0             0.0               0.0       0.0       0.0  \n",
       "\n",
       "[5 rows x 760 columns]"
      ]
     },
     "execution_count": 11,
     "metadata": {},
     "output_type": "execute_result"
    }
   ],
   "source": [
    "# Check few lines\n",
    "dataset.head()"
   ]
  },
  {
   "cell_type": "code",
   "execution_count": 12,
   "id": "7bc9f262",
   "metadata": {},
   "outputs": [
    {
     "data": {
      "text/plain": [
       "city_resolvedAddress          0\n",
       "day_datetime                  0\n",
       "isw_date_tomorrow_datetime    0\n",
       "event_indicator               0\n",
       "day_tempmax                   0\n",
       "                             ..\n",
       "isw_yevgeni                   0\n",
       "isw_zaporizhia                0\n",
       "isw_zaporizhzhia              0\n",
       "isw_znpp                      0\n",
       "isw_zone                      0\n",
       "Length: 760, dtype: int64"
      ]
     },
     "execution_count": 12,
     "metadata": {},
     "output_type": "execute_result"
    }
   ],
   "source": [
    "# Check nan\n",
    "dataset.isna().sum()"
   ]
  },
  {
   "cell_type": "code",
   "execution_count": 13,
   "id": "f61eeb50",
   "metadata": {},
   "outputs": [
    {
     "data": {
      "text/plain": [
       "city_resolvedAddress                      object\n",
       "day_datetime                              object\n",
       "isw_date_tomorrow_datetime                object\n",
       "event_indicator                             bool\n",
       "day_tempmax                              float64\n",
       "                                     ...        \n",
       "isw_yevgeni                   Sparse[float64, 0]\n",
       "isw_zaporizhia                Sparse[float64, 0]\n",
       "isw_zaporizhzhia              Sparse[float64, 0]\n",
       "isw_znpp                      Sparse[float64, 0]\n",
       "isw_zone                      Sparse[float64, 0]\n",
       "Length: 760, dtype: object"
      ]
     },
     "execution_count": 13,
     "metadata": {},
     "output_type": "execute_result"
    }
   ],
   "source": [
    "dataset.dtypes"
   ]
  },
  {
   "cell_type": "code",
   "execution_count": 14,
   "id": "ff92aa9c",
   "metadata": {},
   "outputs": [
    {
     "data": {
      "text/plain": [
       "count                           192867\n",
       "mean     2022-08-02 23:32:38.163916288\n",
       "min                2022-02-25 00:00:00\n",
       "25%                2022-05-10 00:00:00\n",
       "50%                2022-08-02 00:00:00\n",
       "75%                2022-10-24 00:00:00\n",
       "max                2023-01-20 00:00:00\n",
       "Name: day_datetime, dtype: object"
      ]
     },
     "execution_count": 14,
     "metadata": {},
     "output_type": "execute_result"
    }
   ],
   "source": [
    "# Sort dataset by date\n",
    "dataset['day_datetime'] = pd.to_datetime(dataset['day_datetime'])\n",
    "dataset = dataset.sort_values(by='day_datetime')\n",
    "dataset.day_datetime.describe(datetime_is_numeric=True)"
   ]
  },
  {
   "cell_type": "code",
   "execution_count": 15,
   "id": "4e540d5c",
   "metadata": {},
   "outputs": [],
   "source": [
    "# Extract relevant date features\n",
    "dataset['year'] = pd.to_datetime(dataset['day_datetime']).dt.year\n",
    "dataset['month'] = pd.to_datetime(dataset['day_datetime']).dt.month\n",
    "dataset['day'] = pd.to_datetime(dataset['day_datetime']).dt.day\n",
    "dataset['day_of_week'] = pd.to_datetime(dataset['day_datetime']).dt.dayofweek"
   ]
  },
  {
   "cell_type": "code",
   "execution_count": 16,
   "id": "12396cfb",
   "metadata": {},
   "outputs": [
    {
     "data": {
      "text/plain": [
       "array(['Луцьк, Луцький район, Україна', 'Житомир, Україна',\n",
       "       'Рівне, Україна', 'Полтава, Україна', 'Тернопіль, Україна',\n",
       "       'Ужгород, Ужгородський район, Україна', 'Донецьк, Україна',\n",
       "       'Запоріжжя, Україна', 'Суми, Україна', 'Черкаси, Україна',\n",
       "       'Вінниця, Україна', 'Львів, Україна', 'Івано-Франківськ, Україна',\n",
       "       'Херсон, Україна', 'Київ, Україна', 'Дніпро, Україна',\n",
       "       'Чернівці, Україна', 'Кропивницький, Україна', 'Харків, Україна',\n",
       "       'Миколаїв, Україна', 'Хмельницька область, Україна',\n",
       "       'Одеса, Україна', 'Чернігів, Україна'], dtype=object)"
      ]
     },
     "execution_count": 16,
     "metadata": {},
     "output_type": "execute_result"
    }
   ],
   "source": [
    "# Translate city names\n",
    "dataset.rename(columns = {'city_resolvedAddress':'city'}, inplace=True)\n",
    "dataset['city'].unique()"
   ]
  },
  {
   "cell_type": "code",
   "execution_count": 17,
   "id": "1a1ccea2",
   "metadata": {},
   "outputs": [],
   "source": [
    "region_dict = {\n",
    "    \"Київ, Україна\" : 'Kyiv', \n",
    "    \"Миколаїв, Україна\" : 'Mykolaiv',\n",
    "    \"Дніпро, Україна\": 'Dnipro',\n",
    "    \"Харків, Україна\" : 'Kharkiv', \n",
    "    \"Житомир, Україна\": 'Zhytomyr',\n",
    "    \"Кропивницький, Україна\": 'Kropyvnytskyi',\n",
    "    \"Запоріжжя, Україна\": 'Zaporizhzhia',\n",
    "    \"Полтава, Україна\": 'Poltava',\n",
    "    \"Чернігів, Україна\": 'Chernihiv',\n",
    "    \"Одеса, Україна\": 'Odesa',\n",
    "    \"Хмельницька область, Україна\": 'Khmelnytskyi',\n",
    "    \"Черкаси, Україна\": 'Cherkasy',\n",
    "    \"Суми, Україна\": 'Sumy',\n",
    "    \"Вінниця, Україна\": 'Vinnytsia',\n",
    "    \"Херсон, Україна\": 'Kherson',\n",
    "    \"Львів, Україна\": 'Lviv',\n",
    "    \"Луцьк, Луцький район, Україна\": 'Lutsk',\n",
    "    \"Рівне, Україна\": 'Rivne',\n",
    "    \"Івано-Франківськ, Україна\": 'Ivano-Frankivsk',\n",
    "    \"Тернопіль, Україна\": 'Ternopil',\n",
    "    \"Чернівці, Україна\": 'Chernivtsi',\n",
    "    \"Ужгород, Ужгородський район, Україна\": 'Uzhhorod',\n",
    "    \"Донецьк, Україна\": 'Donetsk'\n",
    "}\n",
    "\n",
    "dataset = dataset.replace({\"city\": region_dict})"
   ]
  },
  {
   "cell_type": "code",
   "execution_count": 18,
   "id": "b62b62b4",
   "metadata": {},
   "outputs": [
    {
     "data": {
      "text/plain": [
       "0    143773\n",
       "1     49094\n",
       "Name: target, dtype: int64"
      ]
     },
     "execution_count": 18,
     "metadata": {},
     "output_type": "execute_result"
    }
   ],
   "source": [
    "# Define target variable\n",
    "dataset['target'] = dataset['event_indicator']\n",
    "dataset = dataset.drop(columns=['event_indicator', 'isw_date_tomorrow_datetime'])\n",
    "\n",
    "# Check the event proportion of the data\n",
    "dataset['target'] = dataset['target'].astype(int)\n",
    "dataset['target'].value_counts()"
   ]
  },
  {
   "cell_type": "code",
   "execution_count": 19,
   "id": "1f45df67",
   "metadata": {},
   "outputs": [
    {
     "data": {
      "text/plain": [
       "[Text(0.5, 1.0, 'Countplot of events')]"
      ]
     },
     "execution_count": 19,
     "metadata": {},
     "output_type": "execute_result"
    },
    {
     "data": {
      "image/png": "[encoded data removed]",
      "text/plain": [
       "<Figure size 432x288 with 1 Axes>"
      ]
     },
     "metadata": {
      "needs_background": "light"
     },
     "output_type": "display_data"
    }
   ],
   "source": [
    "np.float = float\n",
    "sns.countplot(x='target', data=dataset, palette='Set1').set(title = \"Countplot of events\")"
   ]
  },
  {
   "cell_type": "code",
   "execution_count": 20,
   "id": "6d1d61c1",
   "metadata": {},
   "outputs": [
    {
     "data": {
      "text/plain": [
       "Text(0, 0.5, 'Number of Air alerts')"
      ]
     },
     "execution_count": 20,
     "metadata": {},
     "output_type": "execute_result"
    },
    {
     "data": {
      "image/png": "[encoded data removed]",
      "text/plain": [
       "<Figure size 432x288 with 1 Axes>"
      ]
     },
     "metadata": {
      "needs_background": "light"
     },
     "output_type": "display_data"
    }
   ],
   "source": [
    "#%matplotlib inline\n",
    "pd.crosstab(dataset['city'], dataset['target']).plot(kind='bar')\n",
    "plt.rcParams[\"figure.figsize\"] = [15, 5]\n",
    "plt.title('Air alerts by city')\n",
    "plt.xlabel('City')\n",
    "plt.ylabel('Number of Air alerts')"
   ]
  },
  {
   "cell_type": "code",
   "execution_count": 70,
   "id": "ac1453bf",
   "metadata": {},
   "outputs": [
    {
     "ename": "KeyError",
     "evalue": "'city'",
     "output_type": "error",
     "traceback": [
      "\u001b[1;31m---------------------------------------------------------------------------\u001b[0m",
      "\u001b[1;31mKeyError\u001b[0m                                  Traceback (most recent call last)",
      "\u001b[1;32m~\\AppData\\Roaming\\Python\\Python38\\site-packages\\pandas\\core\\indexes\\base.py\u001b[0m in \u001b[0;36mget_loc\u001b[1;34m(self, key, method, tolerance)\u001b[0m\n\u001b[0;32m   3801\u001b[0m             \u001b[1;32mtry\u001b[0m\u001b[1;33m:\u001b[0m\u001b[1;33m\u001b[0m\u001b[1;33m\u001b[0m\u001b[0m\n\u001b[1;32m-> 3802\u001b[1;33m                 \u001b[1;32mreturn\u001b[0m \u001b[0mself\u001b[0m\u001b[1;33m.\u001b[0m\u001b[0m_engine\u001b[0m\u001b[1;33m.\u001b[0m\u001b[0mget_loc\u001b[0m\u001b[1;33m(\u001b[0m\u001b[0mcasted_key\u001b[0m\u001b[1;33m)\u001b[0m\u001b[1;33m\u001b[0m\u001b[1;33m\u001b[0m\u001b[0m\n\u001b[0m\u001b[0;32m   3803\u001b[0m             \u001b[1;32mexcept\u001b[0m \u001b[0mKeyError\u001b[0m \u001b[1;32mas\u001b[0m \u001b[0merr\u001b[0m\u001b[1;33m:\u001b[0m\u001b[1;33m\u001b[0m\u001b[1;33m\u001b[0m\u001b[0m\n",
      "\u001b[1;32m~\\AppData\\Roaming\\Python\\Python38\\site-packages\\pandas\\_libs\\index.pyx\u001b[0m in \u001b[0;36mpandas._libs.index.IndexEngine.get_loc\u001b[1;34m()\u001b[0m\n",
      "\u001b[1;32m~\\AppData\\Roaming\\Python\\Python38\\site-packages\\pandas\\_libs\\index.pyx\u001b[0m in \u001b[0;36mpandas._libs.index.IndexEngine.get_loc\u001b[1;34m()\u001b[0m\n",
      "\u001b[1;32mpandas\\_libs\\hashtable_class_helper.pxi\u001b[0m in \u001b[0;36mpandas._libs.hashtable.PyObjectHashTable.get_item\u001b[1;34m()\u001b[0m\n",
      "\u001b[1;32mpandas\\_libs\\hashtable_class_helper.pxi\u001b[0m in \u001b[0;36mpandas._libs.hashtable.PyObjectHashTable.get_item\u001b[1;34m()\u001b[0m\n",
      "\u001b[1;31mKeyError\u001b[0m: 'city'",
      "\nThe above exception was the direct cause of the following exception:\n",
      "\u001b[1;31mKeyError\u001b[0m                                  Traceback (most recent call last)",
      "\u001b[1;32m<ipython-input-70-9ecbf2ed3339>\u001b[0m in \u001b[0;36m<module>\u001b[1;34m\u001b[0m\n\u001b[0;32m      1\u001b[0m \u001b[1;31m# Create id column for each unique city\u001b[0m\u001b[1;33m\u001b[0m\u001b[1;33m\u001b[0m\u001b[1;33m\u001b[0m\u001b[0m\n\u001b[1;32m----> 2\u001b[1;33m \u001b[0mcities\u001b[0m \u001b[1;33m=\u001b[0m \u001b[0mdataset\u001b[0m\u001b[1;33m[\u001b[0m\u001b[1;34m'city'\u001b[0m\u001b[1;33m]\u001b[0m\u001b[1;33m.\u001b[0m\u001b[0munique\u001b[0m\u001b[1;33m(\u001b[0m\u001b[1;33m)\u001b[0m\u001b[1;33m\u001b[0m\u001b[1;33m\u001b[0m\u001b[0m\n\u001b[0m\u001b[0;32m      3\u001b[0m \u001b[0mcity_dict\u001b[0m \u001b[1;33m=\u001b[0m \u001b[1;33m{\u001b[0m\u001b[0mcities\u001b[0m\u001b[1;33m[\u001b[0m\u001b[0mi\u001b[0m\u001b[1;33m]\u001b[0m\u001b[1;33m:\u001b[0m \u001b[0mi\u001b[0m\u001b[1;33m+\u001b[0m\u001b[1;36m1\u001b[0m \u001b[1;32mfor\u001b[0m \u001b[0mi\u001b[0m \u001b[1;32min\u001b[0m \u001b[0mrange\u001b[0m\u001b[1;33m(\u001b[0m\u001b[0mlen\u001b[0m\u001b[1;33m(\u001b[0m\u001b[0mcities\u001b[0m\u001b[1;33m)\u001b[0m\u001b[1;33m)\u001b[0m\u001b[1;33m}\u001b[0m\u001b[1;33m\u001b[0m\u001b[1;33m\u001b[0m\u001b[0m\n\u001b[0;32m      4\u001b[0m \u001b[0mdataset\u001b[0m\u001b[1;33m[\u001b[0m\u001b[1;34m'city_id'\u001b[0m\u001b[1;33m]\u001b[0m \u001b[1;33m=\u001b[0m \u001b[0mdataset\u001b[0m\u001b[1;33m[\u001b[0m\u001b[1;34m'city'\u001b[0m\u001b[1;33m]\u001b[0m\u001b[1;33m.\u001b[0m\u001b[0mmap\u001b[0m\u001b[1;33m(\u001b[0m\u001b[0mcity_dict\u001b[0m\u001b[1;33m)\u001b[0m\u001b[1;33m\u001b[0m\u001b[1;33m\u001b[0m\u001b[0m\n\u001b[0;32m      5\u001b[0m \u001b[0mdataset\u001b[0m\u001b[1;33m.\u001b[0m\u001b[0mdrop\u001b[0m\u001b[1;33m(\u001b[0m\u001b[1;34m'city'\u001b[0m\u001b[1;33m,\u001b[0m \u001b[0maxis\u001b[0m\u001b[1;33m=\u001b[0m\u001b[1;36m1\u001b[0m\u001b[1;33m,\u001b[0m \u001b[0minplace\u001b[0m\u001b[1;33m=\u001b[0m\u001b[1;32mTrue\u001b[0m\u001b[1;33m)\u001b[0m\u001b[1;33m\u001b[0m\u001b[1;33m\u001b[0m\u001b[0m\n",
      "\u001b[1;32m~\\AppData\\Roaming\\Python\\Python38\\site-packages\\pandas\\core\\frame.py\u001b[0m in \u001b[0;36m__getitem__\u001b[1;34m(self, key)\u001b[0m\n\u001b[0;32m   3805\u001b[0m             \u001b[1;32mif\u001b[0m \u001b[0mself\u001b[0m\u001b[1;33m.\u001b[0m\u001b[0mcolumns\u001b[0m\u001b[1;33m.\u001b[0m\u001b[0mnlevels\u001b[0m \u001b[1;33m>\u001b[0m \u001b[1;36m1\u001b[0m\u001b[1;33m:\u001b[0m\u001b[1;33m\u001b[0m\u001b[1;33m\u001b[0m\u001b[0m\n\u001b[0;32m   3806\u001b[0m                 \u001b[1;32mreturn\u001b[0m \u001b[0mself\u001b[0m\u001b[1;33m.\u001b[0m\u001b[0m_getitem_multilevel\u001b[0m\u001b[1;33m(\u001b[0m\u001b[0mkey\u001b[0m\u001b[1;33m)\u001b[0m\u001b[1;33m\u001b[0m\u001b[1;33m\u001b[0m\u001b[0m\n\u001b[1;32m-> 3807\u001b[1;33m             \u001b[0mindexer\u001b[0m \u001b[1;33m=\u001b[0m \u001b[0mself\u001b[0m\u001b[1;33m.\u001b[0m\u001b[0mcolumns\u001b[0m\u001b[1;33m.\u001b[0m\u001b[0mget_loc\u001b[0m\u001b[1;33m(\u001b[0m\u001b[0mkey\u001b[0m\u001b[1;33m)\u001b[0m\u001b[1;33m\u001b[0m\u001b[1;33m\u001b[0m\u001b[0m\n\u001b[0m\u001b[0;32m   3808\u001b[0m             \u001b[1;32mif\u001b[0m \u001b[0mis_integer\u001b[0m\u001b[1;33m(\u001b[0m\u001b[0mindexer\u001b[0m\u001b[1;33m)\u001b[0m\u001b[1;33m:\u001b[0m\u001b[1;33m\u001b[0m\u001b[1;33m\u001b[0m\u001b[0m\n\u001b[0;32m   3809\u001b[0m                 \u001b[0mindexer\u001b[0m \u001b[1;33m=\u001b[0m \u001b[1;33m[\u001b[0m\u001b[0mindexer\u001b[0m\u001b[1;33m]\u001b[0m\u001b[1;33m\u001b[0m\u001b[1;33m\u001b[0m\u001b[0m\n",
      "\u001b[1;32m~\\AppData\\Roaming\\Python\\Python38\\site-packages\\pandas\\core\\indexes\\base.py\u001b[0m in \u001b[0;36mget_loc\u001b[1;34m(self, key, method, tolerance)\u001b[0m\n\u001b[0;32m   3802\u001b[0m                 \u001b[1;32mreturn\u001b[0m \u001b[0mself\u001b[0m\u001b[1;33m.\u001b[0m\u001b[0m_engine\u001b[0m\u001b[1;33m.\u001b[0m\u001b[0mget_loc\u001b[0m\u001b[1;33m(\u001b[0m\u001b[0mcasted_key\u001b[0m\u001b[1;33m)\u001b[0m\u001b[1;33m\u001b[0m\u001b[1;33m\u001b[0m\u001b[0m\n\u001b[0;32m   3803\u001b[0m             \u001b[1;32mexcept\u001b[0m \u001b[0mKeyError\u001b[0m \u001b[1;32mas\u001b[0m \u001b[0merr\u001b[0m\u001b[1;33m:\u001b[0m\u001b[1;33m\u001b[0m\u001b[1;33m\u001b[0m\u001b[0m\n\u001b[1;32m-> 3804\u001b[1;33m                 \u001b[1;32mraise\u001b[0m \u001b[0mKeyError\u001b[0m\u001b[1;33m(\u001b[0m\u001b[0mkey\u001b[0m\u001b[1;33m)\u001b[0m \u001b[1;32mfrom\u001b[0m \u001b[0merr\u001b[0m\u001b[1;33m\u001b[0m\u001b[1;33m\u001b[0m\u001b[0m\n\u001b[0m\u001b[0;32m   3805\u001b[0m             \u001b[1;32mexcept\u001b[0m \u001b[0mTypeError\u001b[0m\u001b[1;33m:\u001b[0m\u001b[1;33m\u001b[0m\u001b[1;33m\u001b[0m\u001b[0m\n\u001b[0;32m   3806\u001b[0m                 \u001b[1;31m# If we have a listlike key, _check_indexing_error will raise\u001b[0m\u001b[1;33m\u001b[0m\u001b[1;33m\u001b[0m\u001b[1;33m\u001b[0m\u001b[0m\n",
      "\u001b[1;31mKeyError\u001b[0m: 'city'"
     ]
    }
   ],
   "source": [
    "# Create id column for each unique city\n",
    "cities = dataset['city'].unique()\n",
    "city_dict = {cities[i]: i+1 for i in range(len(cities))}\n",
    "dataset['city_id'] = dataset['city'].map(city_dict)\n",
    "dataset.drop('city', axis=1, inplace=True)"
   ]
  },
  {
   "cell_type": "markdown",
   "id": "00a73891",
   "metadata": {},
   "source": [
    "# Model Selection"
   ]
  },
  {
   "cell_type": "code",
   "execution_count": 71,
   "id": "9747c9bc",
   "metadata": {},
   "outputs": [],
   "source": [
    "models = {}\n",
    "\n",
    "# Logistic Regression\n",
    "from sklearn.linear_model import LogisticRegression\n",
    "models['Logistic Regression'] = LogisticRegression(random_state=5, class_weight=\"balanced\")\n",
    "\n",
    "# Support Vector Machines\n",
    "from sklearn import svm\n",
    "models['Support Vector Machines'] = svm.SVC(random_state=5, class_weight=\"balanced\")\n",
    "\n",
    "# Stochastic Gradient Descent\n",
    "from sklearn.linear_model import SGDClassifier\n",
    "models['Stochastic Gradient Descent'] = SGDClassifier(random_state=5, class_weight=\"balanced\", loss=\"log_loss\")\n",
    "\n",
    "# Random Forest\n",
    "from sklearn.ensemble import RandomForestClassifier\n",
    "models['Random Forest'] = RandomForestClassifier(random_state=5, class_weight=\"balanced\")\n",
    "\n",
    "# AdaBoost\n",
    "from sklearn.ensemble import AdaBoostClassifier\n",
    "models['AdaBoost'] = AdaBoostClassifier(random_state=5)\n",
    "\n",
    "\n",
    "# XGBoost\n",
    "from xgboost import XGBClassifier\n",
    "models['XGBoost'] = XGBClassifier(random_state=5, objective='binary:logistic', booster='gbtree')"
   ]
  },
  {
   "cell_type": "code",
   "execution_count": 72,
   "id": "16ad9854",
   "metadata": {},
   "outputs": [
    {
     "data": {
      "text/plain": [
       "{'Logistic Regression': LogisticRegression(class_weight='balanced', random_state=5),\n",
       " 'Support Vector Machines': SVC(class_weight='balanced', random_state=5),\n",
       " 'Stochastic Gradient Descent': SGDClassifier(class_weight='balanced', loss='log_loss', random_state=5),\n",
       " 'Random Forest': RandomForestClassifier(class_weight='balanced', random_state=5),\n",
       " 'AdaBoost': AdaBoostClassifier(random_state=5),\n",
       " 'XGBoost': XGBClassifier(base_score=None, booster='gbtree', callbacks=None,\n",
       "               colsample_bylevel=None, colsample_bynode=None,\n",
       "               colsample_bytree=None, early_stopping_rounds=None,\n",
       "               enable_categorical=False, eval_metric=None, feature_types=None,\n",
       "               gamma=None, gpu_id=None, grow_policy=None, importance_type=None,\n",
       "               interaction_constraints=None, learning_rate=None, max_bin=None,\n",
       "               max_cat_threshold=None, max_cat_to_onehot=None,\n",
       "               max_delta_step=None, max_depth=None, max_leaves=None,\n",
       "               min_child_weight=None, missing=nan, monotone_constraints=None,\n",
       "               n_estimators=100, n_jobs=None, num_parallel_tree=None,\n",
       "               predictor=None, random_state=5, ...)}"
      ]
     },
     "execution_count": 72,
     "metadata": {},
     "output_type": "execute_result"
    }
   ],
   "source": [
    "models"
   ]
  },
  {
   "cell_type": "markdown",
   "id": "e1dc7e53",
   "metadata": {},
   "source": [
    "# Model Training"
   ]
  },
  {
   "cell_type": "code",
   "execution_count": 73,
   "id": "1eec4ff0",
   "metadata": {},
   "outputs": [
    {
     "name": "stdout",
     "output_type": "stream",
     "text": [
      "Min: 2022-02-25 00:00:00 Max: 2023-01-20 00:00:00\n"
     ]
    }
   ],
   "source": [
    "min_date = dataset['day_datetime'].min()\n",
    "max_date = dataset['day_datetime'].max()\n",
    "print(\"Min:\", min_date, \"Max:\", max_date)"
   ]
  },
  {
   "cell_type": "code",
   "execution_count": 74,
   "id": "47e986f9",
   "metadata": {},
   "outputs": [
    {
     "data": {
      "text/plain": [
       "Timestamp('2022-10-29 18:00:00')"
      ]
     },
     "execution_count": 74,
     "metadata": {},
     "output_type": "execute_result"
    }
   ],
   "source": [
    "train_percent = .75\n",
    "time_between = max_date - min_date\n",
    "train_cutoff = min_date + train_percent*time_between\n",
    "train_cutoff"
   ]
  },
  {
   "cell_type": "code",
   "execution_count": 75,
   "id": "26c77ac8",
   "metadata": {},
   "outputs": [],
   "source": [
    "train_df = dataset[dataset['day_datetime'] <= train_cutoff]\n",
    "test_df = dataset[dataset['day_datetime'] > train_cutoff]"
   ]
  },
  {
   "cell_type": "code",
   "execution_count": 76,
   "id": "73057724",
   "metadata": {},
   "outputs": [],
   "source": [
    "# Split the dataset into features (X) and target (y)\n",
    "X_train, X_test = train_df.drop(columns=['target', 'day_datetime']), test_df.drop(columns=['target', 'day_datetime'])\n",
    "y_train, y_test = train_df['target'], test_df['target']"
   ]
  },
  {
   "cell_type": "code",
   "execution_count": null,
   "id": "fe217fb4",
   "metadata": {},
   "outputs": [
    {
     "name": "stdout",
     "output_type": "stream",
     "text": [
      "Logistic Regression\n"
     ]
    },
    {
     "name": "stderr",
     "output_type": "stream",
     "text": [
      "C:\\Users\\Stepan_Kalika\\AppData\\Roaming\\Python\\Python38\\site-packages\\sklearn\\utils\\validation.py:768: UserWarning: pandas.DataFrame with sparse columns found.It will be converted to a dense numpy array.\n",
      "  warnings.warn(\n",
      "C:\\Users\\Stepan_Kalika\\AppData\\Roaming\\Python\\Python38\\site-packages\\sklearn\\linear_model\\_logistic.py:458: ConvergenceWarning: lbfgs failed to converge (status=1):\n",
      "STOP: TOTAL NO. of ITERATIONS REACHED LIMIT.\n",
      "\n",
      "Increase the number of iterations (max_iter) or scale the data as shown in:\n",
      "    https://scikit-learn.org/stable/modules/preprocessing.html\n",
      "Please also refer to the documentation for alternative solver options:\n",
      "    https://scikit-learn.org/stable/modules/linear_model.html#logistic-regression\n",
      "  n_iter_i = _check_optimize_result(\n",
      "C:\\Users\\Stepan_Kalika\\AppData\\Roaming\\Python\\Python38\\site-packages\\sklearn\\utils\\validation.py:768: UserWarning: pandas.DataFrame with sparse columns found.It will be converted to a dense numpy array.\n",
      "  warnings.warn(\n",
      "C:\\Users\\Stepan_Kalika\\AppData\\Roaming\\Python\\Python38\\site-packages\\sklearn\\utils\\validation.py:768: UserWarning: pandas.DataFrame with sparse columns found.It will be converted to a dense numpy array.\n",
      "  warnings.warn(\n"
     ]
    },
    {
     "name": "stdout",
     "output_type": "stream",
     "text": [
      "0.2895885493984446 0.9916678239133454 0.18242898017576128\n",
      "Support Vector Machines\n"
     ]
    },
    {
     "name": "stderr",
     "output_type": "stream",
     "text": [
      "C:\\Users\\Stepan_Kalika\\AppData\\Roaming\\Python\\Python38\\site-packages\\sklearn\\utils\\validation.py:768: UserWarning: pandas.DataFrame with sparse columns found.It will be converted to a dense numpy array.\n",
      "  warnings.warn(\n"
     ]
    }
   ],
   "source": [
    "predict, predict_proba, accuracy, precision, recall, f1_score = {}, {}, {}, {}, {}, {}\n",
    "\n",
    "for key in models.keys():\n",
    "    print(key)\n",
    "\n",
    "    # Fit the classifier\n",
    "    models[key].fit(X_train, y_train)\n",
    "\n",
    "    # Make predictions\n",
    "    test_pred = models[key].predict(X_test)\n",
    "    test_prob = models[key].predict_proba(X_test)[:, 1]\n",
    "\n",
    "    # Calculate metrics\n",
    "    predict[key] = test_pred\n",
    "    predict_proba[key] = test_prob\n",
    "    accuracy[key] = accuracy_score(test_pred, y_test)\n",
    "    precision[key] = precision_score(test_pred, y_test)\n",
    "    recall[key] = recall_score(test_pred, y_test)\n",
    "    f1_score[key] = f1_score(test_pred, y_test)\n",
    "    print(accuracy[key], precision[key], recall[key])"
   ]
  },
  {
   "cell_type": "code",
   "execution_count": null,
   "id": "92b627fe",
   "metadata": {},
   "outputs": [],
   "source": [
    "df_model = pd.DataFrame(index=models.keys(), columns=['Accuracy', 'Precision', 'Recall'])\n",
    "df_model['Accuracy'] = accuracy.values()\n",
    "df_model['Precision'] = precision.values()\n",
    "df_model['Recall'] = recall.values()\n",
    "\n",
    "df_model"
   ]
  },
  {
   "cell_type": "code",
   "execution_count": null,
   "id": "6470d318",
   "metadata": {},
   "outputs": [],
   "source": [
    "for key in models.keys():\n",
    "    print(f\"Confusion matrix for {key}\")\n",
    "    print(confusion_matrix(y_test, test_pred[key]))"
   ]
  },
  {
   "cell_type": "code",
   "execution_count": null,
   "id": "7ab11820",
   "metadata": {},
   "outputs": [],
   "source": []
  },
  {
   "cell_type": "code",
   "execution_count": null,
   "id": "40a32240",
   "metadata": {},
   "outputs": [],
   "source": []
  },
  {
   "cell_type": "code",
   "execution_count": 44,
   "id": "81cd879b",
   "metadata": {},
   "outputs": [
    {
     "name": "stdout",
     "output_type": "stream",
     "text": [
      "[[36497  1435]\n",
      " [ 2257  4944]]\n",
      "              precision    recall  f1-score   support\n",
      "\n",
      "           0       0.94      0.96      0.95     37932\n",
      "           1       0.78      0.69      0.73      7201\n",
      "\n",
      "    accuracy                           0.92     45133\n",
      "   macro avg       0.86      0.82      0.84     45133\n",
      "weighted avg       0.92      0.92      0.92     45133\n",
      "\n"
     ]
    }
   ],
   "source": [
    "# Confusion matrix\n",
    "print(confusion_matrix(y_test, predictions))\n",
    "\n",
    "# Classification report\n",
    "print(classification_report(y_test, predictions))"
   ]
  },
  {
   "cell_type": "code",
   "execution_count": null,
   "id": "4cfcc1a4",
   "metadata": {},
   "outputs": [],
   "source": []
  },
  {
   "cell_type": "code",
   "execution_count": null,
   "id": "c7919b19",
   "metadata": {},
   "outputs": [],
   "source": []
  },
  {
   "cell_type": "code",
   "execution_count": null,
   "id": "ab3263f3",
   "metadata": {},
   "outputs": [],
   "source": []
  },
  {
   "cell_type": "markdown",
   "id": "e37abcfe",
   "metadata": {},
   "source": [
    "# Model Evaluation"
   ]
  },
  {
   "cell_type": "code",
   "execution_count": 26,
   "id": "029ce666",
   "metadata": {},
   "outputs": [
    {
     "name": "stderr",
     "output_type": "stream",
     "text": [
      "C:\\Users\\Stepan_Kalika\\AppData\\Roaming\\Python\\Python38\\site-packages\\sklearn\\utils\\validation.py:768: UserWarning: pandas.DataFrame with sparse columns found.It will be converted to a dense numpy array.\n",
      "  warnings.warn(\n",
      "C:\\Users\\Stepan_Kalika\\AppData\\Roaming\\Python\\Python38\\site-packages\\sklearn\\linear_model\\_logistic.py:458: ConvergenceWarning: lbfgs failed to converge (status=1):\n",
      "STOP: TOTAL NO. of ITERATIONS REACHED LIMIT.\n",
      "\n",
      "Increase the number of iterations (max_iter) or scale the data as shown in:\n",
      "    https://scikit-learn.org/stable/modules/preprocessing.html\n",
      "Please also refer to the documentation for alternative solver options:\n",
      "    https://scikit-learn.org/stable/modules/linear_model.html#logistic-regression\n",
      "  n_iter_i = _check_optimize_result(\n"
     ]
    },
    {
     "ename": "NameError",
     "evalue": "name 'model' is not defined",
     "output_type": "error",
     "traceback": [
      "\u001b[1;31m---------------------------------------------------------------------------\u001b[0m",
      "\u001b[1;31mNameError\u001b[0m                                 Traceback (most recent call last)",
      "\u001b[1;32m<ipython-input-26-345c7a687fb7>\u001b[0m in \u001b[0;36m<module>\u001b[1;34m\u001b[0m\n\u001b[0;32m     26\u001b[0m \u001b[1;33m\u001b[0m\u001b[0m\n\u001b[0;32m     27\u001b[0m     \u001b[1;31m# Evaluate your model on the test set\u001b[0m\u001b[1;33m\u001b[0m\u001b[1;33m\u001b[0m\u001b[1;33m\u001b[0m\u001b[0m\n\u001b[1;32m---> 28\u001b[1;33m     \u001b[0maccuracy\u001b[0m \u001b[1;33m=\u001b[0m \u001b[0mmodel\u001b[0m\u001b[1;33m.\u001b[0m\u001b[0mscore\u001b[0m\u001b[1;33m(\u001b[0m\u001b[0mX_test\u001b[0m\u001b[1;33m,\u001b[0m \u001b[0my_test\u001b[0m\u001b[1;33m)\u001b[0m\u001b[1;33m\u001b[0m\u001b[1;33m\u001b[0m\u001b[0m\n\u001b[0m\u001b[0;32m     29\u001b[0m     \u001b[0mprint\u001b[0m\u001b[1;33m(\u001b[0m\u001b[1;34mf\"Accuracy: {accuracy}\"\u001b[0m\u001b[1;33m)\u001b[0m\u001b[1;33m\u001b[0m\u001b[1;33m\u001b[0m\u001b[0m\n",
      "\u001b[1;31mNameError\u001b[0m: name 'model' is not defined"
     ]
    }
   ],
   "source": [
    "# Split the dataset into features (X) and target (y)\n",
    "X = dataset.drop(columns=['target'])\n",
    "y = dataset['target']\n",
    "\n",
    "# Set the duration of each test set to 2 months\n",
    "test_duration = timedelta(days=60)\n",
    "\n",
    "# Initialize the TimeSeriesSplit object\n",
    "tscv = TimeSeriesSplit(n_splits=len(dataset)//test_duration.days)\n",
    "\n",
    "    \n",
    "# Loop over the splits\n",
    "for train_index, test_index in tscv.split(X):\n",
    "    # Get the start and end times of the test set\n",
    "    test_start_time = X.iloc[test_index[0]]['day_datetime']\n",
    "    test_end_time = X.iloc[test_index[-1]]['day_datetime']\n",
    "\n",
    "    # Split the data into train and test sets based on the time duration of the test set\n",
    "    train_mask = (X['day_datetime'] < test_start_time) | (X['day_datetime'] > test_end_time)\n",
    "    test_mask = (X['day_datetime'] >= test_start_time) & (X['day_datetime'] <= test_end_time)\n",
    "    X_train, X_test = X.loc[train_mask].drop(columns=['day_datetime']), X.loc[test_mask].drop(columns=['day_datetime'])\n",
    "    y_train, y_test = y.loc[train_mask], y.loc[test_mask]\n",
    "\n",
    "    # Train your machine learning model using X_train and y_train\n",
    "    models['Logistic Regression'].fit(X_train, y_train)\n",
    "\n",
    "    # Evaluate your model on the test set\n",
    "    accuracy = models['Logistic Regression'.score(X_test, y_test)\n",
    "    print(f\"Accuracy: {accuracy}\")"
   ]
  },
  {
   "cell_type": "code",
   "execution_count": 27,
   "id": "5837d711",
   "metadata": {},
   "outputs": [
    {
     "data": {
      "text/plain": [
       "3214"
      ]
     },
     "execution_count": 27,
     "metadata": {},
     "output_type": "execute_result"
    }
   ],
   "source": [
    "len(dataset)//test_duration.days"
   ]
  },
  {
   "cell_type": "code",
   "execution_count": null,
   "id": "7dbef806",
   "metadata": {},
   "outputs": [],
   "source": [
    "print('Log loss = {:.5f}'.format(log_loss(y_test, test_prob)))\n",
    "print('AUC = {:.5f}'.format(roc_auc_score(y_test, test_prob)))\n",
    "print('Average Precision = {:.5f}'.format(average_precision_score(y_test, test_prob)))\n",
    "print('\\nUsing 0.5 as threshold:')\n",
    "print('Accuracy = {:.5f}'.format(accuracy_score(y_test, test_pred)))\n",
    "print('Precision = {:.5f}'.format(precision_score(y_test, test_pred)))\n",
    "print('Recall = {:.5f}'.format(recall_score(y_test, test_pred)))\n",
    "print('F1 score = {:.5f}'.format(f1_score(y_test, test_pred)))\n",
    "\n",
    "print('\\nClassification Report')\n",
    "print(classification_report(y_test, test_pred))"
   ]
  },
  {
   "cell_type": "code",
   "execution_count": null,
   "id": "8da45b53",
   "metadata": {},
   "outputs": [],
   "source": []
  },
  {
   "cell_type": "code",
   "execution_count": null,
   "id": "33e8ceca",
   "metadata": {},
   "outputs": [],
   "source": []
  },
  {
   "cell_type": "code",
   "execution_count": null,
   "id": "0e956209",
   "metadata": {},
   "outputs": [],
   "source": [
    "pd.DataFrame(\n",
    "    {\"feat\": independent_columns_names, \"coef\": lr.coef_.flatten().tolist()}\n",
    ").sort_values(by=\"coef\", ascending=False)"
   ]
  },
  {
   "cell_type": "code",
   "execution_count": null,
   "id": "7c04e47a",
   "metadata": {},
   "outputs": [],
   "source": []
  },
  {
   "cell_type": "code",
   "execution_count": null,
   "id": "7187813d",
   "metadata": {},
   "outputs": [],
   "source": []
  },
  {
   "cell_type": "code",
   "execution_count": null,
   "id": "5f8729a0",
   "metadata": {},
   "outputs": [],
   "source": [
    "\n"
   ]
  },
  {
   "cell_type": "code",
   "execution_count": null,
   "id": "6185410d",
   "metadata": {},
   "outputs": [],
   "source": []
  },
  {
   "cell_type": "code",
   "execution_count": null,
   "id": "9df6f8ce",
   "metadata": {},
   "outputs": [],
   "source": []
  }
 ],
 "metadata": {
  "kernelspec": {
   "display_name": "Python 3",
   "language": "python",
   "name": "python3"
  },
  "language_info": {
   "codemirror_mode": {
    "name": "ipython",
    "version": 3
   },
   "file_extension": ".py",
   "mimetype": "text/x-python",
   "name": "python",
   "nbconvert_exporter": "python",
   "pygments_lexer": "ipython3",
   "version": "3.8.0"
  },
  "toc": {
   "base_numbering": 1,
   "nav_menu": {},
   "number_sections": true,
   "sideBar": true,
   "skip_h1_title": false,
   "title_cell": "Table of Contents",
   "title_sidebar": "Contents",
   "toc_cell": false,
   "toc_position": {},
   "toc_section_display": true,
   "toc_window_display": true
  }
 },
 "nbformat": 4,
 "nbformat_minor": 5
}
