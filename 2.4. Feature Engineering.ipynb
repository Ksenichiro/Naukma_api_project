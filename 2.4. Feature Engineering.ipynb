{
 "cells": [
  {
   "cell_type": "code",
   "execution_count": 110,
   "id": "d74fd986",
   "metadata": {},
   "outputs": [],
   "source": [
    "import pandas as pd\n",
    "from dateutil import parser"
   ]
  },
  {
   "cell_type": "code",
   "execution_count": 111,
   "id": "acb9e6d1",
   "metadata": {},
   "outputs": [],
   "source": [
    "#constants\n",
    "LARGE_DATASET_LOC = 'data/4_all_data_preprocessed/all_hourly_weather_events_v2.csv'\n",
    "FEATURE_ENGINEERING_FOLDER = 'data/3_feature_engineering/'\n",
    "\n",
    "ALARMS_ONLY_DATASET = 'data/1_events/alarms.csv'\n",
    "HOLIDAY_DATASET = 'data/1_holidays/holidays.csv'\n",
    "\n",
    "RESULT_DATASET = 'features_generated'"
   ]
  },
  {
   "cell_type": "code",
   "execution_count": 112,
   "id": "651f5b62",
   "metadata": {},
   "outputs": [],
   "source": [
    "def read_df(): #reads main dataset\n",
    "    df = pd.read_csv(LARGE_DATASET_LOC, sep=';')   \n",
    "    return df\n",
    "\n",
    "def save_df(df, name):\n",
    "    df.to_csv(FEATURE_ENGINEERING_FOLDER + name + '.csv', sep=';')\n",
    "\n",
    "def read_df_custom(filename):\n",
    "    df = pd.read_csv(filename, sep=';')    \n",
    "    return df\n",
    "\n",
    "def read_alarms_only_df(): # read dataset with alarms\n",
    "    df_alarms_only = read_df_custom(ALARMS_ONLY_DATASET)\n",
    "    df_alarms_only[['start', 'end']] = df_alarms_only[['start', 'end']].apply(pd.to_datetime)\n",
    "    return df_alarms_only\n",
    "\n",
    "def read_holiday_df(): # custom made dataset with most \"important\" russian hollidays\n",
    "    holiday_df = pd.read_csv(HOLIDAY_DATASET, sep=';')\n",
    "    holiday_df['date'] = holiday_df['date'].apply(pd.to_datetime)\n",
    "    holiday_df = holiday_df.sort_values(by=['date'])\n",
    "    holiday_df = holiday_df.set_index('date')\n",
    "    return holiday_df"
   ]
  },
  {
   "cell_type": "code",
   "execution_count": 113,
   "id": "cfd6a295",
   "metadata": {},
   "outputs": [],
   "source": [
    "def get_row_date_time(row):\n",
    "    return parser.parse(row['day_datetime'] + ' ' + row['hour_datetime'])"
   ]
  },
  {
   "cell_type": "code",
   "execution_count": 114,
   "id": "8769a12e",
   "metadata": {},
   "outputs": [
    {
     "data": {
      "text/plain": [
       "\"def holiday_is_near(df, holiday_df):\\n    df['event_holiday_is_near'] = False\\n    \\n    for index, row in df.iterrows():\\n        datetime = parser.parse(row['day_datetime'])\\n        closest_holiday = holiday_df.index[holiday_df.index.get_loc(datetime, method='nearest')]\\n        value = abs(pd.Timedelta(datetime - closest_holiday).days) <= 3\\n        df['event_holiday_is_near'][index] = value\\n        \\n        if(index % 1000 == 0):\\n            print(index)\""
      ]
     },
     "execution_count": 114,
     "metadata": {},
     "output_type": "execute_result"
    }
   ],
   "source": [
    "# calculating features\n",
    "\n",
    "def alarm_past_24_hours(df, df_alarms_only):\n",
    "    df['event_alarms_past_24'] = df.apply(lambda row: df_alarms_only[(df_alarms_only['region_title'] == row['region_alt']) &\n",
    "                                                                      (df_alarms_only['end'] > row['datetime_cache'] - pd.Timedelta(hours=24)) &\n",
    "                                                                      (df_alarms_only['end'] < row['datetime_cache'])].shape[0], axis=1)\n",
    "\n",
    "\"\"\"def alarm_past_24_hours(df, df_alarms_only):    \n",
    "    df['event_alarms_past_24'] = 0\n",
    "    \n",
    "    for index, row in df.iterrows():\n",
    "        datetime = get_row_date_time(row)\n",
    "        filter1 = (df_alarms_only['region_title'] == row['region_alt']) & (df_alarms_only['end'] > datetime - pd.Timedelta(hours=24)) & (df_alarms_only['end'] < datetime)\n",
    "        count = len(df_alarms_only[filter1].index)\n",
    "        df['event_alarms_past_24'][index] = count\n",
    "        \n",
    "        if(index % 1000 == 0):\n",
    "            print(index)\"\"\"\n",
    "\n",
    "\n",
    "def count_alarm_overlap(df, df_alarms_only):\n",
    "    df['event_simultaneous_alarms'] = df.apply(lambda row: ((df_alarms_only['start'] < row['datetime_cache']) & \n",
    "                                                              (df_alarms_only['end'] > row['datetime_cache'])).sum(), axis=1)\n",
    "\n",
    "\n",
    "\"\"\"def count_alarm_overlap(df, df_alarms_only):    \n",
    "    df['event_simultaneous_alarms'] = -1\n",
    "    \n",
    "    for index, row in df.iterrows():\n",
    "        datetime = get_row_date_time(row)\n",
    "        filter1 = (df_alarms_only['start'] < datetime) & (df_alarms_only['end'] > datetime)\n",
    "        \n",
    "        count = len(df_alarms_only[filter1].index)\n",
    "        df['event_simultaneous_alarms'][index] = count\n",
    "        \n",
    "        if(index % 1000 == 0):\n",
    "            print(index)\"\"\"\n",
    "\n",
    "def hours_from_prev_alarm(df, df_alarms_only):\n",
    "    df['event_hours_from_last_alarm'] = df.apply(lambda row: (row['datetime_cache'] - df_alarms_only[(df_alarms_only['region_title'] == row['region_alt']) &\n",
    "                                                             (df_alarms_only['end'] < row['datetime_cache'])]['end'].max()).seconds / 3600, axis=1)\n",
    "\n",
    "\"\"\"def hours_from_prev_alarm(df, df_alarms_only):\n",
    "    df['event_hours_from_last_alarm'] = -1\n",
    "    \n",
    "    for index, row in df.iterrows():\n",
    "        datetime = get_row_date_time(row)\n",
    "        filter1 = (df_alarms_only['region_title'] == row['region_alt']) & (df_alarms_only['end'] < datetime)\n",
    "        value = pd.Timedelta(datetime - df_alarms_only[filter1]['end'].max()).seconds / 3600;\n",
    "        df['event_hours_from_last_alarm'][index] = value\n",
    "        \n",
    "        if(index % 1000 == 0):\n",
    "            print(index)\"\"\"\n",
    "\n",
    "def holiday_is_near(df, holiday_df):\n",
    "    df['event_holiday_is_near'] = df.apply(lambda row: abs(pd.Timedelta(parser.parse(row['day_datetime']) - \n",
    "                                                holiday_df.index[holiday_df.index.get_loc(parser.parse(row['day_datetime']), method='nearest')]).days) <= 3, axis=1)\n",
    "\n",
    "\"\"\"def holiday_is_near(df, holiday_df):\n",
    "    df['event_holiday_is_near'] = False\n",
    "    \n",
    "    for index, row in df.iterrows():\n",
    "        datetime = parser.parse(row['day_datetime'])\n",
    "        closest_holiday = holiday_df.index[holiday_df.index.get_loc(datetime, method='nearest')]\n",
    "        value = abs(pd.Timedelta(datetime - closest_holiday).days) <= 3\n",
    "        df['event_holiday_is_near'][index] = value\n",
    "        \n",
    "        if(index % 1000 == 0):\n",
    "            print(index)\"\"\""
   ]
  },
  {
   "cell_type": "code",
   "execution_count": 115,
   "id": "7cdc0049",
   "metadata": {},
   "outputs": [
    {
     "name": "stdout",
     "output_type": "stream",
     "text": [
      "start alarm_past_24_hours\n",
      "start count_alarm_overlap\n",
      "start hours_from_prev_alarm\n",
      "start holiday_is_near\n"
     ]
    },
    {
     "name": "stderr",
     "output_type": "stream",
     "text": [
      "C:\\Users\\tmyro\\AppData\\Local\\Temp\\ipykernel_23304\\3254020275.py:57: FutureWarning: Passing method to DatetimeIndex.get_loc is deprecated and will raise in a future version. Use index.get_indexer([item], method=...) instead.\n",
      "  holiday_df.index[holiday_df.index.get_loc(parser.parse(row['day_datetime']), method='nearest')]).days) <= 3, axis=1)\n"
     ]
    }
   ],
   "source": [
    "# 20 min\n",
    "# read all datasets\n",
    "df = read_df()\n",
    "df_alarms_only = read_alarms_only_df()\n",
    "holiday_df = read_holiday_df()\n",
    "\n",
    "# cache row time\n",
    "df['datetime_cache'] = df.apply(get_row_date_time, axis=1)\n",
    "\n",
    "# generate features\n",
    "print('start alarm_past_24_hours')\n",
    "alarm_past_24_hours(df, df_alarms_only)\n",
    "print('start count_alarm_overlap')\n",
    "count_alarm_overlap(df, df_alarms_only)\n",
    "print('start hours_from_prev_alarm')\n",
    "hours_from_prev_alarm(df, df_alarms_only)\n",
    "print('start holiday_is_near')\n",
    "holiday_is_near(df, holiday_df)\n",
    "\n",
    "# drop cached time\n",
    "df.drop('datetime_cache', axis=1, inplace=True)\n",
    "\n",
    "# save\n",
    "save_df(df, f'{RESULT_DATASET}_v1')    "
   ]
  }
 ],
 "metadata": {
  "kernelspec": {
   "display_name": "Python 3 (ipykernel)",
   "language": "python",
   "name": "python3"
  },
  "language_info": {
   "codemirror_mode": {
    "name": "ipython",
    "version": 3
   },
   "file_extension": ".py",
   "mimetype": "text/x-python",
   "name": "python",
   "nbconvert_exporter": "python",
   "pygments_lexer": "ipython3",
   "version": "3.10.0"
  }
 },
 "nbformat": 4,
 "nbformat_minor": 5
}
