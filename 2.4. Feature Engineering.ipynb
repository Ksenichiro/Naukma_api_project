{
 "cells": [
  {
   "cell_type": "code",
   "execution_count": 5,
   "id": "d74fd986",
   "metadata": {},
   "outputs": [],
   "source": [
    "import pandas as pd\n",
    "from dateutil import parser"
   ]
  },
  {
   "cell_type": "code",
   "execution_count": 6,
   "id": "acb9e6d1",
   "metadata": {},
   "outputs": [],
   "source": [
    "#constants\n",
    "LARGE_DATASET_LOC = 'data/4_all_data_preprocessed/all_hourly_weather_events_v2.csv'\n",
    "FEATURE_ENGINEERING_FOLDER = 'data/3_feature_engineering/'\n",
    "\n",
    "ALARMS_ONLY_DATASET = 'data/1_events/alarms.csv'\n",
    "HOLIDAY_DATASET = 'data/1_holidays/holidays.csv'\n",
    "\n",
    "RESULT_FOLDER = 'data/3_feature_engineering'\n",
    "RESULT_DATASET = 'features_generated'"
   ]
  },
  {
   "cell_type": "code",
   "execution_count": 7,
   "id": "651f5b62",
   "metadata": {},
   "outputs": [],
   "source": [
    "def read_df(): #reads main dataset\n",
    "    df = pd.read_csv(LARGE_DATASET_LOC, sep=';')   \n",
    "    return df\n",
    "\n",
    "def save_df(df, name):\n",
    "    df.to_csv(FEATURE_ENGINEERING_FOLDER + name + '.csv', sep=';')\n",
    "\n",
    "def read_df_custom(filename):\n",
    "    df = pd.read_csv(filename, sep=';')    \n",
    "    return df\n",
    "\n",
    "def read_alarms_only_df(): # read dataset with alarms\n",
    "    df_alarms_only = read_df_custom(ALARMS_ONLY_DATASET)\n",
    "    df_alarms_only[['start', 'end']] = df_alarms_only[['start', 'end']].apply(pd.to_datetime)\n",
    "    return df_alarms_only\n",
    "\n",
    "def read_holiday_df(): # custom made dataset with most \"important\" russian hollidays\n",
    "    holiday_df = pd.read_csv(HOLIDAY_DATASET, sep=';')\n",
    "    holiday_df['date'] = holiday_df['date'].apply(pd.to_datetime)\n",
    "    holiday_df = holiday_df.sort_values(by=['date'])\n",
    "    holiday_df = holiday_df.set_index('date')\n",
    "    return holiday_df"
   ]
  },
  {
   "cell_type": "code",
   "execution_count": 8,
   "id": "cfd6a295",
   "metadata": {},
   "outputs": [],
   "source": [
    "def get_row_date_time(row):\n",
    "    return parser.parse(row['day_datetime'] + ' ' + row['hour_datetime'])"
   ]
  },
  {
   "cell_type": "code",
   "execution_count": 9,
   "id": "8769a12e",
   "metadata": {},
   "outputs": [],
   "source": [
    "# calculating features\n",
    "\n",
    "def alarm_past_24_hours(df, df_alarms_only):    \n",
    "    df['event_alarms_past_24'] = 0\n",
    "    \n",
    "    for index, row in df.iterrows():\n",
    "        datetime = get_row_date_time(row)\n",
    "        filter1 = (df_alarms_only['region_id'] == row['region_id']) & (df_alarms_only['end'] > datetime - pd.Timedelta(hours=24)) & (df_alarms_only['end'] < datetime)\n",
    "        count = len(df_alarms_only[filter1].index)\n",
    "        df['event_alarms_past_24'][index] = count\n",
    "        \n",
    "        if(index % 1000 == 0):\n",
    "            print(index)\n",
    "            \n",
    "def count_alarm_overlap(df, df_alarms_only):    \n",
    "    df['event_simultaneous_alarms'] = -1\n",
    "    \n",
    "    for index, row in df.iterrows():\n",
    "        datetime = get_row_date_time(row)\n",
    "        filter1 = (df_alarms_only['start'] < datetime) & (df_alarms_only['end'] > datetime)\n",
    "        \n",
    "        count = len(df_alarms_only[filter1].index)\n",
    "        df['event_simultaneous_alarms'][index] = count\n",
    "        \n",
    "        if(index % 1000 == 0):\n",
    "            print(index)\n",
    "            \n",
    "def hours_from_prev_alarm(df, df_alarms_only):\n",
    "    df['event_hours_from_last_alarm'] = -1\n",
    "    \n",
    "    for index, row in df.iterrows():\n",
    "        datetime = get_row_date_time(row)\n",
    "        filter1 = (df_alarms_only['region_id'] == row['region_id']) & (df_alarms_only['end'] < datetime)\n",
    "        value = pd.Timedelta(datetime - df_alarms_only[filter1]['end'].max()).seconds / 3600;\n",
    "        df['event_hours_from_last_alarm'][index] = value\n",
    "        \n",
    "        if(index % 1000 == 0):\n",
    "            print(index)\n",
    "            \n",
    "def holiday_is_near(df, holiday_df):\n",
    "    df['event_holiday_is_near'] = False\n",
    "    \n",
    "    for index, row in df.iterrows():\n",
    "        datetime = parser.parse(row['day_datetime'])\n",
    "        closest_holiday = holiday_df.index[holiday_df.index.get_loc(datetime, method='nearest')]\n",
    "        value = abs(pd.Timedelta(datetime - closest_holiday).days) <= 3\n",
    "        df['event_holiday_is_near'][index] = value\n",
    "        \n",
    "        if(index % 1000 == 0):\n",
    "            print(index)"
   ]
  },
  {
   "cell_type": "code",
   "execution_count": null,
   "id": "f163c0f9",
   "metadata": {},
   "outputs": [],
   "source": [
    "# read all datasets\n",
    "\n",
    "df = read_df()\n",
    "df_alarms_only = read_alarms_only_df()\n",
    "holiday_df = read_holiday_df()\n",
    "\n",
    "# generate features\n",
    "\n",
    "print('start alarm_past_24_hours')\n",
    "alarm_past_24_hours(df, df_alarms_only)\n",
    "print('start count_alarm_overlap')\n",
    "count_alarm_overlap(df, df_alarms_only)\n",
    "print('start hours_from_prev_alarm')\n",
    "hours_from_prev_alarm(df, df_alarms_only)\n",
    "print('start holiday_is_near')\n",
    "holiday_is_near(df, holiday_df)\n",
    "\n",
    "# save\n",
    "save_df(df, f'{RESULT_FOLDER}/{RESULT_DATASET}_v1')    "
   ]
  },
  {
   "cell_type": "code",
   "execution_count": null,
   "id": "e1ac334e",
   "metadata": {},
   "outputs": [],
   "source": []
  }
 ],
 "metadata": {
  "kernelspec": {
   "display_name": "Python 3 (ipykernel)",
   "language": "python",
   "name": "python3"
  },
  "language_info": {
   "codemirror_mode": {
    "name": "ipython",
    "version": 3
   },
   "file_extension": ".py",
   "mimetype": "text/x-python",
   "name": "python",
   "nbconvert_exporter": "python",
   "pygments_lexer": "ipython3",
   "version": "3.9.10"
  }
 },
 "nbformat": 4,
 "nbformat_minor": 5
}
