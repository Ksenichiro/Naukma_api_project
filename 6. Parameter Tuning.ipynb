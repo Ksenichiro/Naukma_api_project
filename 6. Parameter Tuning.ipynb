{
 "cells": [
  {
   "cell_type": "code",
   "execution_count": 2,
   "id": "ad15dc9e",
   "metadata": {},
   "outputs": [],
   "source": [
    "import pandas as pd\n",
    "import numpy as np\n",
    "\n",
    "import pickle\n",
    "from dateutil.parser import parse\n",
    "from sklearn.datasets import load_iris\n",
    "from sklearn.linear_model import LogisticRegression\n",
    "from sklearn.linear_model import SGDClassifier\n",
    "from sklearn.svm import SVC\n",
    "from sklearn.experimental import enable_halving_search_cv\n",
    "from sklearn.model_selection import HalvingGridSearchCV\n",
    "from time import time\n",
    "from sklearn.metrics import accuracy_score"
   ]
  },
  {
   "cell_type": "code",
   "execution_count": 3,
   "id": "29972352",
   "metadata": {},
   "outputs": [],
   "source": [
    "PROCESSED_DATA_FOLDER = \"data/4_all_data_preprocessed\"\n",
    "TRAIN_DATASET_FILE = \"train_dataset.pkl\"\n",
    "TEST_DATASET_FILE = \"test_dataset.pkl\"\n",
    "\n",
    "RESULT_DIR = \"data/hyperparams_tune\""
   ]
  },
  {
   "cell_type": "code",
   "execution_count": 4,
   "id": "b3704ae8",
   "metadata": {
    "scrolled": true
   },
   "outputs": [],
   "source": [
    "with open(f\"{PROCESSED_DATA_FOLDER}/{TRAIN_DATASET_FILE}\", 'rb') as handle:\n",
    "    df_train = pickle.load(handle)\n",
    "    \n",
    "with open(f\"{PROCESSED_DATA_FOLDER}/{TEST_DATASET_FILE}\", 'rb') as handle:\n",
    "    df_test = pickle.load(handle)\n"
   ]
  },
  {
   "cell_type": "code",
   "execution_count": 5,
   "id": "d17be8ca",
   "metadata": {},
   "outputs": [],
   "source": [
    "# LOAD TRAIN AND TEST DATA\n",
    "# PLEASE UPDATE BEFORE USING REST OF THE FILE\n",
    "# IN CASE YOU HAVE TE DATASETS STORED ELSEWHERE\n",
    "\n",
    "df_train = df_train.fillna(0)\n",
    "train_y = df_train.event_indicator\n",
    "y = df_train.event_indicator.astype(float)\n",
    "train_x = df_train.drop([\"isw_date_tomorrow_datetime\", \"day_datetime\", \"city_resolvedAddress\", \"event_indicator\"], axis=1)\n",
    "\n",
    "df_test = df_test.fillna(0)\n",
    "test_y = df_test.event_indicator\n",
    "y = df_test.event_indicator.astype(float)\n",
    "test_x = df_test.drop([\"isw_date_tomorrow_datetime\", \"day_datetime\", \"city_resolvedAddress\", \"event_indicator\"], axis=1)"
   ]
  },
  {
   "cell_type": "code",
   "execution_count": 6,
   "id": "6ff2c011",
   "metadata": {},
   "outputs": [],
   "source": [
    "def tune_with_halving_grid_search(x_train, y_train, param_grid, model, result_name):\n",
    "    start = time()\n",
    "    halving_gs_results = HalvingGridSearchCV(\n",
    "        model,\n",
    "        param_grid,\n",
    "        cv=3,\n",
    "        factor=3,\n",
    "        min_resources='exhaust',\n",
    "        verbose=10\n",
    "    ).fit(x_train, y_train)\n",
    "\n",
    "    duration = time() - start\n",
    "\n",
    "    results = pd.DataFrame(halving_gs_results.cv_results_)\n",
    "    results.loc[:, 'mean_test_score'] *= 100\n",
    "\n",
    "    # take the most relevant columns and sort\n",
    "    results = results.loc[:, ('iter', 'rank_test_score', 'mean_test_score', 'params')]\n",
    "    results.sort_values(by=['iter', 'rank_test_score'], ascending=[False, True], inplace=True)\n",
    "    results.to_csv(f\"{RESULT_DIR}/{result_name}.csv\")\n",
    "    \n",
    "    return results, duration"
   ]
  },
  {
   "cell_type": "code",
   "execution_count": 7,
   "id": "dfd3019c",
   "metadata": {},
   "outputs": [],
   "source": [
    "def perform_tune(param_grid, model, result_name):\n",
    "    #halving_results, halving_duration = tune_with_halving_grid_search(train_x[10000:].head(500), train_y[10000:].head(500), param_grid, model, result_name)\n",
    "    halving_results, halving_duration = tune_with_halving_grid_search(train_x[100:], train_y[100:], param_grid, model, result_name)\n",
    "    print(halving_results.head())\n",
    "\n",
    "    score = halving_results['mean_test_score'].iloc[0]\n",
    "    params = halving_results['params'].iloc[0]\n",
    "\n",
    "    print(f'Best score for HalvingGridSearchCv is {score:.3f}, took {halving_duration:.2f} seconds')\n",
    "    print(f'Params: {params}')"
   ]
  },
  {
   "cell_type": "code",
   "execution_count": null,
   "id": "5ea58481",
   "metadata": {
    "scrolled": true
   },
   "outputs": [],
   "source": [
    "# Logistic regression\n",
    "\n",
    "model = LogisticRegression(max_iter=1000)\n",
    "solvers = ['newton-cg', 'lbfgs', 'liblinear']\n",
    "penalty = ['l2']\n",
    "c_values = [100, 10, 1.0, 0.1, 0.01]\n",
    "\n",
    "param_grid = dict(solver=solvers,penalty=penalty,C=c_values)\n",
    "\n",
    "perform_tune(param_grid, model, 'LogisticRegression_Hyperparams')"
   ]
  },
  {
   "cell_type": "code",
   "execution_count": null,
   "id": "4ed8c8ac",
   "metadata": {
    "scrolled": true
   },
   "outputs": [],
   "source": [
    "# Support Vector Machines\n",
    "\n",
    "model = SVC()\n",
    "kernel = ['poly', 'rbf', 'sigmoid']\n",
    "C = [50, 10, 1.0, 0.1, 0.01]\n",
    "gamma = ['scale']\n",
    "tol = [1e-3, 1e-2]\n",
    "\n",
    "param_grid = dict(kernel=kernel,C=C,gamma=gamma,tol=tol)\n",
    "\n",
    "perform_tune(param_grid, model, 'SupportVectorMachine_Hyperparams')"
   ]
  },
  {
   "cell_type": "code",
   "execution_count": null,
   "id": "46c52472",
   "metadata": {},
   "outputs": [],
   "source": [
    "# Stochastic Gradient Descent\n",
    "model = SGDClassifier()\n",
    "penalty = [None, 'l2', 'l1', 'elasticnet']\n",
    "alpha = [1e-4, 1e-3, 1e-2]\n",
    "tol = [1e-3, 1e-2]\n",
    "\n",
    "param_grid = dict(penalty=penalty,alpha=alpha,tol=tol)\n",
    "\n",
    "perform_tune(param_grid, model, 'StochasticGradientDescent_Hyperparams')"
   ]
  },
  {
   "cell_type": "code",
   "execution_count": null,
   "id": "2c3bd01f",
   "metadata": {},
   "outputs": [],
   "source": [
    "# Random Forest\n",
    "model = RandomForestClassifier()\n",
    "n_estimators = [10, 100, 1000]\n",
    "max_features = ['sqrt', 'log2']\n",
    "\n",
    "grid = dict(n_estimators=n_estimators,max_features=max_features)\n",
    "\n",
    "perform_tune(param_grid, model, 'RandomForest_Hyperparams')"
   ]
  }
 ],
 "metadata": {
  "kernelspec": {
   "display_name": "Python 3 (ipykernel)",
   "language": "python",
   "name": "python3"
  },
  "language_info": {
   "codemirror_mode": {
    "name": "ipython",
    "version": 3
   },
   "file_extension": ".py",
   "mimetype": "text/x-python",
   "name": "python",
   "nbconvert_exporter": "python",
   "pygments_lexer": "ipython3",
   "version": "3.10.4"
  },
  "toc": {
   "base_numbering": 1,
   "nav_menu": {},
   "number_sections": true,
   "sideBar": true,
   "skip_h1_title": false,
   "title_cell": "Table of Contents",
   "title_sidebar": "Contents",
   "toc_cell": false,
   "toc_position": {},
   "toc_section_display": true,
   "toc_window_display": false
  }
 },
 "nbformat": 4,
 "nbformat_minor": 5
}
